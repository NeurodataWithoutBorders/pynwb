{
 "cells": [
  {
   "cell_type": "code",
   "execution_count": 1,
   "id": "0e15e182",
   "metadata": {},
   "outputs": [],
   "source": [
    "from hdmf.common import DynamicTable, VectorData\n",
    "from hdmf.term_set import TermSet\n",
    "\n",
    "from pynwb.resources import ExternalResources\n",
    "from pynwb import NWBFile, NWBHDF5IO\n",
    "from pynwb import get_type_map as tm\n",
    "from pynwb.file import Subject\n",
    "\n",
    "from datetime import datetime\n",
    "from dateutil import tz\n",
    "import numpy as np"
   ]
  },
  {
   "cell_type": "markdown",
   "id": "1941a492",
   "metadata": {},
   "source": [
    "# An Overview NERD"
   ]
  },
  {
   "cell_type": "markdown",
   "id": "3f20146d",
   "metadata": {},
   "source": [
    "### Goals and Use Cases"
   ]
  },
  {
   "cell_type": "markdown",
   "id": "3b5a9e23",
   "metadata": {},
   "source": [
    "To have a FAIR data ecosystem that supports data reuse, the `ExternalResources` class is a toolkit of standardized methods to create and manage linkages between data terms and external resources, such as online ontologies or digital identifiers. Common use cases:\n",
    "\n",
    "* Linking terms from user data to ontologies facilitates standardized diction and semantics of terms to precisely defined neuroscience metadata using existing curated resources, e.g., brain atlases; species taxonomies; and anatomical, cell, and gene function ontologies. \n",
    "* Linking data to persistent digital identifiers (e.g., ORCID, RRID, or DOI) enables unique identification of experimenters, publications, subjects, software, and other resources and assets identified in the experimental metadata.\n",
    "* Linking data to related data assets is essential for integration and interoperability of data across different data archives for experiments involving multiple data modalities."
   ]
  },
  {
   "cell_type": "markdown",
   "id": "6b3748f8",
   "metadata": {},
   "source": [
    "# Using NERD with a single NWB File from the DANDI Archive"
   ]
  },
  {
   "cell_type": "markdown",
   "id": "19921e85",
   "metadata": {},
   "source": [
    "Loading in the file, we can see multiple cases where contextual metadata will be important in regards to creating and sharing FAIR data. We can map the experimenter to a digital identifier, i.e., ORCID. The electrode group has a location that will be mapped to a brain atlas. Lastly, we can map the `Subject` species attribute to an ontology resource, in this case the NCBI Taxonomy."
   ]
  },
  {
   "cell_type": "code",
   "execution_count": 4,
   "id": "e114746e",
   "metadata": {},
   "outputs": [
    {
     "data": {
      "text/html": [
       "\n",
       "        <style>\n",
       "            .container-fields {\n",
       "                font-family: \"Open Sans\", Arial, sans-serif;\n",
       "            }\n",
       "            .container-fields .field-value {\n",
       "                color: #00788E;\n",
       "            }\n",
       "            .container-fields details > summary {\n",
       "                cursor: pointer;\n",
       "                display: list-item;\n",
       "            }\n",
       "            .container-fields details > summary:hover {\n",
       "                color: #0A6EAA;\n",
       "            }\n",
       "        </style>\n",
       "        \n",
       "        <script>\n",
       "            function copyToClipboard(text) {\n",
       "                navigator.clipboard.writeText(text).then(function() {\n",
       "                    console.log('Copied to clipboard: ' + text);\n",
       "                }, function(err) {\n",
       "                    console.error('Could not copy text: ', err);\n",
       "                });\n",
       "            }\n",
       "\n",
       "            document.addEventListener('DOMContentLoaded', function() {\n",
       "                let fieldKeys = document.querySelectorAll('.container-fields .field-key');\n",
       "                fieldKeys.forEach(function(fieldKey) {\n",
       "                    fieldKey.addEventListener('click', function() {\n",
       "                        let accessCode = fieldKey.getAttribute('title').replace('Access code: ', '');\n",
       "                        copyToClipboard(accessCode);\n",
       "                    });\n",
       "                });\n",
       "            });\n",
       "        </script>\n",
       "        <div class='container-wrap'><div class='container-header'><div class='xr-obj-type'><h3>root (NWBFile)</h3></div></div><div style=\"margin-left: 0px;\" class=\"container-fields\"><span class=\"field-key\" title=\".fields['session_description']\">session_description:</span> <span class=\"field-value\">Data from monkey Haydn performing ready-set-go time interval reproduction task. This file contains continuous segments of the full session on 2016-12-11 that can be used for training models for the Neural Latents Benchmark.</span></div><div style=\"margin-left: 0px;\" class=\"container-fields\"><span class=\"field-key\" title=\".fields['identifier']\">identifier:</span> <span class=\"field-value\">8969f328-3929-11ec-8077-43176b153428</span></div><div style=\"margin-left: 0px;\" class=\"container-fields\"><span class=\"field-key\" title=\".fields['session_start_time']\">session_start_time:</span> <span class=\"field-value\">2016-12-11 00:00:00-05:00</span></div><div style=\"margin-left: 0px;\" class=\"container-fields\"><span class=\"field-key\" title=\".fields['timestamps_reference_time']\">timestamps_reference_time:</span> <span class=\"field-value\">2016-12-11 00:00:00-05:00</span></div><details><summary style=\"display: list-item; margin-left: 0px;\" class=\"container-fields field-key\" title=\".fields['file_create_date']\"><b>file_create_date</b></summary><div style=\"margin-left: 20px;\" class=\"container-fields\"><span class=\"field-value\" title=\".fields['file_create_date'][0]\">2021-10-29 22:31:50.351047-04:00</span></div></details><div style=\"margin-left: 0px;\" class=\"container-fields\"><span class=\"field-key\" title=\".fields['experimenter']\">experimenter:</span> <span class=\"field-value\">('Hansem Sohn',)</span></div><div style=\"margin-left: 0px;\" class=\"container-fields\"><span class=\"field-key\" title=\".fields['related_publications']\">related_publications:</span> <span class=\"field-value\">('http://dx.doi.org/10.1016/j.neuron.2019.06.012',)</span></div><details><summary style=\"display: list-item; margin-left: 0px;\" class=\"container-fields field-key\" title=\".fields['keywords']\"><b>keywords</b></summary></details><div style=\"margin-left: 0px;\" class=\"container-fields\"><span class=\"field-key\" title=\".fields['epoch_tags']\">epoch_tags:</span> <span class=\"field-value\">set()</span></div><details><summary style=\"display: list-item; margin-left: 0px;\" class=\"container-fields field-key\" title=\".fields['electrodes']\"><b>electrodes</b></summary><div style=\"margin-left: 20px;\" class=\"container-fields\"><span class=\"field-key\" title=\".fields['electrodes'].fields['description']\">description:</span> <span class=\"field-value\">metadata about extracellular electrodes</span></div><details><summary style=\"display: list-item; margin-left: 20px;\" class=\"container-fields field-key\" title=\".fields['electrodes'].fields['id']\"><b>id</b></summary></details><div style=\"margin-left: 20px;\" class=\"container-fields\"><span class=\"field-key\" title=\".fields['electrodes'].fields['colnames']\">colnames:</span> <span class=\"field-value\">('x', 'y', 'z', 'imp', 'location', 'filtering', 'group', 'group_name')</span></div><div style=\"margin-left: 20px;\" class=\"container-fields\"><span class=\"field-key\" title=\".fields['electrodes'].fields['columns']\">columns:</span> <span class=\"field-value\">(<hdmf.common.table.VectorData object at 0x1219cbeb0>, <hdmf.common.table.VectorData object at 0x1219cbf10>, <hdmf.common.table.VectorData object at 0x1219cbf70>, <hdmf.common.table.VectorData object at 0x1219cbdf0>, <hdmf.common.table.VectorData object at 0x1219cbe50>, <hdmf.common.table.VectorData object at 0x1219cbc70>, <hdmf.common.table.VectorData object at 0x1219cbd90>, <hdmf.common.table.VectorData object at 0x1219cbd00>)</span></div></details><details><summary style=\"display: list-item; margin-left: 0px;\" class=\"container-fields field-key\" title=\".fields['electrode_groups']\"><b>electrode_groups (3)</b></summary><details><summary style=\"display: list-item; margin-left: 20px;\" class=\"container-fields field-key\" title=\".fields['electrode_groups']['electrode_group_1']\"><b>electrode_group_1</b></summary><div style=\"margin-left: 40px;\" class=\"container-fields\"><span class=\"field-key\" title=\".fields['electrode_groups']['electrode_group_1'].fields['description']\">description:</span> <span class=\"field-value\">Electrodes on a neural probe</span></div><div style=\"margin-left: 40px;\" class=\"container-fields\"><span class=\"field-key\" title=\".fields['electrode_groups']['electrode_group_1'].fields['location']\">location:</span> <span class=\"field-value\">Dorsomedial frontal cortex</span></div><details><summary style=\"display: list-item; margin-left: 40px;\" class=\"container-fields field-key\" title=\".fields['electrode_groups']['electrode_group_1'].fields['device']\"><b>device</b></summary><div style=\"margin-left: 60px;\" class=\"container-fields\"><span class=\"field-key\" title=\".fields['electrode_groups']['electrode_group_1'].fields['device'].fields['description']\">description:</span> <span class=\"field-value\">Linear probe with 24 recording channels</span></div><div style=\"margin-left: 60px;\" class=\"container-fields\"><span class=\"field-key\" title=\".fields['electrode_groups']['electrode_group_1'].fields['device'].fields['manufacturer']\">manufacturer:</span> <span class=\"field-value\">Plexon Inc.</span></div></details></details><details><summary style=\"display: list-item; margin-left: 20px;\" class=\"container-fields field-key\" title=\".fields['electrode_groups']['electrode_group_2']\"><b>electrode_group_2</b></summary><div style=\"margin-left: 40px;\" class=\"container-fields\"><span class=\"field-key\" title=\".fields['electrode_groups']['electrode_group_2'].fields['description']\">description:</span> <span class=\"field-value\">Electrodes on a neural probe</span></div><div style=\"margin-left: 40px;\" class=\"container-fields\"><span class=\"field-key\" title=\".fields['electrode_groups']['electrode_group_2'].fields['location']\">location:</span> <span class=\"field-value\">Dorsomedial frontal cortex</span></div><details><summary style=\"display: list-item; margin-left: 40px;\" class=\"container-fields field-key\" title=\".fields['electrode_groups']['electrode_group_2'].fields['device']\"><b>device</b></summary><div style=\"margin-left: 60px;\" class=\"container-fields\"><span class=\"field-key\" title=\".fields['electrode_groups']['electrode_group_2'].fields['device'].fields['description']\">description:</span> <span class=\"field-value\">Linear probe with 24 recording channels</span></div><div style=\"margin-left: 60px;\" class=\"container-fields\"><span class=\"field-key\" title=\".fields['electrode_groups']['electrode_group_2'].fields['device'].fields['manufacturer']\">manufacturer:</span> <span class=\"field-value\">Plexon Inc.</span></div></details></details><details><summary style=\"display: list-item; margin-left: 20px;\" class=\"container-fields field-key\" title=\".fields['electrode_groups']['electrode_group_3']\"><b>electrode_group_3</b></summary><div style=\"margin-left: 40px;\" class=\"container-fields\"><span class=\"field-key\" title=\".fields['electrode_groups']['electrode_group_3'].fields['description']\">description:</span> <span class=\"field-value\">Electrodes on a neural probe</span></div><div style=\"margin-left: 40px;\" class=\"container-fields\"><span class=\"field-key\" title=\".fields['electrode_groups']['electrode_group_3'].fields['location']\">location:</span> <span class=\"field-value\">Dorsomedial frontal cortex</span></div><details><summary style=\"display: list-item; margin-left: 40px;\" class=\"container-fields field-key\" title=\".fields['electrode_groups']['electrode_group_3'].fields['device']\"><b>device</b></summary><div style=\"margin-left: 60px;\" class=\"container-fields\"><span class=\"field-key\" title=\".fields['electrode_groups']['electrode_group_3'].fields['device'].fields['description']\">description:</span> <span class=\"field-value\">Linear probe with 24 recording channels</span></div><div style=\"margin-left: 60px;\" class=\"container-fields\"><span class=\"field-key\" title=\".fields['electrode_groups']['electrode_group_3'].fields['device'].fields['manufacturer']\">manufacturer:</span> <span class=\"field-value\">Plexon Inc.</span></div></details></details></details><details><summary style=\"display: list-item; margin-left: 0px;\" class=\"container-fields field-key\" title=\".fields['devices']\"><b>devices (3)</b></summary><details><summary style=\"display: list-item; margin-left: 20px;\" class=\"container-fields field-key\" title=\".fields['devices']['electrode_probe_1']\"><b>electrode_probe_1</b></summary><div style=\"margin-left: 40px;\" class=\"container-fields\"><span class=\"field-key\" title=\".fields['devices']['electrode_probe_1'].fields['description']\">description:</span> <span class=\"field-value\">Linear probe with 24 recording channels</span></div><div style=\"margin-left: 40px;\" class=\"container-fields\"><span class=\"field-key\" title=\".fields['devices']['electrode_probe_1'].fields['manufacturer']\">manufacturer:</span> <span class=\"field-value\">Plexon Inc.</span></div></details><details><summary style=\"display: list-item; margin-left: 20px;\" class=\"container-fields field-key\" title=\".fields['devices']['electrode_probe_2']\"><b>electrode_probe_2</b></summary><div style=\"margin-left: 40px;\" class=\"container-fields\"><span class=\"field-key\" title=\".fields['devices']['electrode_probe_2'].fields['description']\">description:</span> <span class=\"field-value\">Linear probe with 24 recording channels</span></div><div style=\"margin-left: 40px;\" class=\"container-fields\"><span class=\"field-key\" title=\".fields['devices']['electrode_probe_2'].fields['manufacturer']\">manufacturer:</span> <span class=\"field-value\">Plexon Inc.</span></div></details><details><summary style=\"display: list-item; margin-left: 20px;\" class=\"container-fields field-key\" title=\".fields['devices']['electrode_probe_3']\"><b>electrode_probe_3</b></summary><div style=\"margin-left: 40px;\" class=\"container-fields\"><span class=\"field-key\" title=\".fields['devices']['electrode_probe_3'].fields['description']\">description:</span> <span class=\"field-value\">Linear probe with 24 recording channels</span></div><div style=\"margin-left: 40px;\" class=\"container-fields\"><span class=\"field-key\" title=\".fields['devices']['electrode_probe_3'].fields['manufacturer']\">manufacturer:</span> <span class=\"field-value\">Plexon Inc.</span></div></details></details><details><summary style=\"display: list-item; margin-left: 0px;\" class=\"container-fields field-key\" title=\".fields['intervals']\"><b>intervals (1)</b></summary><details><summary style=\"display: list-item; margin-left: 20px;\" class=\"container-fields field-key\" title=\".fields['intervals']['trials']\"><b>trials</b></summary><div style=\"margin-left: 40px;\" class=\"container-fields\"><span class=\"field-key\" title=\".fields['intervals']['trials'].fields['description']\">description:</span> <span class=\"field-value\">experimental trials</span></div><details><summary style=\"display: list-item; margin-left: 40px;\" class=\"container-fields field-key\" title=\".fields['intervals']['trials'].fields['id']\"><b>id</b></summary></details><div style=\"margin-left: 40px;\" class=\"container-fields\"><span class=\"field-key\" title=\".fields['intervals']['trials'].fields['colnames']\">colnames:</span> <span class=\"field-value\">('start_time', 'stop_time', 'fix_on_time', 'fix_time', 'target_on_time', 'ready_time', 'set_time', 'go_time', 'target_acq_time', 'reward_time', 'bad_time', 'is_short', 'is_eye', 'theta', 'ts', 'tp', 'fix_time_dur', 'target_time_dur', 'iti', 'reward_dur', 'is_outlier', 'split')</span></div><div style=\"margin-left: 40px;\" class=\"container-fields\"><span class=\"field-key\" title=\".fields['intervals']['trials'].fields['columns']\">columns:</span> <span class=\"field-value\">(<hdmf.common.table.VectorData object at 0x1219cbca0>, <hdmf.common.table.VectorData object at 0x1219cbe80>, <hdmf.common.table.VectorData object at 0x121b680d0>, <hdmf.common.table.VectorData object at 0x121b68130>, <hdmf.common.table.VectorData object at 0x121b68610>, <hdmf.common.table.VectorData object at 0x121b683d0>, <hdmf.common.table.VectorData object at 0x121b684f0>, <hdmf.common.table.VectorData object at 0x121b681f0>, <hdmf.common.table.VectorData object at 0x121b685b0>, <hdmf.common.table.VectorData object at 0x121b68490>, <hdmf.common.table.VectorData object at 0x121b68070>, <hdmf.common.table.VectorData object at 0x121b68310>, <hdmf.common.table.VectorData object at 0x121b68250>, <hdmf.common.table.VectorData object at 0x121b686d0>, <hdmf.common.table.VectorData object at 0x121b68790>, <hdmf.common.table.VectorData object at 0x121b68730>, <hdmf.common.table.VectorData object at 0x121b68190>, <hdmf.common.table.VectorData object at 0x121b68670>, <hdmf.common.table.VectorData object at 0x121b68370>, <hdmf.common.table.VectorData object at 0x121b68430>, <hdmf.common.table.VectorData object at 0x121b682b0>, <hdmf.common.table.VectorData object at 0x121b68550>)</span></div></details></details><details><summary style=\"display: list-item; margin-left: 0px;\" class=\"container-fields field-key\" title=\".fields['subject']\"><b>subject</b></summary><div style=\"margin-left: 20px;\" class=\"container-fields\"><span class=\"field-key\" title=\".fields['subject'].fields['age']\">age:</span> <span class=\"field-value\">P4Y</span></div><div style=\"margin-left: 20px;\" class=\"container-fields\"><span class=\"field-key\" title=\".fields['subject'].fields['sex']\">sex:</span> <span class=\"field-value\">M</span></div><div style=\"margin-left: 20px;\" class=\"container-fields\"><span class=\"field-key\" title=\".fields['subject'].fields['species']\">species:</span> <span class=\"field-value\">Macaca mulatta</span></div><div style=\"margin-left: 20px;\" class=\"container-fields\"><span class=\"field-key\" title=\".fields['subject'].fields['subject_id']\">subject_id:</span> <span class=\"field-value\">Haydn</span></div></details><details><summary style=\"display: list-item; margin-left: 0px;\" class=\"container-fields field-key\" title=\".fields['trials']\"><b>trials</b></summary><div style=\"margin-left: 20px;\" class=\"container-fields\"><span class=\"field-key\" title=\".fields['trials'].fields['description']\">description:</span> <span class=\"field-value\">experimental trials</span></div><details><summary style=\"display: list-item; margin-left: 20px;\" class=\"container-fields field-key\" title=\".fields['trials'].fields['id']\"><b>id</b></summary></details><div style=\"margin-left: 20px;\" class=\"container-fields\"><span class=\"field-key\" title=\".fields['trials'].fields['colnames']\">colnames:</span> <span class=\"field-value\">('start_time', 'stop_time', 'fix_on_time', 'fix_time', 'target_on_time', 'ready_time', 'set_time', 'go_time', 'target_acq_time', 'reward_time', 'bad_time', 'is_short', 'is_eye', 'theta', 'ts', 'tp', 'fix_time_dur', 'target_time_dur', 'iti', 'reward_dur', 'is_outlier', 'split')</span></div><div style=\"margin-left: 20px;\" class=\"container-fields\"><span class=\"field-key\" title=\".fields['trials'].fields['columns']\">columns:</span> <span class=\"field-value\">(<hdmf.common.table.VectorData object at 0x1219cbca0>, <hdmf.common.table.VectorData object at 0x1219cbe80>, <hdmf.common.table.VectorData object at 0x121b680d0>, <hdmf.common.table.VectorData object at 0x121b68130>, <hdmf.common.table.VectorData object at 0x121b68610>, <hdmf.common.table.VectorData object at 0x121b683d0>, <hdmf.common.table.VectorData object at 0x121b684f0>, <hdmf.common.table.VectorData object at 0x121b681f0>, <hdmf.common.table.VectorData object at 0x121b685b0>, <hdmf.common.table.VectorData object at 0x121b68490>, <hdmf.common.table.VectorData object at 0x121b68070>, <hdmf.common.table.VectorData object at 0x121b68310>, <hdmf.common.table.VectorData object at 0x121b68250>, <hdmf.common.table.VectorData object at 0x121b686d0>, <hdmf.common.table.VectorData object at 0x121b68790>, <hdmf.common.table.VectorData object at 0x121b68730>, <hdmf.common.table.VectorData object at 0x121b68190>, <hdmf.common.table.VectorData object at 0x121b68670>, <hdmf.common.table.VectorData object at 0x121b68370>, <hdmf.common.table.VectorData object at 0x121b68430>, <hdmf.common.table.VectorData object at 0x121b682b0>, <hdmf.common.table.VectorData object at 0x121b68550>)</span></div></details><details><summary style=\"display: list-item; margin-left: 0px;\" class=\"container-fields field-key\" title=\".fields['units']\"><b>units</b></summary><div style=\"margin-left: 20px;\" class=\"container-fields\"><span class=\"field-key\" title=\".fields['units'].fields['description']\">description:</span> <span class=\"field-value\">data on spiking units</span></div><details><summary style=\"display: list-item; margin-left: 20px;\" class=\"container-fields field-key\" title=\".fields['units'].fields['id']\"><b>id</b></summary></details><div style=\"margin-left: 20px;\" class=\"container-fields\"><span class=\"field-key\" title=\".fields['units'].fields['colnames']\">colnames:</span> <span class=\"field-value\">('heldout', 'spike_times', 'obs_intervals')</span></div><div style=\"margin-left: 20px;\" class=\"container-fields\"><span class=\"field-key\" title=\".fields['units'].fields['columns']\">columns:</span> <span class=\"field-value\">(<hdmf.common.table.VectorData object at 0x121b68520>, <hdmf.common.table.VectorIndex object at 0x121b684c0>, <hdmf.common.table.VectorData object at 0x121b685e0>, <hdmf.common.table.VectorIndex object at 0x121b686a0>, <hdmf.common.table.VectorData object at 0x121b68640>)</span></div><div style=\"margin-left: 20px;\" class=\"container-fields\"><span class=\"field-key\" title=\".fields['units'].fields['waveform_unit']\">waveform_unit:</span> <span class=\"field-value\">volts</span></div></details><div style=\"margin-left: 0px;\" class=\"container-fields\"><span class=\"field-key\" title=\".fields['experiment_description']\">experiment_description:</span> <span class=\"field-value\">Cognitive timing task in which subject attempts to reproduce interval between two cues</span></div><div style=\"margin-left: 0px;\" class=\"container-fields\"><span class=\"field-key\" title=\".fields['session_id']\">session_id:</span> <span class=\"field-value\">20161211</span></div><div style=\"margin-left: 0px;\" class=\"container-fields\"><span class=\"field-key\" title=\".fields['lab']\">lab:</span> <span class=\"field-value\">Jazayeri</span></div><div style=\"margin-left: 0px;\" class=\"container-fields\"><span class=\"field-key\" title=\".fields['institution']\">institution:</span> <span class=\"field-value\">Massachusetts Institute of Technology</span></div></div>"
      ],
      "text/plain": [
       "root pynwb.file.NWBFile at 0x4858887712\n",
       "Fields:\n",
       "  devices: {\n",
       "    electrode_probe_1 <class 'pynwb.device.Device'>,\n",
       "    electrode_probe_2 <class 'pynwb.device.Device'>,\n",
       "    electrode_probe_3 <class 'pynwb.device.Device'>\n",
       "  }\n",
       "  electrode_groups: {\n",
       "    electrode_group_1 <class 'pynwb.ecephys.ElectrodeGroup'>,\n",
       "    electrode_group_2 <class 'pynwb.ecephys.ElectrodeGroup'>,\n",
       "    electrode_group_3 <class 'pynwb.ecephys.ElectrodeGroup'>\n",
       "  }\n",
       "  electrodes: electrodes <class 'hdmf.common.table.DynamicTable'>\n",
       "  experiment_description: Cognitive timing task in which subject attempts to reproduce interval between two cues\n",
       "  experimenter: ['Hansem Sohn']\n",
       "  file_create_date: [datetime.datetime(2021, 10, 29, 22, 31, 50, 351047, tzinfo=tzoffset(None, -14400))]\n",
       "  identifier: 8969f328-3929-11ec-8077-43176b153428\n",
       "  institution: Massachusetts Institute of Technology\n",
       "  intervals: {\n",
       "    trials <class 'pynwb.epoch.TimeIntervals'>\n",
       "  }\n",
       "  lab: Jazayeri\n",
       "  related_publications: ['http://dx.doi.org/10.1016/j.neuron.2019.06.012']\n",
       "  session_description: Data from monkey Haydn performing ready-set-go time interval reproduction task. This file contains continuous segments of the full session on 2016-12-11 that can be used for training models for the Neural Latents Benchmark.\n",
       "  session_id: 20161211\n",
       "  session_start_time: 2016-12-11 00:00:00-05:00\n",
       "  subject: subject pynwb.file.Subject at 0x4858885840\n",
       "Fields:\n",
       "  age: P4Y\n",
       "  sex: M\n",
       "  species: Macaca mulatta\n",
       "  subject_id: Haydn\n",
       "\n",
       "  timestamps_reference_time: 2016-12-11 00:00:00-05:00\n",
       "  trials: trials <class 'pynwb.epoch.TimeIntervals'>\n",
       "  units: units <class 'pynwb.misc.Units'>"
      ]
     },
     "execution_count": 4,
     "metadata": {},
     "output_type": "execute_result"
    }
   ],
   "source": [
    "with NWBHDF5IO(\"sub-Haydn_desc-train_ecephys.nwb\", \"r\") as io:\n",
    "    read_nwbfile = io.read()\n",
    "read_nwbfile"
   ]
  },
  {
   "cell_type": "markdown",
   "id": "09b88281",
   "metadata": {},
   "source": [
    "When directly using NERD with a single source, in the most common case that'll be a `NWBFile`, it is recommended to link the instance of the `ExternalResources` class to the file. This link will allows for easier use of NERD, as shown later in the tutorial."
   ]
  },
  {
   "cell_type": "code",
   "execution_count": 5,
   "id": "d7390ae2",
   "metadata": {},
   "outputs": [
    {
     "name": "stderr",
     "output_type": "stream",
     "text": [
      "/Users/mavaylon/Research/NWB/hdmf2/hdmf/src/hdmf/container.py:210: UserWarning: ExternalResources is experimental -- it may be removed in the future and is not guaranteed to maintain backward compatibility\n",
      "  warn(_exp_warn_msg(cls))\n"
     ]
    }
   ],
   "source": [
    "er = ExternalResources() \n",
    "read_nwbfile.link_resources(er)"
   ]
  },
  {
   "cell_type": "markdown",
   "id": "b4639053",
   "metadata": {},
   "source": [
    "We can see the linkage as follows:"
   ]
  },
  {
   "cell_type": "code",
   "execution_count": 6,
   "id": "5784a089",
   "metadata": {},
   "outputs": [
    {
     "data": {
      "text/html": [
       "\n",
       "        <style>\n",
       "            .container-fields {\n",
       "                font-family: \"Open Sans\", Arial, sans-serif;\n",
       "            }\n",
       "            .container-fields .field-value {\n",
       "                color: #00788E;\n",
       "            }\n",
       "            .container-fields details > summary {\n",
       "                cursor: pointer;\n",
       "                display: list-item;\n",
       "            }\n",
       "            .container-fields details > summary:hover {\n",
       "                color: #0A6EAA;\n",
       "            }\n",
       "        </style>\n",
       "        \n",
       "        <script>\n",
       "            function copyToClipboard(text) {\n",
       "                navigator.clipboard.writeText(text).then(function() {\n",
       "                    console.log('Copied to clipboard: ' + text);\n",
       "                }, function(err) {\n",
       "                    console.error('Could not copy text: ', err);\n",
       "                });\n",
       "            }\n",
       "\n",
       "            document.addEventListener('DOMContentLoaded', function() {\n",
       "                let fieldKeys = document.querySelectorAll('.container-fields .field-key');\n",
       "                fieldKeys.forEach(function(fieldKey) {\n",
       "                    fieldKey.addEventListener('click', function() {\n",
       "                        let accessCode = fieldKey.getAttribute('title').replace('Access code: ', '');\n",
       "                        copyToClipboard(accessCode);\n",
       "                    });\n",
       "                });\n",
       "            });\n",
       "        </script>\n",
       "        <div class='container-wrap'><div class='container-header'><div class='xr-obj-type'><h3>external_resources (ExternalResources)</h3></div></div><details><summary style=\"display: list-item; margin-left: 0px;\" class=\"container-fields field-key\" title=\".fields['keys']\"><b>keys</b></summary></details><details><summary style=\"display: list-item; margin-left: 0px;\" class=\"container-fields field-key\" title=\".fields['files']\"><b>files</b></summary></details><details><summary style=\"display: list-item; margin-left: 0px;\" class=\"container-fields field-key\" title=\".fields['entities']\"><b>entities</b></summary></details><details><summary style=\"display: list-item; margin-left: 0px;\" class=\"container-fields field-key\" title=\".fields['objects']\"><b>objects</b></summary></details><details><summary style=\"display: list-item; margin-left: 0px;\" class=\"container-fields field-key\" title=\".fields['object_keys']\"><b>object_keys</b></summary></details><details><summary style=\"display: list-item; margin-left: 0px;\" class=\"container-fields field-key\" title=\".fields['entity_keys']\"><b>entity_keys</b></summary></details></div>"
      ],
      "text/plain": [
       "external_resources pynwb.resources.ExternalResources at 0x4860578736\n",
       "Fields:"
      ]
     },
     "execution_count": 6,
     "metadata": {},
     "output_type": "execute_result"
    }
   ],
   "source": [
    "read_nwbfile.get_linked_resources()"
   ]
  },
  {
   "cell_type": "markdown",
   "id": "3732afaa",
   "metadata": {},
   "source": [
    "#### Important Note"
   ]
  },
  {
   "cell_type": "markdown",
   "id": "65829ef3",
   "metadata": {},
   "source": [
    "By setting `external_resources` in `NWBFile`, the user is establishing a link. However, since `ExternalResources` is written separately to an `NWBFile`, this link is not saved on write. This allows for users to annotate existing files without having to modify files containing large datasets."
   ]
  },
  {
   "cell_type": "markdown",
   "id": "cfadb3a3",
   "metadata": {},
   "source": [
    "### ORCiD"
   ]
  },
  {
   "cell_type": "code",
   "execution_count": 7,
   "id": "85b8de4d",
   "metadata": {},
   "outputs": [
    {
     "data": {
      "text/plain": [
       "(<hdmf.common.resources.Key at 0x121561d20>,\n",
       " <hdmf.common.resources.Entity at 0x1218d3370>)"
      ]
     },
     "execution_count": 7,
     "metadata": {},
     "output_type": "execute_result"
    }
   ],
   "source": [
    "er.add_ref(\n",
    "    container=read_nwbfile,\n",
    "    attribute=\"experimenter\",\n",
    "    key=\"Hansem Sohn\",\n",
    "    entity_id='ORCID:0000-0001-8593-7473', \n",
    "    entity_uri='https://orcid.org/0000-0001-8593-7473')"
   ]
  },
  {
   "cell_type": "markdown",
   "id": "6c182055",
   "metadata": {},
   "source": [
    "### Electrode Group Location"
   ]
  },
  {
   "cell_type": "code",
   "execution_count": 8,
   "id": "2c45f210",
   "metadata": {},
   "outputs": [
    {
     "data": {
      "text/plain": [
       "(<hdmf.common.resources.Key at 0x121b691b0>,\n",
       " <hdmf.common.resources.Entity at 0x121b69030>)"
      ]
     },
     "execution_count": 8,
     "metadata": {},
     "output_type": "execute_result"
    }
   ],
   "source": [
    "er.add_ref(\n",
    "    container=read_nwbfile.electrode_groups['electrode_group_1'],\n",
    "    attribute=\"location\",\n",
    "    key=\"Dorsomedial frontal cortex\",\n",
    "    entity_id=\"Frontal Cortex\", \n",
    "    entity_uri=\"https://www.ebrains.eu/tools/rat-brain\",  \n",
    ")"
   ]
  },
  {
   "cell_type": "markdown",
   "id": "7082b589",
   "metadata": {},
   "source": [
    "### Subject Species"
   ]
  },
  {
   "cell_type": "code",
   "execution_count": 9,
   "id": "5b0d328d",
   "metadata": {},
   "outputs": [
    {
     "data": {
      "text/plain": [
       "(<hdmf.common.resources.Key at 0x121b69450>,\n",
       " <hdmf.common.resources.Entity at 0x121b68c70>)"
      ]
     },
     "execution_count": 9,
     "metadata": {},
     "output_type": "execute_result"
    }
   ],
   "source": [
    "er.add_ref(\n",
    "    container=read_nwbfile.subject,\n",
    "    attribute='species',\n",
    "    key='Macaca mulatta',\n",
    "    entity_id='NCBI_TAXON:9544',\n",
    "    entity_uri='https://www.ncbi.nlm.nih.gov/Taxonomy/Browser/wwwtax.cgi?mode=info&id=9544'\n",
    ")"
   ]
  },
  {
   "cell_type": "markdown",
   "id": "07ac85ab",
   "metadata": {},
   "source": [
    "### What about the connection to the NWBFile?"
   ]
  },
  {
   "cell_type": "markdown",
   "id": "6ccd764c",
   "metadata": {},
   "source": [
    "Even though we've been using the notation using only the instance of `ExternalResources`, i.e., `er.add_ref(...)`, we are still updating the `ExternalResources` linked to the file. Alternatively, a user could use `read_nwbfile.external_resources.add_ref(...)`. We now see that our instance of `ExternalResources` shows a populated normalized set of tables for efficient data storage and query options. Even though the data structure consists of multiple tables, the user can visualize a flattened view of the NERD system."
   ]
  },
  {
   "cell_type": "code",
   "execution_count": 10,
   "id": "da6540e1",
   "metadata": {},
   "outputs": [
    {
     "data": {
      "text/html": [
       "<div>\n",
       "<style scoped>\n",
       "    .dataframe tbody tr th:only-of-type {\n",
       "        vertical-align: middle;\n",
       "    }\n",
       "\n",
       "    .dataframe tbody tr th {\n",
       "        vertical-align: top;\n",
       "    }\n",
       "\n",
       "    .dataframe thead th {\n",
       "        text-align: right;\n",
       "    }\n",
       "</style>\n",
       "<table border=\"1\" class=\"dataframe\">\n",
       "  <thead>\n",
       "    <tr style=\"text-align: right;\">\n",
       "      <th></th>\n",
       "      <th>file_object_id</th>\n",
       "      <th>objects_idx</th>\n",
       "      <th>object_id</th>\n",
       "      <th>files_idx</th>\n",
       "      <th>object_type</th>\n",
       "      <th>relative_path</th>\n",
       "      <th>field</th>\n",
       "      <th>keys_idx</th>\n",
       "      <th>key</th>\n",
       "      <th>entities_idx</th>\n",
       "      <th>entity_id</th>\n",
       "      <th>entity_uri</th>\n",
       "    </tr>\n",
       "  </thead>\n",
       "  <tbody>\n",
       "    <tr>\n",
       "      <th>0</th>\n",
       "      <td>9c3a5c45-316c-493d-a712-03a01b662ee9</td>\n",
       "      <td>0</td>\n",
       "      <td>9c3a5c45-316c-493d-a712-03a01b662ee9</td>\n",
       "      <td>0</td>\n",
       "      <td>NWBFile</td>\n",
       "      <td>general/experimenter</td>\n",
       "      <td></td>\n",
       "      <td>0</td>\n",
       "      <td>Hansem Sohn</td>\n",
       "      <td>0</td>\n",
       "      <td>ORCID:0000-0001-8593-7473</td>\n",
       "      <td>https://orcid.org/0000-0001-8593-7473</td>\n",
       "    </tr>\n",
       "    <tr>\n",
       "      <th>1</th>\n",
       "      <td>9c3a5c45-316c-493d-a712-03a01b662ee9</td>\n",
       "      <td>1</td>\n",
       "      <td>f8641805-f93c-446f-8194-5fce08d22dbb</td>\n",
       "      <td>0</td>\n",
       "      <td>ElectrodeGroup</td>\n",
       "      <td>location</td>\n",
       "      <td></td>\n",
       "      <td>1</td>\n",
       "      <td>Dorsomedial frontal cortex</td>\n",
       "      <td>1</td>\n",
       "      <td>ID</td>\n",
       "      <td>URI</td>\n",
       "    </tr>\n",
       "    <tr>\n",
       "      <th>2</th>\n",
       "      <td>9c3a5c45-316c-493d-a712-03a01b662ee9</td>\n",
       "      <td>2</td>\n",
       "      <td>5ee39486-8625-4ac3-9691-ce9d724812a4</td>\n",
       "      <td>0</td>\n",
       "      <td>Subject</td>\n",
       "      <td>species</td>\n",
       "      <td></td>\n",
       "      <td>2</td>\n",
       "      <td>Macaca mulatta</td>\n",
       "      <td>2</td>\n",
       "      <td>NCBI_TAXON:9544</td>\n",
       "      <td>https://www.ncbi.nlm.nih.gov/Taxonomy/Browser/...</td>\n",
       "    </tr>\n",
       "  </tbody>\n",
       "</table>\n",
       "</div>"
      ],
      "text/plain": [
       "                         file_object_id  objects_idx   \n",
       "0  9c3a5c45-316c-493d-a712-03a01b662ee9            0  \\\n",
       "1  9c3a5c45-316c-493d-a712-03a01b662ee9            1   \n",
       "2  9c3a5c45-316c-493d-a712-03a01b662ee9            2   \n",
       "\n",
       "                              object_id  files_idx     object_type   \n",
       "0  9c3a5c45-316c-493d-a712-03a01b662ee9          0         NWBFile  \\\n",
       "1  f8641805-f93c-446f-8194-5fce08d22dbb          0  ElectrodeGroup   \n",
       "2  5ee39486-8625-4ac3-9691-ce9d724812a4          0         Subject   \n",
       "\n",
       "          relative_path field  keys_idx                         key   \n",
       "0  general/experimenter               0                 Hansem Sohn  \\\n",
       "1              location               1  Dorsomedial frontal cortex   \n",
       "2               species               2              Macaca mulatta   \n",
       "\n",
       "   entities_idx                  entity_id   \n",
       "0             0  ORCID:0000-0001-8593-7473  \\\n",
       "1             1                         ID   \n",
       "2             2            NCBI_TAXON:9544   \n",
       "\n",
       "                                          entity_uri  \n",
       "0              https://orcid.org/0000-0001-8593-7473  \n",
       "1                                                URI  \n",
       "2  https://www.ncbi.nlm.nih.gov/Taxonomy/Browser/...  "
      ]
     },
     "execution_count": 10,
     "metadata": {},
     "output_type": "execute_result"
    }
   ],
   "source": [
    "df=er.to_dataframe()\n",
    "df"
   ]
  },
  {
   "cell_type": "markdown",
   "id": "87fc5ff5",
   "metadata": {},
   "source": [
    "### Useful query methods"
   ]
  },
  {
   "cell_type": "markdown",
   "id": "6f3df698",
   "metadata": {},
   "source": [
    "NERD hosts multiple methods to retrieve the stored data. More methods are in active development and are open for community requests and feedback."
   ]
  },
  {
   "cell_type": "markdown",
   "id": "dd26e036",
   "metadata": {},
   "source": [
    "#### Get Object Type"
   ]
  },
  {
   "cell_type": "markdown",
   "id": "2797cd69",
   "metadata": {},
   "source": [
    "This method retrieves all instances of a specified `object_type`. In this case, a user can retrieve all instances involving `Subject`.\n"
   ]
  },
  {
   "cell_type": "code",
   "execution_count": 11,
   "id": "538d2fc4",
   "metadata": {},
   "outputs": [
    {
     "data": {
      "text/html": [
       "<div>\n",
       "<style scoped>\n",
       "    .dataframe tbody tr th:only-of-type {\n",
       "        vertical-align: middle;\n",
       "    }\n",
       "\n",
       "    .dataframe tbody tr th {\n",
       "        vertical-align: top;\n",
       "    }\n",
       "\n",
       "    .dataframe thead th {\n",
       "        text-align: right;\n",
       "    }\n",
       "</style>\n",
       "<table border=\"1\" class=\"dataframe\">\n",
       "  <thead>\n",
       "    <tr style=\"text-align: right;\">\n",
       "      <th></th>\n",
       "      <th>file_object_id</th>\n",
       "      <th>objects_idx</th>\n",
       "      <th>object_id</th>\n",
       "      <th>files_idx</th>\n",
       "      <th>object_type</th>\n",
       "      <th>relative_path</th>\n",
       "      <th>field</th>\n",
       "      <th>keys_idx</th>\n",
       "      <th>key</th>\n",
       "      <th>entities_idx</th>\n",
       "      <th>entity_id</th>\n",
       "      <th>entity_uri</th>\n",
       "    </tr>\n",
       "  </thead>\n",
       "  <tbody>\n",
       "    <tr>\n",
       "      <th>2</th>\n",
       "      <td>9c3a5c45-316c-493d-a712-03a01b662ee9</td>\n",
       "      <td>2</td>\n",
       "      <td>5ee39486-8625-4ac3-9691-ce9d724812a4</td>\n",
       "      <td>0</td>\n",
       "      <td>Subject</td>\n",
       "      <td>species</td>\n",
       "      <td></td>\n",
       "      <td>2</td>\n",
       "      <td>Macaca mulatta</td>\n",
       "      <td>2</td>\n",
       "      <td>NCBI_TAXON:9544</td>\n",
       "      <td>https://www.ncbi.nlm.nih.gov/Taxonomy/Browser/...</td>\n",
       "    </tr>\n",
       "  </tbody>\n",
       "</table>\n",
       "</div>"
      ],
      "text/plain": [
       "                         file_object_id  objects_idx   \n",
       "2  9c3a5c45-316c-493d-a712-03a01b662ee9            2  \\\n",
       "\n",
       "                              object_id  files_idx object_type relative_path   \n",
       "2  5ee39486-8625-4ac3-9691-ce9d724812a4          0     Subject       species  \\\n",
       "\n",
       "  field  keys_idx             key  entities_idx        entity_id   \n",
       "2               2  Macaca mulatta             2  NCBI_TAXON:9544  \\\n",
       "\n",
       "                                          entity_uri  \n",
       "2  https://www.ncbi.nlm.nih.gov/Taxonomy/Browser/...  "
      ]
     },
     "execution_count": 11,
     "metadata": {},
     "output_type": "execute_result"
    }
   ],
   "source": [
    "er.get_object_type(object_type='Subject', all_instances=True)"
   ]
  },
  {
   "cell_type": "markdown",
   "id": "3b03bd2f",
   "metadata": {},
   "source": [
    "#### Get Key"
   ]
  },
  {
   "cell_type": "markdown",
   "id": "913341a3",
   "metadata": {},
   "source": [
    "`get_key` returns a `Key` object based on the name given. If the name is used more than once, the user provides the container, relative_path, and field to retrieve the specfic `Key` they want. Users will need to us this method if they want to resuse the key for a new reference, since `ExternalResources` requires unique keys associated with an `Object`."
   ]
  },
  {
   "cell_type": "code",
   "execution_count": 12,
   "id": "84128fb4",
   "metadata": {
    "scrolled": true
   },
   "outputs": [
    {
     "data": {
      "text/plain": [
       "<hdmf.common.resources.Key at 0x121b6b3a0>"
      ]
     },
     "execution_count": 12,
     "metadata": {},
     "output_type": "execute_result"
    }
   ],
   "source": [
    "er.get_key('Hansem Sohn')"
   ]
  },
  {
   "cell_type": "code",
   "execution_count": 13,
   "id": "5d897495",
   "metadata": {},
   "outputs": [
    {
     "data": {
      "text/plain": [
       "<hdmf.common.resources.Key at 0x121b6b040>"
      ]
     },
     "execution_count": 13,
     "metadata": {},
     "output_type": "execute_result"
    }
   ],
   "source": [
    "er.get_key(key_name='Macaca mulatta', container=read_nwbfile.subject, relative_path='species')"
   ]
  },
  {
   "cell_type": "markdown",
   "id": "b728ce47",
   "metadata": {},
   "source": [
    "#### Get all entities for an Object"
   ]
  },
  {
   "cell_type": "markdown",
   "id": "19a21f33",
   "metadata": {},
   "source": [
    "`get_object_entities` allows the user to retrieve all entities and key information associated with an `Object`."
   ]
  },
  {
   "cell_type": "code",
   "execution_count": 14,
   "id": "74e9fc1f",
   "metadata": {},
   "outputs": [
    {
     "data": {
      "text/html": [
       "<div>\n",
       "<style scoped>\n",
       "    .dataframe tbody tr th:only-of-type {\n",
       "        vertical-align: middle;\n",
       "    }\n",
       "\n",
       "    .dataframe tbody tr th {\n",
       "        vertical-align: top;\n",
       "    }\n",
       "\n",
       "    .dataframe thead th {\n",
       "        text-align: right;\n",
       "    }\n",
       "</style>\n",
       "<table border=\"1\" class=\"dataframe\">\n",
       "  <thead>\n",
       "    <tr style=\"text-align: right;\">\n",
       "      <th></th>\n",
       "      <th>entity_id</th>\n",
       "      <th>entity_uri</th>\n",
       "    </tr>\n",
       "  </thead>\n",
       "  <tbody>\n",
       "    <tr>\n",
       "      <th>0</th>\n",
       "      <td>NCBI_TAXON:9544</td>\n",
       "      <td>https://www.ncbi.nlm.nih.gov/Taxonomy/Browser/...</td>\n",
       "    </tr>\n",
       "  </tbody>\n",
       "</table>\n",
       "</div>"
      ],
      "text/plain": [
       "         entity_id                                         entity_uri\n",
       "0  NCBI_TAXON:9544  https://www.ncbi.nlm.nih.gov/Taxonomy/Browser/..."
      ]
     },
     "execution_count": 14,
     "metadata": {},
     "output_type": "execute_result"
    }
   ],
   "source": [
    "er.get_object_entities(container=read_nwbfile.subject,\n",
    "                       relative_path='species')"
   ]
  },
  {
   "cell_type": "markdown",
   "id": "96387508",
   "metadata": {},
   "source": [
    "### Write NERD as a zipped collection of tsv files"
   ]
  },
  {
   "cell_type": "markdown",
   "id": "2fefb46c",
   "metadata": {},
   "source": [
    "As mentioned prior, NERD is written separately from the NWB File. `to_norm_tsv` writes each table as a tsv and stores in a zip file."
   ]
  },
  {
   "cell_type": "code",
   "execution_count": 15,
   "id": "9d09b4af",
   "metadata": {},
   "outputs": [],
   "source": [
    "er.to_norm_tsv(path='./')"
   ]
  },
  {
   "cell_type": "markdown",
   "id": "cd09a129",
   "metadata": {},
   "source": [
    "### Read ER from tsv"
   ]
  },
  {
   "cell_type": "code",
   "execution_count": 16,
   "id": "56f295b2",
   "metadata": {},
   "outputs": [
    {
     "name": "stderr",
     "output_type": "stream",
     "text": [
      "/Users/mavaylon/Research/NWB/hdmf2/hdmf/src/hdmf/container.py:210: UserWarning: ExternalResources is experimental -- it may be removed in the future and is not guaranteed to maintain backward compatibility\n",
      "  warn(_exp_warn_msg(cls))\n"
     ]
    }
   ],
   "source": [
    "er_read=ExternalResources.from_norm_tsv(path='./')"
   ]
  },
  {
   "cell_type": "code",
   "execution_count": 17,
   "id": "1914c56c",
   "metadata": {},
   "outputs": [
    {
     "data": {
      "text/html": [
       "<div>\n",
       "<style scoped>\n",
       "    .dataframe tbody tr th:only-of-type {\n",
       "        vertical-align: middle;\n",
       "    }\n",
       "\n",
       "    .dataframe tbody tr th {\n",
       "        vertical-align: top;\n",
       "    }\n",
       "\n",
       "    .dataframe thead th {\n",
       "        text-align: right;\n",
       "    }\n",
       "</style>\n",
       "<table border=\"1\" class=\"dataframe\">\n",
       "  <thead>\n",
       "    <tr style=\"text-align: right;\">\n",
       "      <th></th>\n",
       "      <th>file_object_id</th>\n",
       "      <th>objects_idx</th>\n",
       "      <th>object_id</th>\n",
       "      <th>files_idx</th>\n",
       "      <th>object_type</th>\n",
       "      <th>relative_path</th>\n",
       "      <th>field</th>\n",
       "      <th>keys_idx</th>\n",
       "      <th>key</th>\n",
       "      <th>entities_idx</th>\n",
       "      <th>entity_id</th>\n",
       "      <th>entity_uri</th>\n",
       "    </tr>\n",
       "  </thead>\n",
       "  <tbody>\n",
       "    <tr>\n",
       "      <th>0</th>\n",
       "      <td>9c3a5c45-316c-493d-a712-03a01b662ee9</td>\n",
       "      <td>0</td>\n",
       "      <td>9c3a5c45-316c-493d-a712-03a01b662ee9</td>\n",
       "      <td>0</td>\n",
       "      <td>NWBFile</td>\n",
       "      <td>general/experimenter</td>\n",
       "      <td></td>\n",
       "      <td>0</td>\n",
       "      <td>Hansem Sohn</td>\n",
       "      <td>0</td>\n",
       "      <td>ORCID:0000-0001-8593-7473</td>\n",
       "      <td>https://orcid.org/0000-0001-8593-7473</td>\n",
       "    </tr>\n",
       "    <tr>\n",
       "      <th>1</th>\n",
       "      <td>9c3a5c45-316c-493d-a712-03a01b662ee9</td>\n",
       "      <td>1</td>\n",
       "      <td>f8641805-f93c-446f-8194-5fce08d22dbb</td>\n",
       "      <td>0</td>\n",
       "      <td>ElectrodeGroup</td>\n",
       "      <td>location</td>\n",
       "      <td></td>\n",
       "      <td>1</td>\n",
       "      <td>Dorsomedial frontal cortex</td>\n",
       "      <td>1</td>\n",
       "      <td>ID</td>\n",
       "      <td>URI</td>\n",
       "    </tr>\n",
       "    <tr>\n",
       "      <th>2</th>\n",
       "      <td>9c3a5c45-316c-493d-a712-03a01b662ee9</td>\n",
       "      <td>2</td>\n",
       "      <td>5ee39486-8625-4ac3-9691-ce9d724812a4</td>\n",
       "      <td>0</td>\n",
       "      <td>Subject</td>\n",
       "      <td>species</td>\n",
       "      <td></td>\n",
       "      <td>2</td>\n",
       "      <td>Macaca mulatta</td>\n",
       "      <td>2</td>\n",
       "      <td>NCBI_TAXON:9544</td>\n",
       "      <td>https://www.ncbi.nlm.nih.gov/Taxonomy/Browser/...</td>\n",
       "    </tr>\n",
       "  </tbody>\n",
       "</table>\n",
       "</div>"
      ],
      "text/plain": [
       "                         file_object_id  objects_idx   \n",
       "0  9c3a5c45-316c-493d-a712-03a01b662ee9            0  \\\n",
       "1  9c3a5c45-316c-493d-a712-03a01b662ee9            1   \n",
       "2  9c3a5c45-316c-493d-a712-03a01b662ee9            2   \n",
       "\n",
       "                              object_id  files_idx     object_type   \n",
       "0  9c3a5c45-316c-493d-a712-03a01b662ee9          0         NWBFile  \\\n",
       "1  f8641805-f93c-446f-8194-5fce08d22dbb          0  ElectrodeGroup   \n",
       "2  5ee39486-8625-4ac3-9691-ce9d724812a4          0         Subject   \n",
       "\n",
       "          relative_path field  keys_idx                         key   \n",
       "0  general/experimenter               0                 Hansem Sohn  \\\n",
       "1              location               1  Dorsomedial frontal cortex   \n",
       "2               species               2              Macaca mulatta   \n",
       "\n",
       "   entities_idx                  entity_id   \n",
       "0             0  ORCID:0000-0001-8593-7473  \\\n",
       "1             1                         ID   \n",
       "2             2            NCBI_TAXON:9544   \n",
       "\n",
       "                                          entity_uri  \n",
       "0              https://orcid.org/0000-0001-8593-7473  \n",
       "1                                                URI  \n",
       "2  https://www.ncbi.nlm.nih.gov/Taxonomy/Browser/...  "
      ]
     },
     "execution_count": 17,
     "metadata": {},
     "output_type": "execute_result"
    }
   ],
   "source": [
    "er_read.to_dataframe()"
   ]
  },
  {
   "cell_type": "markdown",
   "id": "f729e70c",
   "metadata": {},
   "source": [
    "# Using NERD with multiple NWBFiles"
   ]
  },
  {
   "cell_type": "markdown",
   "id": "07d21ab0",
   "metadata": {},
   "source": [
    "A single instance of the `ExternalResources` class supports storing contextual metadata for multiple files. If the user decides to address multiple files at once, setting up a link between the instance of `ExternalResources` and the file is not possible (due to multiple files being present at once). However, there are ways around this. Users can set link to a file, populate the NERD data structure, and relink that instance to the next file.\n",
    "\n",
    "Another method (as seen below) would be to explicitely define the `file` parameter when populating with `add_ref`.\n",
    "\n",
    "In this example, we have three files currently existing on the DANDI Archive. These files all contain experiments regarding a \"rat\". The species field is free-form text, allowing a wide range of names to represent the same animal. Having contextual metadata for `Subject` species will allows users to connect and query across files with datasets and attributes that share the same external reference."
   ]
  },
  {
   "cell_type": "code",
   "execution_count": 18,
   "id": "0ce9341c",
   "metadata": {},
   "outputs": [
    {
     "name": "stderr",
     "output_type": "stream",
     "text": [
      "/Users/mavaylon/Research/NWB/hdmf2/hdmf/src/hdmf/container.py:210: UserWarning: ExternalResources is experimental -- it may be removed in the future and is not guaranteed to maintain backward compatibility\n",
      "  warn(_exp_warn_msg(cls))\n"
     ]
    },
    {
     "data": {
      "text/html": [
       "<div>\n",
       "<style scoped>\n",
       "    .dataframe tbody tr th:only-of-type {\n",
       "        vertical-align: middle;\n",
       "    }\n",
       "\n",
       "    .dataframe tbody tr th {\n",
       "        vertical-align: top;\n",
       "    }\n",
       "\n",
       "    .dataframe thead th {\n",
       "        text-align: right;\n",
       "    }\n",
       "</style>\n",
       "<table border=\"1\" class=\"dataframe\">\n",
       "  <thead>\n",
       "    <tr style=\"text-align: right;\">\n",
       "      <th></th>\n",
       "      <th>file_object_id</th>\n",
       "      <th>objects_idx</th>\n",
       "      <th>object_id</th>\n",
       "      <th>files_idx</th>\n",
       "      <th>object_type</th>\n",
       "      <th>relative_path</th>\n",
       "      <th>field</th>\n",
       "      <th>keys_idx</th>\n",
       "      <th>key</th>\n",
       "      <th>entities_idx</th>\n",
       "      <th>entity_id</th>\n",
       "      <th>entity_uri</th>\n",
       "    </tr>\n",
       "  </thead>\n",
       "  <tbody>\n",
       "    <tr>\n",
       "      <th>0</th>\n",
       "      <td>8e4f1f81-85b8-469e-9d1b-b7b188edfd6f</td>\n",
       "      <td>0</td>\n",
       "      <td>ed65b7ec-a46e-48fc-b685-e37634e6a4fc</td>\n",
       "      <td>0</td>\n",
       "      <td>Subject</td>\n",
       "      <td>species</td>\n",
       "      <td></td>\n",
       "      <td>0</td>\n",
       "      <td>rat</td>\n",
       "      <td>0</td>\n",
       "      <td>NCBI_TAXON:10116</td>\n",
       "      <td>https://www.ncbi.nlm.nih.gov/Taxonomy/Browser/...</td>\n",
       "    </tr>\n",
       "    <tr>\n",
       "      <th>1</th>\n",
       "      <td>510e730a-4c83-4bdb-a8b9-e68994adec0a</td>\n",
       "      <td>1</td>\n",
       "      <td>088479f0-5966-45a1-9394-21bedf7b9cf2</td>\n",
       "      <td>1</td>\n",
       "      <td>Subject</td>\n",
       "      <td>species</td>\n",
       "      <td></td>\n",
       "      <td>1</td>\n",
       "      <td>Rattus norvegicus domestica</td>\n",
       "      <td>0</td>\n",
       "      <td>NCBI_TAXON:10116</td>\n",
       "      <td>https://www.ncbi.nlm.nih.gov/Taxonomy/Browser/...</td>\n",
       "    </tr>\n",
       "    <tr>\n",
       "      <th>2</th>\n",
       "      <td>4c579581-596e-4145-a82a-ca7be747016c</td>\n",
       "      <td>2</td>\n",
       "      <td>d0299e3c-f007-4465-98a9-92f2590699a4</td>\n",
       "      <td>2</td>\n",
       "      <td>Subject</td>\n",
       "      <td>species</td>\n",
       "      <td></td>\n",
       "      <td>2</td>\n",
       "      <td>rattus norvegicus</td>\n",
       "      <td>0</td>\n",
       "      <td>NCBI_TAXON:10116</td>\n",
       "      <td>https://www.ncbi.nlm.nih.gov/Taxonomy/Browser/...</td>\n",
       "    </tr>\n",
       "  </tbody>\n",
       "</table>\n",
       "</div>"
      ],
      "text/plain": [
       "                         file_object_id  objects_idx   \n",
       "0  8e4f1f81-85b8-469e-9d1b-b7b188edfd6f            0  \\\n",
       "1  510e730a-4c83-4bdb-a8b9-e68994adec0a            1   \n",
       "2  4c579581-596e-4145-a82a-ca7be747016c            2   \n",
       "\n",
       "                              object_id  files_idx object_type relative_path   \n",
       "0  ed65b7ec-a46e-48fc-b685-e37634e6a4fc          0     Subject       species  \\\n",
       "1  088479f0-5966-45a1-9394-21bedf7b9cf2          1     Subject       species   \n",
       "2  d0299e3c-f007-4465-98a9-92f2590699a4          2     Subject       species   \n",
       "\n",
       "  field  keys_idx                          key  entities_idx   \n",
       "0               0                          rat             0  \\\n",
       "1               1  Rattus norvegicus domestica             0   \n",
       "2               2            rattus norvegicus             0   \n",
       "\n",
       "          entity_id                                         entity_uri  \n",
       "0  NCBI_TAXON:10116  https://www.ncbi.nlm.nih.gov/Taxonomy/Browser/...  \n",
       "1  NCBI_TAXON:10116  https://www.ncbi.nlm.nih.gov/Taxonomy/Browser/...  \n",
       "2  NCBI_TAXON:10116  https://www.ncbi.nlm.nih.gov/Taxonomy/Browser/...  "
      ]
     },
     "execution_count": 18,
     "metadata": {},
     "output_type": "execute_result"
    }
   ],
   "source": [
    "# File with Subject species as rat\n",
    "e1='sub-Rat203_ecephys.nwb'\n",
    "io=NWBHDF5IO(e1, \"r\")\n",
    "read_nwbfile_e1 = io.read()\n",
    "\n",
    "# File with Subject species as Rattus norvegicus domestica\n",
    "e2='sub-EE_ses-EE-042_ecephys.nwb'\n",
    "io=NWBHDF5IO(e2, \"r\")\n",
    "read_nwbfile_e2 = io.read()\n",
    "\n",
    "# File with Subject species as rattus norvegicus\n",
    "e3 = 'sub-BH243.nwb'\n",
    "io=NWBHDF5IO(e3, \"r\")\n",
    "read_nwbfile_e3 = io.read()\n",
    "\n",
    "er = ExternalResources()\n",
    "\n",
    "er.add_ref(\n",
    "    file=read_nwbfile_e1,\n",
    "    container=read_nwbfile_e1.subject,\n",
    "    attribute='species',\n",
    "    key='rat',\n",
    "    entity_id='NCBI_TAXON:10116',\n",
    "    entity_uri='https://www.ncbi.nlm.nih.gov/Taxonomy/Browser/wwwtax.cgi?mode=info&id=10116'\n",
    ")\n",
    "\n",
    "er.add_ref(\n",
    "    file=read_nwbfile_e2,\n",
    "    container=read_nwbfile_e2.subject,\n",
    "    attribute='species',\n",
    "    key='Rattus norvegicus domestica',\n",
    "    entity_id='NCBI_TAXON:10116',\n",
    ")\n",
    "\n",
    "er.add_ref(\n",
    "    file=read_nwbfile_e3,\n",
    "    container=read_nwbfile_e3.subject,\n",
    "    attribute='species',\n",
    "    key='rattus norvegicus',\n",
    "    entity_id='NCBI_TAXON:10116',\n",
    ")\n",
    "\n",
    "er.to_dataframe()"
   ]
  },
  {
   "cell_type": "markdown",
   "id": "97cb3bdd",
   "metadata": {},
   "source": [
    "# NERD Structure"
   ]
  },
  {
   "cell_type": "markdown",
   "id": "d324f91b",
   "metadata": {},
   "source": [
    "From a user's perspective, one can think of the `ExternalResources` as a simple table. "
   ]
  },
  {
   "cell_type": "code",
   "execution_count": 19,
   "id": "73bd46d6",
   "metadata": {},
   "outputs": [
    {
     "data": {
      "text/html": [
       "<div>\n",
       "<style scoped>\n",
       "    .dataframe tbody tr th:only-of-type {\n",
       "        vertical-align: middle;\n",
       "    }\n",
       "\n",
       "    .dataframe tbody tr th {\n",
       "        vertical-align: top;\n",
       "    }\n",
       "\n",
       "    .dataframe thead th {\n",
       "        text-align: right;\n",
       "    }\n",
       "</style>\n",
       "<table border=\"1\" class=\"dataframe\">\n",
       "  <thead>\n",
       "    <tr style=\"text-align: right;\">\n",
       "      <th></th>\n",
       "      <th>file_object_id</th>\n",
       "      <th>objects_idx</th>\n",
       "      <th>object_id</th>\n",
       "      <th>files_idx</th>\n",
       "      <th>object_type</th>\n",
       "      <th>relative_path</th>\n",
       "      <th>field</th>\n",
       "      <th>keys_idx</th>\n",
       "      <th>key</th>\n",
       "      <th>entities_idx</th>\n",
       "      <th>entity_id</th>\n",
       "      <th>entity_uri</th>\n",
       "    </tr>\n",
       "  </thead>\n",
       "  <tbody>\n",
       "    <tr>\n",
       "      <th>0</th>\n",
       "      <td>9c3a5c45-316c-493d-a712-03a01b662ee9</td>\n",
       "      <td>0</td>\n",
       "      <td>9c3a5c45-316c-493d-a712-03a01b662ee9</td>\n",
       "      <td>0</td>\n",
       "      <td>NWBFile</td>\n",
       "      <td>general/experimenter</td>\n",
       "      <td></td>\n",
       "      <td>0</td>\n",
       "      <td>Hansem Sohn</td>\n",
       "      <td>0</td>\n",
       "      <td>ORCID:0000-0001-8593-7473</td>\n",
       "      <td>https://orcid.org/0000-0001-8593-7473</td>\n",
       "    </tr>\n",
       "    <tr>\n",
       "      <th>1</th>\n",
       "      <td>9c3a5c45-316c-493d-a712-03a01b662ee9</td>\n",
       "      <td>1</td>\n",
       "      <td>f8641805-f93c-446f-8194-5fce08d22dbb</td>\n",
       "      <td>0</td>\n",
       "      <td>ElectrodeGroup</td>\n",
       "      <td>location</td>\n",
       "      <td></td>\n",
       "      <td>1</td>\n",
       "      <td>Dorsomedial frontal cortex</td>\n",
       "      <td>1</td>\n",
       "      <td>ID</td>\n",
       "      <td>URI</td>\n",
       "    </tr>\n",
       "    <tr>\n",
       "      <th>2</th>\n",
       "      <td>9c3a5c45-316c-493d-a712-03a01b662ee9</td>\n",
       "      <td>2</td>\n",
       "      <td>5ee39486-8625-4ac3-9691-ce9d724812a4</td>\n",
       "      <td>0</td>\n",
       "      <td>Subject</td>\n",
       "      <td>species</td>\n",
       "      <td></td>\n",
       "      <td>2</td>\n",
       "      <td>Macaca mulatta</td>\n",
       "      <td>2</td>\n",
       "      <td>NCBI_TAXON:9544</td>\n",
       "      <td>https://www.ncbi.nlm.nih.gov/Taxonomy/Browser/...</td>\n",
       "    </tr>\n",
       "  </tbody>\n",
       "</table>\n",
       "</div>"
      ],
      "text/plain": [
       "                         file_object_id  objects_idx   \n",
       "0  9c3a5c45-316c-493d-a712-03a01b662ee9            0  \\\n",
       "1  9c3a5c45-316c-493d-a712-03a01b662ee9            1   \n",
       "2  9c3a5c45-316c-493d-a712-03a01b662ee9            2   \n",
       "\n",
       "                              object_id  files_idx     object_type   \n",
       "0  9c3a5c45-316c-493d-a712-03a01b662ee9          0         NWBFile  \\\n",
       "1  f8641805-f93c-446f-8194-5fce08d22dbb          0  ElectrodeGroup   \n",
       "2  5ee39486-8625-4ac3-9691-ce9d724812a4          0         Subject   \n",
       "\n",
       "          relative_path field  keys_idx                         key   \n",
       "0  general/experimenter               0                 Hansem Sohn  \\\n",
       "1              location               1  Dorsomedial frontal cortex   \n",
       "2               species               2              Macaca mulatta   \n",
       "\n",
       "   entities_idx                  entity_id   \n",
       "0             0  ORCID:0000-0001-8593-7473  \\\n",
       "1             1                         ID   \n",
       "2             2            NCBI_TAXON:9544   \n",
       "\n",
       "                                          entity_uri  \n",
       "0              https://orcid.org/0000-0001-8593-7473  \n",
       "1                                                URI  \n",
       "2  https://www.ncbi.nlm.nih.gov/Taxonomy/Browser/...  "
      ]
     },
     "execution_count": 19,
     "metadata": {},
     "output_type": "execute_result"
    }
   ],
   "source": [
    "er_read.to_dataframe()"
   ]
  },
  {
   "cell_type": "markdown",
   "id": "8136831b",
   "metadata": {},
   "source": [
    "However, to reduce data redundancy and improve data integrity, `ExternalResources` stores this data internally in a collection of interlinked tables.\n",
    "* `KeyTable` where each row describes a `Key`. A `Key` is a term defined by the user's data. \n",
    "* `FileTable` where each row describes a `File`. A `File` is a `NWBFile` in our use case.\n",
    "* `EntityTable`  where each row describes an `Entity`. An `Entity` is a term from an ontology or resource.\n",
    "* `ObjectTable` where each row describes an `Object`. An `Object` is a NWB data-type, meaning it has an object_id, e.g., `AbstractContainer`.\n",
    "* `ObjectKeyTable` where each row describes an `ObjectKey` pair identifying which `Key`\n",
    "  is used with which `Object`."
   ]
  },
  {
   "cell_type": "markdown",
   "id": "4c82d23a",
   "metadata": {},
   "source": [
    "### KeyTable"
   ]
  },
  {
   "cell_type": "markdown",
   "id": "0736a493",
   "metadata": {},
   "source": [
    "Multiple `Keys` can have the same name. They are disambiguated by the `Object` associated with each. Meaning, we may have keys with the same name in different objects, but for a particular object all keys must be unique within `ExternalResources`."
   ]
  },
  {
   "cell_type": "code",
   "execution_count": 20,
   "id": "38cef0de",
   "metadata": {},
   "outputs": [
    {
     "data": {
      "text/html": [
       "<div>\n",
       "<style scoped>\n",
       "    .dataframe tbody tr th:only-of-type {\n",
       "        vertical-align: middle;\n",
       "    }\n",
       "\n",
       "    .dataframe tbody tr th {\n",
       "        vertical-align: top;\n",
       "    }\n",
       "\n",
       "    .dataframe thead th {\n",
       "        text-align: right;\n",
       "    }\n",
       "</style>\n",
       "<table border=\"1\" class=\"dataframe\">\n",
       "  <thead>\n",
       "    <tr style=\"text-align: right;\">\n",
       "      <th></th>\n",
       "      <th>key</th>\n",
       "    </tr>\n",
       "  </thead>\n",
       "  <tbody>\n",
       "    <tr>\n",
       "      <th>0</th>\n",
       "      <td>Hansem Sohn</td>\n",
       "    </tr>\n",
       "    <tr>\n",
       "      <th>1</th>\n",
       "      <td>Dorsomedial frontal cortex</td>\n",
       "    </tr>\n",
       "    <tr>\n",
       "      <th>2</th>\n",
       "      <td>Macaca mulatta</td>\n",
       "    </tr>\n",
       "  </tbody>\n",
       "</table>\n",
       "</div>"
      ],
      "text/plain": [
       "                          key\n",
       "0                 Hansem Sohn\n",
       "1  Dorsomedial frontal cortex\n",
       "2              Macaca mulatta"
      ]
     },
     "execution_count": 20,
     "metadata": {},
     "output_type": "execute_result"
    }
   ],
   "source": [
    "er_read.keys.to_dataframe()"
   ]
  },
  {
   "cell_type": "markdown",
   "id": "414246ad",
   "metadata": {},
   "source": [
    "### EntityTable"
   ]
  },
  {
   "cell_type": "markdown",
   "id": "bb29618c",
   "metadata": {},
   "source": [
    "This stores the ID and URI information for the external references."
   ]
  },
  {
   "cell_type": "code",
   "execution_count": 21,
   "id": "4ba1d0ba",
   "metadata": {},
   "outputs": [
    {
     "data": {
      "text/html": [
       "<div>\n",
       "<style scoped>\n",
       "    .dataframe tbody tr th:only-of-type {\n",
       "        vertical-align: middle;\n",
       "    }\n",
       "\n",
       "    .dataframe tbody tr th {\n",
       "        vertical-align: top;\n",
       "    }\n",
       "\n",
       "    .dataframe thead th {\n",
       "        text-align: right;\n",
       "    }\n",
       "</style>\n",
       "<table border=\"1\" class=\"dataframe\">\n",
       "  <thead>\n",
       "    <tr style=\"text-align: right;\">\n",
       "      <th></th>\n",
       "      <th>entity_id</th>\n",
       "      <th>entity_uri</th>\n",
       "    </tr>\n",
       "  </thead>\n",
       "  <tbody>\n",
       "    <tr>\n",
       "      <th>0</th>\n",
       "      <td>ORCID:0000-0001-8593-7473</td>\n",
       "      <td>https://orcid.org/0000-0001-8593-7473</td>\n",
       "    </tr>\n",
       "    <tr>\n",
       "      <th>1</th>\n",
       "      <td>ID</td>\n",
       "      <td>URI</td>\n",
       "    </tr>\n",
       "    <tr>\n",
       "      <th>2</th>\n",
       "      <td>NCBI_TAXON:9544</td>\n",
       "      <td>https://www.ncbi.nlm.nih.gov/Taxonomy/Browser/...</td>\n",
       "    </tr>\n",
       "  </tbody>\n",
       "</table>\n",
       "</div>"
      ],
      "text/plain": [
       "                   entity_id   \n",
       "0  ORCID:0000-0001-8593-7473  \\\n",
       "1                         ID   \n",
       "2            NCBI_TAXON:9544   \n",
       "\n",
       "                                          entity_uri  \n",
       "0              https://orcid.org/0000-0001-8593-7473  \n",
       "1                                                URI  \n",
       "2  https://www.ncbi.nlm.nih.gov/Taxonomy/Browser/...  "
      ]
     },
     "execution_count": 21,
     "metadata": {},
     "output_type": "execute_result"
    }
   ],
   "source": [
    "er_read.entities.to_dataframe()"
   ]
  },
  {
   "cell_type": "markdown",
   "id": "72da3aa0",
   "metadata": {},
   "source": [
    "### EntityKeyTable"
   ]
  },
  {
   "cell_type": "markdown",
   "id": "22853359",
   "metadata": {},
   "source": [
    "The `EntityKeyTable` stores all relationship between which user/data defined `Key` represents which `Entity` from an external resource."
   ]
  },
  {
   "cell_type": "code",
   "execution_count": 22,
   "id": "11a3a458",
   "metadata": {},
   "outputs": [
    {
     "data": {
      "text/html": [
       "<div>\n",
       "<style scoped>\n",
       "    .dataframe tbody tr th:only-of-type {\n",
       "        vertical-align: middle;\n",
       "    }\n",
       "\n",
       "    .dataframe tbody tr th {\n",
       "        vertical-align: top;\n",
       "    }\n",
       "\n",
       "    .dataframe thead th {\n",
       "        text-align: right;\n",
       "    }\n",
       "</style>\n",
       "<table border=\"1\" class=\"dataframe\">\n",
       "  <thead>\n",
       "    <tr style=\"text-align: right;\">\n",
       "      <th></th>\n",
       "      <th>entities_idx</th>\n",
       "      <th>keys_idx</th>\n",
       "    </tr>\n",
       "  </thead>\n",
       "  <tbody>\n",
       "    <tr>\n",
       "      <th>0</th>\n",
       "      <td>0</td>\n",
       "      <td>0</td>\n",
       "    </tr>\n",
       "    <tr>\n",
       "      <th>1</th>\n",
       "      <td>1</td>\n",
       "      <td>1</td>\n",
       "    </tr>\n",
       "    <tr>\n",
       "      <th>2</th>\n",
       "      <td>2</td>\n",
       "      <td>2</td>\n",
       "    </tr>\n",
       "  </tbody>\n",
       "</table>\n",
       "</div>"
      ],
      "text/plain": [
       "   entities_idx  keys_idx\n",
       "0             0         0\n",
       "1             1         1\n",
       "2             2         2"
      ]
     },
     "execution_count": 22,
     "metadata": {},
     "output_type": "execute_result"
    }
   ],
   "source": [
    "er_read.entity_keys.to_dataframe()"
   ]
  },
  {
   "cell_type": "markdown",
   "id": "9a4b8cb2",
   "metadata": {},
   "source": [
    "### FileTable"
   ]
  },
  {
   "cell_type": "markdown",
   "id": "d2e6825a",
   "metadata": {},
   "source": [
    "The `FileTable` stores the `id` for the `NWBFile`, allowing users to keep track of which files have the objects that have external references. With this update, the `ObjectTable` has a new column `file_id_idx`, i.e., the row index of the `FileTable`, to link the object and the file that stores it."
   ]
  },
  {
   "cell_type": "markdown",
   "id": "15ba522d",
   "metadata": {},
   "source": [
    "As we saw prior, `add_ref` is one of the main methods to populate `ExternalResources`.\n",
    "\n",
    "<code>er.add_ref(\n",
    "    container=read_nwbfile.subject,\n",
    "    attribute='species',\n",
    "    key='Macaca mulatta',\n",
    "    entity_id='NCBI:9544',\n",
    "    entity_uri='https://www.ncbi.nlm.nih.gov/Taxonomy/Browser/wwwtax.cgi?mode=info&id=9544'\n",
    ")</code>\n",
    "\n",
    "The FileTable is not optional, meaning every new reference needs an associated file. `add_ref` will search for a file if none is provided, as in this example. Users can also manually provide the file if the container hasn't been added to the file (an example in the next section).."
   ]
  },
  {
   "cell_type": "code",
   "execution_count": 23,
   "id": "8c48bb3b",
   "metadata": {},
   "outputs": [
    {
     "data": {
      "text/html": [
       "<div>\n",
       "<style scoped>\n",
       "    .dataframe tbody tr th:only-of-type {\n",
       "        vertical-align: middle;\n",
       "    }\n",
       "\n",
       "    .dataframe tbody tr th {\n",
       "        vertical-align: top;\n",
       "    }\n",
       "\n",
       "    .dataframe thead th {\n",
       "        text-align: right;\n",
       "    }\n",
       "</style>\n",
       "<table border=\"1\" class=\"dataframe\">\n",
       "  <thead>\n",
       "    <tr style=\"text-align: right;\">\n",
       "      <th></th>\n",
       "      <th>file_object_id</th>\n",
       "    </tr>\n",
       "  </thead>\n",
       "  <tbody>\n",
       "    <tr>\n",
       "      <th>0</th>\n",
       "      <td>9c3a5c45-316c-493d-a712-03a01b662ee9</td>\n",
       "    </tr>\n",
       "  </tbody>\n",
       "</table>\n",
       "</div>"
      ],
      "text/plain": [
       "                         file_object_id\n",
       "0  9c3a5c45-316c-493d-a712-03a01b662ee9"
      ]
     },
     "execution_count": 23,
     "metadata": {},
     "output_type": "execute_result"
    }
   ],
   "source": [
    "er_read.files.to_dataframe()"
   ]
  },
  {
   "cell_type": "markdown",
   "id": "bc26f814",
   "metadata": {},
   "source": [
    "### ObjectTable"
   ]
  },
  {
   "cell_type": "markdown",
   "id": "82691f13",
   "metadata": {},
   "source": [
    "`file_id_idx` is the row index for the corresponding `NWBFile` that houses the `Object`. If there is no file, the user does *not* have to have one to use `ExternalResources`; it will be an empty string. The `object_type` column stores the explicit type of the object to allow for easy lookups.\n",
    "\n",
    "`relative_path` and `field` come in when dealing with different scenarios of adding references to `ExternalResources`.\n",
    "* `relative_path` is the path from the closest parent that is a NWB data-type. This is used when the attribute is not a NWB data-type and so has no object id.\n",
    "* `field` is used differentiate the different fields of the dataset for compound data. For example, if a dataset has a compound data-type with fields ‘x’, ‘y’, and ‘z’, and each field is associated with different ontologies, then use field=’x’ to denote that ‘x’ is using the external reference."
   ]
  },
  {
   "cell_type": "code",
   "execution_count": 24,
   "id": "f535adda",
   "metadata": {},
   "outputs": [
    {
     "data": {
      "text/html": [
       "<div>\n",
       "<style scoped>\n",
       "    .dataframe tbody tr th:only-of-type {\n",
       "        vertical-align: middle;\n",
       "    }\n",
       "\n",
       "    .dataframe tbody tr th {\n",
       "        vertical-align: top;\n",
       "    }\n",
       "\n",
       "    .dataframe thead th {\n",
       "        text-align: right;\n",
       "    }\n",
       "</style>\n",
       "<table border=\"1\" class=\"dataframe\">\n",
       "  <thead>\n",
       "    <tr style=\"text-align: right;\">\n",
       "      <th></th>\n",
       "      <th>files_idx</th>\n",
       "      <th>object_id</th>\n",
       "      <th>object_type</th>\n",
       "      <th>relative_path</th>\n",
       "      <th>field</th>\n",
       "    </tr>\n",
       "  </thead>\n",
       "  <tbody>\n",
       "    <tr>\n",
       "      <th>0</th>\n",
       "      <td>0</td>\n",
       "      <td>9c3a5c45-316c-493d-a712-03a01b662ee9</td>\n",
       "      <td>NWBFile</td>\n",
       "      <td>general/experimenter</td>\n",
       "      <td></td>\n",
       "    </tr>\n",
       "    <tr>\n",
       "      <th>1</th>\n",
       "      <td>0</td>\n",
       "      <td>f8641805-f93c-446f-8194-5fce08d22dbb</td>\n",
       "      <td>ElectrodeGroup</td>\n",
       "      <td>location</td>\n",
       "      <td></td>\n",
       "    </tr>\n",
       "    <tr>\n",
       "      <th>2</th>\n",
       "      <td>0</td>\n",
       "      <td>5ee39486-8625-4ac3-9691-ce9d724812a4</td>\n",
       "      <td>Subject</td>\n",
       "      <td>species</td>\n",
       "      <td></td>\n",
       "    </tr>\n",
       "  </tbody>\n",
       "</table>\n",
       "</div>"
      ],
      "text/plain": [
       "   files_idx                             object_id     object_type   \n",
       "0          0  9c3a5c45-316c-493d-a712-03a01b662ee9         NWBFile  \\\n",
       "1          0  f8641805-f93c-446f-8194-5fce08d22dbb  ElectrodeGroup   \n",
       "2          0  5ee39486-8625-4ac3-9691-ce9d724812a4         Subject   \n",
       "\n",
       "          relative_path field  \n",
       "0  general/experimenter        \n",
       "1              location        \n",
       "2               species        "
      ]
     },
     "execution_count": 24,
     "metadata": {},
     "output_type": "execute_result"
    }
   ],
   "source": [
    "er_read.objects.to_dataframe()"
   ]
  },
  {
   "cell_type": "markdown",
   "id": "cc8d9af6",
   "metadata": {},
   "source": [
    "### ObjectKeyTable"
   ]
  },
  {
   "cell_type": "markdown",
   "id": "25d245c0",
   "metadata": {},
   "source": [
    "Stores the relationship between which keys are used with each `Object`."
   ]
  },
  {
   "cell_type": "code",
   "execution_count": 25,
   "id": "12a8753a",
   "metadata": {},
   "outputs": [
    {
     "data": {
      "text/html": [
       "<div>\n",
       "<style scoped>\n",
       "    .dataframe tbody tr th:only-of-type {\n",
       "        vertical-align: middle;\n",
       "    }\n",
       "\n",
       "    .dataframe tbody tr th {\n",
       "        vertical-align: top;\n",
       "    }\n",
       "\n",
       "    .dataframe thead th {\n",
       "        text-align: right;\n",
       "    }\n",
       "</style>\n",
       "<table border=\"1\" class=\"dataframe\">\n",
       "  <thead>\n",
       "    <tr style=\"text-align: right;\">\n",
       "      <th></th>\n",
       "      <th>objects_idx</th>\n",
       "      <th>keys_idx</th>\n",
       "    </tr>\n",
       "  </thead>\n",
       "  <tbody>\n",
       "    <tr>\n",
       "      <th>0</th>\n",
       "      <td>0</td>\n",
       "      <td>0</td>\n",
       "    </tr>\n",
       "    <tr>\n",
       "      <th>1</th>\n",
       "      <td>1</td>\n",
       "      <td>1</td>\n",
       "    </tr>\n",
       "    <tr>\n",
       "      <th>2</th>\n",
       "      <td>2</td>\n",
       "      <td>2</td>\n",
       "    </tr>\n",
       "  </tbody>\n",
       "</table>\n",
       "</div>"
      ],
      "text/plain": [
       "   objects_idx  keys_idx\n",
       "0            0         0\n",
       "1            1         1\n",
       "2            2         2"
      ]
     },
     "execution_count": 25,
     "metadata": {},
     "output_type": "execute_result"
    }
   ],
   "source": [
    "er_read.object_keys.to_dataframe()"
   ]
  },
  {
   "cell_type": "markdown",
   "id": "41727578",
   "metadata": {},
   "source": [
    "# ExternalResources Rules"
   ]
  },
  {
   "cell_type": "markdown",
   "id": "fbbcb47d",
   "metadata": {},
   "source": [
    "1. Multiple `Key` objects can have the same name.\n",
    "   They are disambiguated by the `Object` associated\n",
    "   with each, meaning we may have keys with the same name in different objects, but for a particular object\n",
    "   all keys must be unique.\n",
    "2. In order to query specific records, the `ExternalResources` class\n",
    "   uses '(file, object_id, relative_path, field, key)' as the unique identifier.\n",
    "3. `Object` can have multiple `Key`\n",
    "   objects.\n",
    "4. Multiple `Object` objects can use the same `Key`.\n",
    "5. Do not use the private methods to add into the `KeyTable`,\n",
    "   `EntityKey`, `EntityTable`,\n",
    "   `ObjectTable`, `ObjectKeyTable`,\n",
    "   `FileTable`,\n",
    "   individually.\n",
    "6. URIs are optional, but highly recommended. If not known, an empty string may be used.\n",
    "7. An entity ID should be the unique string identifying the entity in the given resource.\n",
    "   This may or may not include a string representing the resource and a colon.\n",
    "   Use the format provided by the resource. For example, Identifiers.org uses the ID ``ncbigene:22353``\n",
    "   but the NCBI Gene uses the ID ``22353`` for the same term.\n",
    "8. In a majority of cases, `Object` objects will have an empty string\n",
    "   for 'field'. The `ExternalResources` class supports compound data_types.\n",
    "   In that case, 'field' would be the field of the compound data_type that has an external reference.\n",
    "9. In some cases, the attribute that needs an external reference is not a object with a 'data_type'.\n",
    "   The user must then use the nearest object that has a data type to be used as the parent object. When\n",
    "   adding an external resource for an object with a data type, users should not provide an attribute.\n",
    "   When adding an external resource for an attribute of an object, users need to provide\n",
    "   the name of the attribute.\n",
    "10. The user must provide a `File` or an `Object` that\n",
    "    has `File` along the parent hierarchy.\n",
    "11. When reusing `Entity` objects, the user provides only the ID for the entity when using\n",
    "    `add_ref`. This is done to prevent duplicates and will return an\n",
    "    error on how to reuse `Entity` objects if the\n",
    "    `add_ref` method finds an enitity ID and URI that already exists."
   ]
  },
  {
   "cell_type": "markdown",
   "id": "93e5a7e4",
   "metadata": {},
   "source": [
    "# An example with a new NWBFile"
   ]
  },
  {
   "cell_type": "code",
   "execution_count": 2,
   "id": "b3d0c66a",
   "metadata": {},
   "outputs": [],
   "source": [
    "session_start_time = datetime(2018, 4, 25, 2, 30, 3, tzinfo=tz.gettz(\"US/Pacific\"))\n",
    "\n",
    "nwbfile = NWBFile(\n",
    "    session_description=\"Mouse exploring an open field\",\n",
    "    identifier=\"Mouse5_Day3\", \n",
    "    session_start_time=session_start_time, \n",
    "    session_id=\"session_1234\",\n",
    "    experimenter=[\"Dichter, Benjamin K.\", \"Smith, Alex\"], \n",
    "    lab=\"My Lab Name\",  \n",
    "    institution=\"University of My Institution\",  \n",
    "    related_publications=\"DOI:10.1016/j.neuron.2016.12.011\", \n",
    ")"
   ]
  },
  {
   "cell_type": "code",
   "execution_count": 3,
   "id": "08bbf0f9",
   "metadata": {},
   "outputs": [],
   "source": [
    "nwbfile.subject = Subject(\n",
    "    subject_id=\"001\",\n",
    "    age=\"P90D\",\n",
    "    description=\"mouse 5\",\n",
    "    species=\"Mus musculus\",\n",
    "    sex=\"M\",\n",
    ")"
   ]
  },
  {
   "cell_type": "code",
   "execution_count": 4,
   "id": "ea2a32e9",
   "metadata": {},
   "outputs": [
    {
     "name": "stderr",
     "output_type": "stream",
     "text": [
      "/Users/mavaylon/Research/NWB/hdmf2/hdmf/src/hdmf/container.py:214: UserWarning: ExternalResources is experimental -- it may be removed in the future and is not guaranteed to maintain backward compatibility\n",
      "  warn(_exp_warn_msg(cls))\n"
     ]
    }
   ],
   "source": [
    "er = ExternalResources() \n",
    "nwbfile.link_resources(er) "
   ]
  },
  {
   "cell_type": "markdown",
   "id": "d102dc0c",
   "metadata": {},
   "source": [
    "## Using add_ref"
   ]
  },
  {
   "cell_type": "markdown",
   "id": "15b68c18",
   "metadata": {},
   "source": [
    "### add_ref without a file"
   ]
  },
  {
   "cell_type": "markdown",
   "id": "0346be1d",
   "metadata": {},
   "source": [
    "As mentioned prior, the file must be explicitly set within `add_ref` or the object must already exist within the file, in which the link betweent the file and the instance of `ExternalResources` will automatically resolve the `file` parameter. The example below will return an error as expected."
   ]
  },
  {
   "cell_type": "code",
   "execution_count": 29,
   "id": "9371fdf6",
   "metadata": {},
   "outputs": [
    {
     "ename": "ValueError",
     "evalue": "Could not find file. Add container to the file.",
     "output_type": "error",
     "traceback": [
      "\u001b[0;31m---------------------------------------------------------------------------\u001b[0m",
      "\u001b[0;31mValueError\u001b[0m                                Traceback (most recent call last)",
      "Cell \u001b[0;32mIn[29], line 7\u001b[0m\n\u001b[1;32m      1\u001b[0m col1 \u001b[38;5;241m=\u001b[39m VectorData(\n\u001b[1;32m      2\u001b[0m     name\u001b[38;5;241m=\u001b[39m\u001b[38;5;124m'\u001b[39m\u001b[38;5;124mSpecies_Data\u001b[39m\u001b[38;5;124m'\u001b[39m,\n\u001b[1;32m      3\u001b[0m     description\u001b[38;5;241m=\u001b[39m\u001b[38;5;124m'\u001b[39m\u001b[38;5;124mspecies from NCBI and Ensemble\u001b[39m\u001b[38;5;124m'\u001b[39m,\n\u001b[1;32m      4\u001b[0m     data\u001b[38;5;241m=\u001b[39m[\u001b[38;5;124m'\u001b[39m\u001b[38;5;124mHomo sapiens\u001b[39m\u001b[38;5;124m'\u001b[39m, \u001b[38;5;124m'\u001b[39m\u001b[38;5;124mMus musculus\u001b[39m\u001b[38;5;124m'\u001b[39m]\n\u001b[1;32m      5\u001b[0m )\n\u001b[1;32m      6\u001b[0m species \u001b[38;5;241m=\u001b[39m DynamicTable(name\u001b[38;5;241m=\u001b[39m\u001b[38;5;124m'\u001b[39m\u001b[38;5;124mspecies\u001b[39m\u001b[38;5;124m'\u001b[39m, description\u001b[38;5;241m=\u001b[39m\u001b[38;5;124m'\u001b[39m\u001b[38;5;124mMy species\u001b[39m\u001b[38;5;124m'\u001b[39m, columns\u001b[38;5;241m=\u001b[39m[col1],)\n\u001b[0;32m----> 7\u001b[0m \u001b[43mer\u001b[49m\u001b[38;5;241;43m.\u001b[39;49m\u001b[43madd_ref\u001b[49m\u001b[43m(\u001b[49m\n\u001b[1;32m      8\u001b[0m \u001b[43m    \u001b[49m\u001b[43mcontainer\u001b[49m\u001b[38;5;241;43m=\u001b[39;49m\u001b[43mspecies\u001b[49m\u001b[43m,\u001b[49m\n\u001b[1;32m      9\u001b[0m \u001b[43m    \u001b[49m\u001b[43mattribute\u001b[49m\u001b[38;5;241;43m=\u001b[39;49m\u001b[38;5;124;43m'\u001b[39;49m\u001b[38;5;124;43mSpecies_Data\u001b[39;49m\u001b[38;5;124;43m'\u001b[39;49m\u001b[43m,\u001b[49m\n\u001b[1;32m     10\u001b[0m \u001b[43m    \u001b[49m\u001b[43mkey\u001b[49m\u001b[38;5;241;43m=\u001b[39;49m\u001b[38;5;124;43m'\u001b[39;49m\u001b[38;5;124;43mHomo sapiens\u001b[39;49m\u001b[38;5;124;43m'\u001b[39;49m\u001b[43m,\u001b[49m\n\u001b[1;32m     11\u001b[0m \u001b[43m    \u001b[49m\u001b[43mentity_id\u001b[49m\u001b[38;5;241;43m=\u001b[39;49m\u001b[38;5;124;43m'\u001b[39;49m\u001b[38;5;124;43mNCBI_TAXON:9606\u001b[39;49m\u001b[38;5;124;43m'\u001b[39;49m\u001b[43m,\u001b[49m\n\u001b[1;32m     12\u001b[0m \u001b[43m    \u001b[49m\u001b[43mentity_uri\u001b[49m\u001b[38;5;241;43m=\u001b[39;49m\u001b[38;5;124;43m'\u001b[39;49m\u001b[38;5;124;43mhttps://www.ncbi.nlm.nih.gov/Taxonomy/Browser/wwwtax.cgi?id=9606\u001b[39;49m\u001b[38;5;124;43m'\u001b[39;49m\n\u001b[1;32m     13\u001b[0m \u001b[43m)\u001b[49m\n",
      "File \u001b[0;32m~/Research/NWB/hdmf2/hdmf/src/hdmf/utils.py:644\u001b[0m, in \u001b[0;36mdocval.<locals>.dec.<locals>.func_call\u001b[0;34m(*args, **kwargs)\u001b[0m\n\u001b[1;32m    642\u001b[0m \u001b[38;5;28;01mdef\u001b[39;00m \u001b[38;5;21mfunc_call\u001b[39m(\u001b[38;5;241m*\u001b[39margs, \u001b[38;5;241m*\u001b[39m\u001b[38;5;241m*\u001b[39mkwargs):\n\u001b[1;32m    643\u001b[0m     pargs \u001b[38;5;241m=\u001b[39m _check_args(args, kwargs)\n\u001b[0;32m--> 644\u001b[0m     \u001b[38;5;28;01mreturn\u001b[39;00m \u001b[43mfunc\u001b[49m\u001b[43m(\u001b[49m\u001b[43margs\u001b[49m\u001b[43m[\u001b[49m\u001b[38;5;241;43m0\u001b[39;49m\u001b[43m]\u001b[49m\u001b[43m,\u001b[49m\u001b[43m \u001b[49m\u001b[38;5;241;43m*\u001b[39;49m\u001b[38;5;241;43m*\u001b[39;49m\u001b[43mpargs\u001b[49m\u001b[43m)\u001b[49m\n",
      "File \u001b[0;32m~/Research/NWB/hdmf2/hdmf/src/hdmf/common/resources.py:572\u001b[0m, in \u001b[0;36mExternalResources.add_ref\u001b[0;34m(self, **kwargs)\u001b[0m\n\u001b[1;32m    569\u001b[0m file \u001b[38;5;241m=\u001b[39m kwargs[\u001b[38;5;124m'\u001b[39m\u001b[38;5;124mfile\u001b[39m\u001b[38;5;124m'\u001b[39m]\n\u001b[1;32m    571\u001b[0m \u001b[38;5;28;01mif\u001b[39;00m file \u001b[38;5;129;01mis\u001b[39;00m \u001b[38;5;28;01mNone\u001b[39;00m:\n\u001b[0;32m--> 572\u001b[0m     file \u001b[38;5;241m=\u001b[39m \u001b[38;5;28;43mself\u001b[39;49m\u001b[38;5;241;43m.\u001b[39;49m\u001b[43m_get_file_from_container\u001b[49m\u001b[43m(\u001b[49m\u001b[43mcontainer\u001b[49m\u001b[38;5;241;43m=\u001b[39;49m\u001b[43mcontainer\u001b[49m\u001b[43m)\u001b[49m\n\u001b[1;32m    574\u001b[0m \u001b[38;5;28;01mif\u001b[39;00m attribute \u001b[38;5;129;01mis\u001b[39;00m \u001b[38;5;28;01mNone\u001b[39;00m:  \u001b[38;5;66;03m# Trivial Case\u001b[39;00m\n\u001b[1;32m    575\u001b[0m     relative_path \u001b[38;5;241m=\u001b[39m \u001b[38;5;124m'\u001b[39m\u001b[38;5;124m'\u001b[39m\n",
      "File \u001b[0;32m~/Research/NWB/hdmf2/hdmf/src/hdmf/utils.py:644\u001b[0m, in \u001b[0;36mdocval.<locals>.dec.<locals>.func_call\u001b[0;34m(*args, **kwargs)\u001b[0m\n\u001b[1;32m    642\u001b[0m \u001b[38;5;28;01mdef\u001b[39;00m \u001b[38;5;21mfunc_call\u001b[39m(\u001b[38;5;241m*\u001b[39margs, \u001b[38;5;241m*\u001b[39m\u001b[38;5;241m*\u001b[39mkwargs):\n\u001b[1;32m    643\u001b[0m     pargs \u001b[38;5;241m=\u001b[39m _check_args(args, kwargs)\n\u001b[0;32m--> 644\u001b[0m     \u001b[38;5;28;01mreturn\u001b[39;00m \u001b[43mfunc\u001b[49m\u001b[43m(\u001b[49m\u001b[43margs\u001b[49m\u001b[43m[\u001b[49m\u001b[38;5;241;43m0\u001b[39;49m\u001b[43m]\u001b[49m\u001b[43m,\u001b[49m\u001b[43m \u001b[49m\u001b[38;5;241;43m*\u001b[39;49m\u001b[38;5;241;43m*\u001b[39;49m\u001b[43mpargs\u001b[49m\u001b[43m)\u001b[49m\n",
      "File \u001b[0;32m~/Research/NWB/hdmf2/hdmf/src/hdmf/common/resources.py:408\u001b[0m, in \u001b[0;36mExternalResources._get_file_from_container\u001b[0;34m(self, **kwargs)\u001b[0m\n\u001b[1;32m    406\u001b[0m \u001b[38;5;28;01melse\u001b[39;00m:\n\u001b[1;32m    407\u001b[0m     msg \u001b[38;5;241m=\u001b[39m \u001b[38;5;124m'\u001b[39m\u001b[38;5;124mCould not find file. Add container to the file.\u001b[39m\u001b[38;5;124m'\u001b[39m\n\u001b[0;32m--> 408\u001b[0m     \u001b[38;5;28;01mraise\u001b[39;00m \u001b[38;5;167;01mValueError\u001b[39;00m(msg)\n",
      "\u001b[0;31mValueError\u001b[0m: Could not find file. Add container to the file."
     ]
    }
   ],
   "source": [
    "col1 = VectorData(\n",
    "    name='Species_Data',\n",
    "    description='species from NCBI and Ensemble',\n",
    "    data=['Homo sapiens', 'Mus musculus']\n",
    ")\n",
    "species = DynamicTable(name='species', description='My species', columns=[col1],)\n",
    "er.add_ref(\n",
    "    container=species,\n",
    "    attribute='Species_Data',\n",
    "    key='Homo sapiens',\n",
    "    entity_id='NCBI_TAXON:9606',\n",
    "    entity_uri='https://www.ncbi.nlm.nih.gov/Taxonomy/Browser/wwwtax.cgi?id=9606'\n",
    ")"
   ]
  },
  {
   "cell_type": "markdown",
   "id": "ef7715db",
   "metadata": {},
   "source": [
    "### add_ref with attributes"
   ]
  },
  {
   "cell_type": "markdown",
   "id": "ca468b28",
   "metadata": {},
   "source": [
    "Let's look at very simple example. The `attribute` is structure/feature that holds a term the user wants to add a reference for. `attribute` can either be an NWB data-type or not, e.g., a variable that contains a string-value.\n",
    "\n",
    "*Note: we manually provide `file=nwbfile.object_id`.*\n"
   ]
  },
  {
   "cell_type": "code",
   "execution_count": 5,
   "id": "bcba7a7c",
   "metadata": {},
   "outputs": [
    {
     "data": {
      "text/plain": [
       "(<hdmf.common.resources.Key at 0x10d2e60e0>,\n",
       " <hdmf.common.resources.Entity at 0x10d2e5840>)"
      ]
     },
     "execution_count": 5,
     "metadata": {},
     "output_type": "execute_result"
    }
   ],
   "source": [
    "col1 = VectorData(\n",
    "    name='Species_Data',\n",
    "    description='species from NCBI and Ensemble',\n",
    "    data=['Homo sapiens', 'Mus musculus']\n",
    ")\n",
    "species = DynamicTable(name='species', description='My species', columns=[col1],)\n",
    "er.add_ref(\n",
    "    file=nwbfile,\n",
    "    container=species,\n",
    "    attribute='Species_Data',\n",
    "    key='Homo sapiens',\n",
    "    entity_id='NCBI_TAXON:9606',\n",
    "    entity_uri='https://www.ncbi.nlm.nih.gov/Taxonomy/Browser/wwwtax.cgi?id=9606'\n",
    ")"
   ]
  },
  {
   "cell_type": "markdown",
   "id": "5153a04b",
   "metadata": {},
   "source": [
    "Recall that `relative_path` is the path from the closest parent that is a NWB data-type and is used when the attribute is not a NWB data-type and so has no `object_id`. "
   ]
  },
  {
   "cell_type": "code",
   "execution_count": 6,
   "id": "d4818292",
   "metadata": {},
   "outputs": [
    {
     "data": {
      "text/plain": [
       "(<hdmf.common.resources.Key at 0x10d30c610>,\n",
       " <hdmf.common.resources.Entity at 0x10d30c4c0>)"
      ]
     },
     "execution_count": 6,
     "metadata": {},
     "output_type": "execute_result"
    }
   ],
   "source": [
    "# Subject species attribute\n",
    "er.add_ref(\n",
    "    container=nwbfile.subject,\n",
    "    attribute='species',\n",
    "    key='Mus musculus',\n",
    "    entity_id='NCBI_TAXON:10090',\n",
    "    entity_uri='https://www.ncbi.nlm.nih.gov/Taxonomy/Browser/wwwtax.cgi?id=10090'\n",
    ")\n",
    "\n",
    "# NWBFile experimenter\n",
    "er.add_ref(\n",
    "    container=nwbfile,\n",
    "    attribute=\"experimenter\",\n",
    "    key=\"Dichter, Benjamin K.\",\n",
    "    entity_id=\"ORCID:0000-0001-5725-6910\",\n",
    "    entity_uri=\"https://orcid.org/0000-0001-5725-6910\",\n",
    ")"
   ]
  },
  {
   "cell_type": "code",
   "execution_count": 7,
   "id": "934a249d",
   "metadata": {},
   "outputs": [
    {
     "data": {
      "text/html": [
       "<div>\n",
       "<style scoped>\n",
       "    .dataframe tbody tr th:only-of-type {\n",
       "        vertical-align: middle;\n",
       "    }\n",
       "\n",
       "    .dataframe tbody tr th {\n",
       "        vertical-align: top;\n",
       "    }\n",
       "\n",
       "    .dataframe thead th {\n",
       "        text-align: right;\n",
       "    }\n",
       "</style>\n",
       "<table border=\"1\" class=\"dataframe\">\n",
       "  <thead>\n",
       "    <tr style=\"text-align: right;\">\n",
       "      <th></th>\n",
       "      <th>file_object_id</th>\n",
       "      <th>objects_idx</th>\n",
       "      <th>object_id</th>\n",
       "      <th>files_idx</th>\n",
       "      <th>object_type</th>\n",
       "      <th>relative_path</th>\n",
       "      <th>field</th>\n",
       "      <th>keys_idx</th>\n",
       "      <th>key</th>\n",
       "      <th>entities_idx</th>\n",
       "      <th>entity_id</th>\n",
       "      <th>entity_uri</th>\n",
       "    </tr>\n",
       "  </thead>\n",
       "  <tbody>\n",
       "    <tr>\n",
       "      <th>0</th>\n",
       "      <td>4cad868d-b382-43e1-bac5-94878c25cba0</td>\n",
       "      <td>0</td>\n",
       "      <td>14e9e98f-fe73-4441-b2d4-7789a6a0cbd6</td>\n",
       "      <td>0</td>\n",
       "      <td>VectorData</td>\n",
       "      <td></td>\n",
       "      <td></td>\n",
       "      <td>0</td>\n",
       "      <td>Homo sapiens</td>\n",
       "      <td>0</td>\n",
       "      <td>NCBI_TAXON:9606</td>\n",
       "      <td>https://www.ncbi.nlm.nih.gov/Taxonomy/Browser/...</td>\n",
       "    </tr>\n",
       "    <tr>\n",
       "      <th>1</th>\n",
       "      <td>4cad868d-b382-43e1-bac5-94878c25cba0</td>\n",
       "      <td>1</td>\n",
       "      <td>f0001c28-1f64-4010-ba96-bf51b5ec8728</td>\n",
       "      <td>0</td>\n",
       "      <td>Subject</td>\n",
       "      <td>species</td>\n",
       "      <td></td>\n",
       "      <td>1</td>\n",
       "      <td>Mus musculus</td>\n",
       "      <td>1</td>\n",
       "      <td>NCBI_TAXON:10090</td>\n",
       "      <td>https://www.ncbi.nlm.nih.gov/Taxonomy/Browser/...</td>\n",
       "    </tr>\n",
       "    <tr>\n",
       "      <th>2</th>\n",
       "      <td>4cad868d-b382-43e1-bac5-94878c25cba0</td>\n",
       "      <td>2</td>\n",
       "      <td>4cad868d-b382-43e1-bac5-94878c25cba0</td>\n",
       "      <td>0</td>\n",
       "      <td>NWBFile</td>\n",
       "      <td>general/experimenter</td>\n",
       "      <td></td>\n",
       "      <td>2</td>\n",
       "      <td>Dichter, Benjamin K.</td>\n",
       "      <td>2</td>\n",
       "      <td>ORCID:0000-0001-5725-6910</td>\n",
       "      <td>https://orcid.org/0000-0001-5725-6910</td>\n",
       "    </tr>\n",
       "  </tbody>\n",
       "</table>\n",
       "</div>"
      ],
      "text/plain": [
       "                         file_object_id  objects_idx   \n",
       "0  4cad868d-b382-43e1-bac5-94878c25cba0            0  \\\n",
       "1  4cad868d-b382-43e1-bac5-94878c25cba0            1   \n",
       "2  4cad868d-b382-43e1-bac5-94878c25cba0            2   \n",
       "\n",
       "                              object_id  files_idx object_type   \n",
       "0  14e9e98f-fe73-4441-b2d4-7789a6a0cbd6          0  VectorData  \\\n",
       "1  f0001c28-1f64-4010-ba96-bf51b5ec8728          0     Subject   \n",
       "2  4cad868d-b382-43e1-bac5-94878c25cba0          0     NWBFile   \n",
       "\n",
       "          relative_path field  keys_idx                   key  entities_idx   \n",
       "0                                     0          Homo sapiens             0  \\\n",
       "1               species               1          Mus musculus             1   \n",
       "2  general/experimenter               2  Dichter, Benjamin K.             2   \n",
       "\n",
       "                   entity_id   \n",
       "0            NCBI_TAXON:9606  \\\n",
       "1           NCBI_TAXON:10090   \n",
       "2  ORCID:0000-0001-5725-6910   \n",
       "\n",
       "                                          entity_uri  \n",
       "0  https://www.ncbi.nlm.nih.gov/Taxonomy/Browser/...  \n",
       "1  https://www.ncbi.nlm.nih.gov/Taxonomy/Browser/...  \n",
       "2              https://orcid.org/0000-0001-5725-6910  "
      ]
     },
     "execution_count": 7,
     "metadata": {},
     "output_type": "execute_result"
    }
   ],
   "source": [
    "er.to_dataframe()"
   ]
  },
  {
   "cell_type": "markdown",
   "id": "ae04931b",
   "metadata": {},
   "source": [
    "### add_ref with compound data"
   ]
  },
  {
   "cell_type": "code",
   "execution_count": 33,
   "id": "8a73b63d",
   "metadata": {},
   "outputs": [],
   "source": [
    "col1 = VectorData(\n",
    "    name='Species_column',\n",
    "    description='description',\n",
    "    data=np.array(\n",
    "        [('Mus musculus', 9, 81.0), ('Homo sapiens', 3, 27.0)],\n",
    "        dtype=[('species', 'U14'), ('age', 'i4'), ('weight', 'f4')]\n",
    "    )\n",
    ")\n",
    "\n",
    "species = DynamicTable(name='SpeciesTable', description='My species', columns=[col1],)"
   ]
  },
  {
   "cell_type": "code",
   "execution_count": 34,
   "id": "1b261846",
   "metadata": {},
   "outputs": [
    {
     "ename": "ValueError",
     "evalue": "If you plan on reusing an entity, then entity_uri parameter must be None.",
     "output_type": "error",
     "traceback": [
      "\u001b[0;31m---------------------------------------------------------------------------\u001b[0m",
      "\u001b[0;31mValueError\u001b[0m                                Traceback (most recent call last)",
      "Cell \u001b[0;32mIn[34], line 1\u001b[0m\n\u001b[0;32m----> 1\u001b[0m \u001b[43mer\u001b[49m\u001b[38;5;241;43m.\u001b[39;49m\u001b[43madd_ref\u001b[49m\u001b[43m(\u001b[49m\n\u001b[1;32m      2\u001b[0m \u001b[43m    \u001b[49m\u001b[43mfile\u001b[49m\u001b[38;5;241;43m=\u001b[39;49m\u001b[43mnwbfile\u001b[49m\u001b[43m,\u001b[49m\n\u001b[1;32m      3\u001b[0m \u001b[43m    \u001b[49m\u001b[43mcontainer\u001b[49m\u001b[38;5;241;43m=\u001b[39;49m\u001b[43mspecies\u001b[49m\u001b[43m,\u001b[49m\n\u001b[1;32m      4\u001b[0m \u001b[43m    \u001b[49m\u001b[43mattribute\u001b[49m\u001b[38;5;241;43m=\u001b[39;49m\u001b[38;5;124;43m'\u001b[39;49m\u001b[38;5;124;43mSpecies_column\u001b[39;49m\u001b[38;5;124;43m'\u001b[39;49m\u001b[43m,\u001b[49m\n\u001b[1;32m      5\u001b[0m \u001b[43m    \u001b[49m\u001b[43mfield\u001b[49m\u001b[38;5;241;43m=\u001b[39;49m\u001b[38;5;124;43m'\u001b[39;49m\u001b[38;5;124;43mspecies\u001b[39;49m\u001b[38;5;124;43m'\u001b[39;49m\u001b[43m,\u001b[49m\n\u001b[1;32m      6\u001b[0m \u001b[43m    \u001b[49m\u001b[43mkey\u001b[49m\u001b[38;5;241;43m=\u001b[39;49m\u001b[38;5;124;43m'\u001b[39;49m\u001b[38;5;124;43mMus musculus\u001b[39;49m\u001b[38;5;124;43m'\u001b[39;49m\u001b[43m,\u001b[49m\n\u001b[1;32m      7\u001b[0m \u001b[43m    \u001b[49m\u001b[43mentity_id\u001b[49m\u001b[38;5;241;43m=\u001b[39;49m\u001b[38;5;124;43m'\u001b[39;49m\u001b[38;5;124;43mNCBI_TAXON:10090\u001b[39;49m\u001b[38;5;124;43m'\u001b[39;49m\u001b[43m,\u001b[49m\n\u001b[1;32m      8\u001b[0m \u001b[43m    \u001b[49m\u001b[43mentity_uri\u001b[49m\u001b[38;5;241;43m=\u001b[39;49m\u001b[38;5;124;43m'\u001b[39;49m\u001b[38;5;124;43mhttps://www.ncbi.nlm.nih.gov/Taxonomy/Browser/wwwtax.cgi?id=10090\u001b[39;49m\u001b[38;5;124;43m'\u001b[39;49m\n\u001b[1;32m      9\u001b[0m \u001b[43m)\u001b[49m\n",
      "File \u001b[0;32m~/Research/NWB/hdmf2/hdmf/src/hdmf/utils.py:644\u001b[0m, in \u001b[0;36mdocval.<locals>.dec.<locals>.func_call\u001b[0;34m(*args, **kwargs)\u001b[0m\n\u001b[1;32m    642\u001b[0m \u001b[38;5;28;01mdef\u001b[39;00m \u001b[38;5;21mfunc_call\u001b[39m(\u001b[38;5;241m*\u001b[39margs, \u001b[38;5;241m*\u001b[39m\u001b[38;5;241m*\u001b[39mkwargs):\n\u001b[1;32m    643\u001b[0m     pargs \u001b[38;5;241m=\u001b[39m _check_args(args, kwargs)\n\u001b[0;32m--> 644\u001b[0m     \u001b[38;5;28;01mreturn\u001b[39;00m \u001b[43mfunc\u001b[49m\u001b[43m(\u001b[49m\u001b[43margs\u001b[49m\u001b[43m[\u001b[49m\u001b[38;5;241;43m0\u001b[39;49m\u001b[43m]\u001b[49m\u001b[43m,\u001b[49m\u001b[43m \u001b[49m\u001b[38;5;241;43m*\u001b[39;49m\u001b[38;5;241;43m*\u001b[39;49m\u001b[43mpargs\u001b[49m\u001b[43m)\u001b[49m\n",
      "File \u001b[0;32m~/Research/NWB/hdmf2/hdmf/src/hdmf/common/resources.py:660\u001b[0m, in \u001b[0;36mExternalResources.add_ref\u001b[0;34m(self, **kwargs)\u001b[0m\n\u001b[1;32m    658\u001b[0m \u001b[38;5;28;01mif\u001b[39;00m entity_uri \u001b[38;5;129;01mis\u001b[39;00m \u001b[38;5;129;01mnot\u001b[39;00m \u001b[38;5;28;01mNone\u001b[39;00m:\n\u001b[1;32m    659\u001b[0m     msg \u001b[38;5;241m=\u001b[39m \u001b[38;5;124m'\u001b[39m\u001b[38;5;124mIf you plan on reusing an entity, then entity_uri parameter must be None.\u001b[39m\u001b[38;5;124m'\u001b[39m\n\u001b[0;32m--> 660\u001b[0m     \u001b[38;5;28;01mraise\u001b[39;00m \u001b[38;5;167;01mValueError\u001b[39;00m(msg)\n\u001b[1;32m    661\u001b[0m \u001b[38;5;66;03m# check for entity-key relationship in EntityKeyTable\u001b[39;00m\n\u001b[1;32m    662\u001b[0m key_idx \u001b[38;5;241m=\u001b[39m key\u001b[38;5;241m.\u001b[39midx\n",
      "\u001b[0;31mValueError\u001b[0m: If you plan on reusing an entity, then entity_uri parameter must be None."
     ]
    }
   ],
   "source": [
    "er.add_ref(\n",
    "    file=nwbfile,\n",
    "    container=species,\n",
    "    attribute='Species_column',\n",
    "    field='species',\n",
    "    key='Mus musculus',\n",
    "    entity_id='NCBI_TAXON:10090',\n",
    "    entity_uri='https://www.ncbi.nlm.nih.gov/Taxonomy/Browser/wwwtax.cgi?id=10090'\n",
    ")"
   ]
  },
  {
   "cell_type": "code",
   "execution_count": 35,
   "id": "34ba228c",
   "metadata": {
    "scrolled": true
   },
   "outputs": [
    {
     "data": {
      "text/html": [
       "<div>\n",
       "<style scoped>\n",
       "    .dataframe tbody tr th:only-of-type {\n",
       "        vertical-align: middle;\n",
       "    }\n",
       "\n",
       "    .dataframe tbody tr th {\n",
       "        vertical-align: top;\n",
       "    }\n",
       "\n",
       "    .dataframe thead th {\n",
       "        text-align: right;\n",
       "    }\n",
       "</style>\n",
       "<table border=\"1\" class=\"dataframe\">\n",
       "  <thead>\n",
       "    <tr style=\"text-align: right;\">\n",
       "      <th></th>\n",
       "      <th>file_object_id</th>\n",
       "      <th>objects_idx</th>\n",
       "      <th>object_id</th>\n",
       "      <th>files_idx</th>\n",
       "      <th>object_type</th>\n",
       "      <th>relative_path</th>\n",
       "      <th>field</th>\n",
       "      <th>keys_idx</th>\n",
       "      <th>key</th>\n",
       "      <th>entities_idx</th>\n",
       "      <th>entity_id</th>\n",
       "      <th>entity_uri</th>\n",
       "    </tr>\n",
       "  </thead>\n",
       "  <tbody>\n",
       "    <tr>\n",
       "      <th>0</th>\n",
       "      <td>de741c59-0a24-4ac0-b053-c9313a4517f9</td>\n",
       "      <td>0</td>\n",
       "      <td>463c4780-d2a9-4019-8e0d-63f6c8000524</td>\n",
       "      <td>0</td>\n",
       "      <td>VectorData</td>\n",
       "      <td></td>\n",
       "      <td></td>\n",
       "      <td>0</td>\n",
       "      <td>Homo sapiens</td>\n",
       "      <td>0</td>\n",
       "      <td>NCBI_TAXON:9606</td>\n",
       "      <td>https://www.ncbi.nlm.nih.gov/Taxonomy/Browser/...</td>\n",
       "    </tr>\n",
       "    <tr>\n",
       "      <th>1</th>\n",
       "      <td>de741c59-0a24-4ac0-b053-c9313a4517f9</td>\n",
       "      <td>1</td>\n",
       "      <td>c56950f4-acaf-470c-a955-7c0c6562629f</td>\n",
       "      <td>0</td>\n",
       "      <td>Subject</td>\n",
       "      <td>species</td>\n",
       "      <td></td>\n",
       "      <td>1</td>\n",
       "      <td>Mus musculus</td>\n",
       "      <td>1</td>\n",
       "      <td>NCBI_TAXON:10090</td>\n",
       "      <td>https://www.ncbi.nlm.nih.gov/Taxonomy/Browser/...</td>\n",
       "    </tr>\n",
       "    <tr>\n",
       "      <th>2</th>\n",
       "      <td>de741c59-0a24-4ac0-b053-c9313a4517f9</td>\n",
       "      <td>2</td>\n",
       "      <td>de741c59-0a24-4ac0-b053-c9313a4517f9</td>\n",
       "      <td>0</td>\n",
       "      <td>NWBFile</td>\n",
       "      <td>general/experimenter</td>\n",
       "      <td></td>\n",
       "      <td>2</td>\n",
       "      <td>Dichter, Benjamin K.</td>\n",
       "      <td>2</td>\n",
       "      <td>ORCID:0000-0001-5725-6910</td>\n",
       "      <td>https://orcid.org/0000-0001-5725-6910</td>\n",
       "    </tr>\n",
       "  </tbody>\n",
       "</table>\n",
       "</div>"
      ],
      "text/plain": [
       "                         file_object_id  objects_idx   \n",
       "0  de741c59-0a24-4ac0-b053-c9313a4517f9            0  \\\n",
       "1  de741c59-0a24-4ac0-b053-c9313a4517f9            1   \n",
       "2  de741c59-0a24-4ac0-b053-c9313a4517f9            2   \n",
       "\n",
       "                              object_id  files_idx object_type   \n",
       "0  463c4780-d2a9-4019-8e0d-63f6c8000524          0  VectorData  \\\n",
       "1  c56950f4-acaf-470c-a955-7c0c6562629f          0     Subject   \n",
       "2  de741c59-0a24-4ac0-b053-c9313a4517f9          0     NWBFile   \n",
       "\n",
       "          relative_path field  keys_idx                   key  entities_idx   \n",
       "0                                     0          Homo sapiens             0  \\\n",
       "1               species               1          Mus musculus             1   \n",
       "2  general/experimenter               2  Dichter, Benjamin K.             2   \n",
       "\n",
       "                   entity_id   \n",
       "0            NCBI_TAXON:9606  \\\n",
       "1           NCBI_TAXON:10090   \n",
       "2  ORCID:0000-0001-5725-6910   \n",
       "\n",
       "                                          entity_uri  \n",
       "0  https://www.ncbi.nlm.nih.gov/Taxonomy/Browser/...  \n",
       "1  https://www.ncbi.nlm.nih.gov/Taxonomy/Browser/...  \n",
       "2              https://orcid.org/0000-0001-5725-6910  "
      ]
     },
     "execution_count": 35,
     "metadata": {},
     "output_type": "execute_result"
    }
   ],
   "source": [
    "er.to_dataframe()"
   ]
  },
  {
   "cell_type": "code",
   "execution_count": 9,
   "id": "1a4d7fcf",
   "metadata": {},
   "outputs": [],
   "source": [
    "er.parent=nwbfile"
   ]
  },
  {
   "cell_type": "code",
   "execution_count": 11,
   "id": "c1a18791",
   "metadata": {},
   "outputs": [
    {
     "data": {
      "text/plain": [
       "(subject pynwb.file.Subject at 0x4516273728\n",
       " Fields:\n",
       "   age: P90D\n",
       "   age__reference: birth\n",
       "   description: mouse 5\n",
       "   sex: M\n",
       "   species: Mus musculus\n",
       "   subject_id: 001,\n",
       " external_resources pynwb.resources.ExternalResources at 0x4912954960\n",
       " Fields:\n",
       "   entities: entities <class 'hdmf.common.resources.EntityTable'>\n",
       "   entity_keys: entity_keys <class 'hdmf.common.resources.EntityKeyTable'>\n",
       "   files: files <class 'hdmf.common.resources.FileTable'>\n",
       "   keys: keys <class 'hdmf.common.resources.KeyTable'>\n",
       "   object_keys: object_keys <class 'hdmf.common.resources.ObjectKeyTable'>\n",
       "   objects: objects <class 'hdmf.common.resources.ObjectTable'>)"
      ]
     },
     "execution_count": 11,
     "metadata": {},
     "output_type": "execute_result"
    }
   ],
   "source": [
    "nwbfile.children"
   ]
  },
  {
   "cell_type": "markdown",
   "id": "9a401498",
   "metadata": {},
   "source": [
    "## Write NWBFile and NERD separately"
   ]
  },
  {
   "cell_type": "code",
   "execution_count": 12,
   "id": "30ba3d98",
   "metadata": {},
   "outputs": [],
   "source": [
    "with NWBHDF5IO(\"NWBfile_ER_Example_child.nwb\", \"w\") as io:\n",
    "    io.write(nwbfile)"
   ]
  },
  {
   "cell_type": "code",
   "execution_count": null,
   "id": "4dcbf212",
   "metadata": {},
   "outputs": [],
   "source": [
    "er.to_norm_tsv(path='./')"
   ]
  },
  {
   "cell_type": "markdown",
   "id": "886aeea4",
   "metadata": {},
   "source": [
    "## Read the NWBFile with NERD with NWBHDF5IO"
   ]
  },
  {
   "cell_type": "markdown",
   "id": "a2216191",
   "metadata": {},
   "source": [
    "As we saw in the beginning of this guide, users can set a link to an instance of an `ExternalResources` class. Users also have the option to set an existing instance of `ExternalResources` that exists as a populated zip file. This is conducted through NWBHDF5IO as a path parameter."
   ]
  },
  {
   "cell_type": "code",
   "execution_count": null,
   "id": "ef785180",
   "metadata": {},
   "outputs": [],
   "source": [
    "with NWBHDF5IO(\"sub-Haydn_desc-train_ecephys.nwb\", \"r\", external_resources_path='./') as io:\n",
    "    read_nwbfile = io.read()\n",
    "    read_nwbfile.get_linked_resources()"
   ]
  },
  {
   "cell_type": "markdown",
   "id": "774c5396",
   "metadata": {},
   "source": [
    "# TermSet"
   ]
  },
  {
   "cell_type": "markdown",
   "id": "4e962354",
   "metadata": {},
   "source": [
    "`TermSet` allows users to create their own subset of ontological references and is built upon the resources from LinkML.\n",
    "\n",
    "Use Cases:\n",
    "1. Validation of data. Currently, validation with a `TermSet` is only supported for `Data`, but we are in the talks to expand out to, i.e., experimenters. \n",
    "2. `TermSet` streamlines the user experience for adding new references to `ExternalResources` using `add_ref_term_set`.\n",
    "\n",
    "The first step is create a `.yaml` file "
   ]
  },
  {
   "cell_type": "markdown",
   "id": "335ad90e",
   "metadata": {},
   "source": [
    "![title](taxon.png)"
   ]
  },
  {
   "cell_type": "markdown",
   "id": "92fe7e07",
   "metadata": {},
   "source": [
    "LinkML Enumerations are collections of controlled string values. "
   ]
  },
  {
   "cell_type": "code",
   "execution_count": 1,
   "id": "c1f11342",
   "metadata": {},
   "outputs": [
    {
     "ename": "NameError",
     "evalue": "name 'TermSet' is not defined",
     "output_type": "error",
     "traceback": [
      "\u001b[0;31m---------------------------------------------------------------------------\u001b[0m",
      "\u001b[0;31mNameError\u001b[0m                                 Traceback (most recent call last)",
      "Cell \u001b[0;32mIn[1], line 1\u001b[0m\n\u001b[0;32m----> 1\u001b[0m terms \u001b[38;5;241m=\u001b[39m \u001b[43mTermSet\u001b[49m(term_schema_path\u001b[38;5;241m=\u001b[39m\u001b[38;5;124m'\u001b[39m\u001b[38;5;124m./species_term_set.yaml\u001b[39m\u001b[38;5;124m'\u001b[39m)\n",
      "\u001b[0;31mNameError\u001b[0m: name 'TermSet' is not defined"
     ]
    }
   ],
   "source": [
    "terms = TermSet(term_schema_path='./species_term_set.yaml')"
   ]
  },
  {
   "cell_type": "markdown",
   "id": "9161f884",
   "metadata": {},
   "source": [
    "The `TermSet` class has methods to help you view and retrieve terms."
   ]
  },
  {
   "cell_type": "code",
   "execution_count": 8,
   "id": "e0686900",
   "metadata": {},
   "outputs": [
    {
     "data": {
      "text/plain": [
       "{'Homo sapiens': Term_Info(id='NCBI_TAXON:9606', description='tbd', meaning='https://www.ncbi.nlm.nih.gov/Taxonomy/Browser/wwwtax.cgi?mode=Info&id=9606'),\n",
       " 'Mus musculus': Term_Info(id='Ensemble:10090', description='tbd', meaning='https://rest.ensembl.org/taxonomy/id/10090'),\n",
       " 'Ursus arctos horribilis': Term_Info(id='NCBI_TAXON:116960', description='tbd', meaning='https://www.ncbi.nlm.nih.gov/Taxonomy/Browser/wwwtax.cgi?mode=Info&id=116960'),\n",
       " 'Myrmecophaga tridactyla': Term_Info(id='NCBI_TAXON:71006', description='tbd', meaning='https://www.ncbi.nlm.nih.gov/Taxonomy/Browser/wwwtax.cgi?mode=Info&id=71006')}"
      ]
     },
     "execution_count": 8,
     "metadata": {},
     "output_type": "execute_result"
    }
   ],
   "source": [
    "terms.view_set"
   ]
  },
  {
   "cell_type": "code",
   "execution_count": 9,
   "id": "e5e54841",
   "metadata": {},
   "outputs": [
    {
     "data": {
      "text/plain": [
       "Term_Info(id='NCBI_TAXON:9606', description='tbd', meaning='https://www.ncbi.nlm.nih.gov/Taxonomy/Browser/wwwtax.cgi?mode=Info&id=9606')"
      ]
     },
     "execution_count": 9,
     "metadata": {},
     "output_type": "execute_result"
    }
   ],
   "source": [
    "terms['Homo sapiens']"
   ]
  },
  {
   "cell_type": "markdown",
   "id": "9ec81c76",
   "metadata": {},
   "source": [
    "## Validate Data with a TermSet"
   ]
  },
  {
   "cell_type": "markdown",
   "id": "15a6127e",
   "metadata": {},
   "source": [
    "Data is validated when a TermSet is provided to Data and VectorData."
   ]
  },
  {
   "cell_type": "markdown",
   "id": "a8701ef8",
   "metadata": {},
   "source": [
    "#### Validate Data"
   ]
  },
  {
   "cell_type": "code",
   "execution_count": 10,
   "id": "d82004d6",
   "metadata": {},
   "outputs": [],
   "source": [
    "col1 = VectorData(\n",
    "    name='species',\n",
    "    description='...',\n",
    "    data=['Homo sapiens', 'Mus musculus'],\n",
    "    term_set=terms)"
   ]
  },
  {
   "cell_type": "markdown",
   "id": "d0a4f222",
   "metadata": {},
   "source": [
    "#### Validate Bad Data"
   ]
  },
  {
   "cell_type": "code",
   "execution_count": 11,
   "id": "c3b7d286",
   "metadata": {},
   "outputs": [
    {
     "ename": "ValueError",
     "evalue": "\"Mus muscuklus, Rattus norvegicus, Mus muscuklus, Rattus norvegicus\" is not in the term set.",
     "output_type": "error",
     "traceback": [
      "\u001b[0;31m---------------------------------------------------------------------------\u001b[0m",
      "\u001b[0;31mValueError\u001b[0m                                Traceback (most recent call last)",
      "Cell \u001b[0;32mIn[11], line 1\u001b[0m\n\u001b[0;32m----> 1\u001b[0m col1 \u001b[38;5;241m=\u001b[39m \u001b[43mVectorData\u001b[49m\u001b[43m(\u001b[49m\n\u001b[1;32m      2\u001b[0m \u001b[43m    \u001b[49m\u001b[43mname\u001b[49m\u001b[38;5;241;43m=\u001b[39;49m\u001b[38;5;124;43m'\u001b[39;49m\u001b[38;5;124;43mspecies\u001b[39;49m\u001b[38;5;124;43m'\u001b[39;49m\u001b[43m,\u001b[49m\n\u001b[1;32m      3\u001b[0m \u001b[43m    \u001b[49m\u001b[43mdescription\u001b[49m\u001b[38;5;241;43m=\u001b[39;49m\u001b[38;5;124;43m'\u001b[39;49m\u001b[38;5;124;43m...\u001b[39;49m\u001b[38;5;124;43m'\u001b[39;49m\u001b[43m,\u001b[49m\n\u001b[1;32m      4\u001b[0m \u001b[43m    \u001b[49m\u001b[43mdata\u001b[49m\u001b[38;5;241;43m=\u001b[39;49m\u001b[43m[\u001b[49m\u001b[38;5;124;43m'\u001b[39;49m\u001b[38;5;124;43mHomo sapiens\u001b[39;49m\u001b[38;5;124;43m'\u001b[39;49m\u001b[43m,\u001b[49m\u001b[43m \u001b[49m\u001b[38;5;124;43m'\u001b[39;49m\u001b[38;5;124;43mMus muscuklus\u001b[39;49m\u001b[38;5;124;43m'\u001b[39;49m\u001b[43m,\u001b[49m\u001b[43m \u001b[49m\u001b[38;5;124;43m'\u001b[39;49m\u001b[38;5;124;43mRattus norvegicus\u001b[39;49m\u001b[38;5;124;43m'\u001b[39;49m\u001b[43m]\u001b[49m\u001b[43m,\u001b[49m\n\u001b[1;32m      5\u001b[0m \u001b[43m    \u001b[49m\u001b[43mterm_set\u001b[49m\u001b[38;5;241;43m=\u001b[39;49m\u001b[43mterms\u001b[49m\u001b[43m,\u001b[49m\n\u001b[1;32m      6\u001b[0m \u001b[43m)\u001b[49m\n",
      "File \u001b[0;32m~/Research/NWB/hdmf2/hdmf/src/hdmf/utils.py:644\u001b[0m, in \u001b[0;36mdocval.<locals>.dec.<locals>.func_call\u001b[0;34m(*args, **kwargs)\u001b[0m\n\u001b[1;32m    642\u001b[0m \u001b[38;5;28;01mdef\u001b[39;00m \u001b[38;5;21mfunc_call\u001b[39m(\u001b[38;5;241m*\u001b[39margs, \u001b[38;5;241m*\u001b[39m\u001b[38;5;241m*\u001b[39mkwargs):\n\u001b[1;32m    643\u001b[0m     pargs \u001b[38;5;241m=\u001b[39m _check_args(args, kwargs)\n\u001b[0;32m--> 644\u001b[0m     \u001b[38;5;28;01mreturn\u001b[39;00m \u001b[43mfunc\u001b[49m\u001b[43m(\u001b[49m\u001b[43margs\u001b[49m\u001b[43m[\u001b[49m\u001b[38;5;241;43m0\u001b[39;49m\u001b[43m]\u001b[49m\u001b[43m,\u001b[49m\u001b[43m \u001b[49m\u001b[38;5;241;43m*\u001b[39;49m\u001b[38;5;241;43m*\u001b[39;49m\u001b[43mpargs\u001b[49m\u001b[43m)\u001b[49m\n",
      "File \u001b[0;32m~/Research/NWB/hdmf2/hdmf/src/hdmf/common/table.py:47\u001b[0m, in \u001b[0;36mVectorData.__init__\u001b[0;34m(self, **kwargs)\u001b[0m\n\u001b[1;32m     38\u001b[0m \u001b[38;5;129m@docval\u001b[39m({\u001b[38;5;124m'\u001b[39m\u001b[38;5;124mname\u001b[39m\u001b[38;5;124m'\u001b[39m: \u001b[38;5;124m'\u001b[39m\u001b[38;5;124mname\u001b[39m\u001b[38;5;124m'\u001b[39m, \u001b[38;5;124m'\u001b[39m\u001b[38;5;124mtype\u001b[39m\u001b[38;5;124m'\u001b[39m: \u001b[38;5;28mstr\u001b[39m, \u001b[38;5;124m'\u001b[39m\u001b[38;5;124mdoc\u001b[39m\u001b[38;5;124m'\u001b[39m: \u001b[38;5;124m'\u001b[39m\u001b[38;5;124mthe name of this VectorData\u001b[39m\u001b[38;5;124m'\u001b[39m},\n\u001b[1;32m     39\u001b[0m         {\u001b[38;5;124m'\u001b[39m\u001b[38;5;124mname\u001b[39m\u001b[38;5;124m'\u001b[39m: \u001b[38;5;124m'\u001b[39m\u001b[38;5;124mdescription\u001b[39m\u001b[38;5;124m'\u001b[39m, \u001b[38;5;124m'\u001b[39m\u001b[38;5;124mtype\u001b[39m\u001b[38;5;124m'\u001b[39m: \u001b[38;5;28mstr\u001b[39m, \u001b[38;5;124m'\u001b[39m\u001b[38;5;124mdoc\u001b[39m\u001b[38;5;124m'\u001b[39m: \u001b[38;5;124m'\u001b[39m\u001b[38;5;124ma description for this column\u001b[39m\u001b[38;5;124m'\u001b[39m},\n\u001b[1;32m     40\u001b[0m         {\u001b[38;5;124m'\u001b[39m\u001b[38;5;124mname\u001b[39m\u001b[38;5;124m'\u001b[39m: \u001b[38;5;124m'\u001b[39m\u001b[38;5;124mdata\u001b[39m\u001b[38;5;124m'\u001b[39m, \u001b[38;5;124m'\u001b[39m\u001b[38;5;124mtype\u001b[39m\u001b[38;5;124m'\u001b[39m: (\u001b[38;5;124m'\u001b[39m\u001b[38;5;124marray_data\u001b[39m\u001b[38;5;124m'\u001b[39m, \u001b[38;5;124m'\u001b[39m\u001b[38;5;124mdata\u001b[39m\u001b[38;5;124m'\u001b[39m),\n\u001b[0;32m   (...)\u001b[0m\n\u001b[1;32m     44\u001b[0m         allow_positional\u001b[38;5;241m=\u001b[39mAllowPositional\u001b[38;5;241m.\u001b[39mWARNING)\n\u001b[1;32m     45\u001b[0m \u001b[38;5;28;01mdef\u001b[39;00m \u001b[38;5;21m__init__\u001b[39m(\u001b[38;5;28mself\u001b[39m, \u001b[38;5;241m*\u001b[39m\u001b[38;5;241m*\u001b[39mkwargs):\n\u001b[1;32m     46\u001b[0m     description \u001b[38;5;241m=\u001b[39m popargs(\u001b[38;5;124m'\u001b[39m\u001b[38;5;124mdescription\u001b[39m\u001b[38;5;124m'\u001b[39m, kwargs)\n\u001b[0;32m---> 47\u001b[0m     \u001b[38;5;28;43msuper\u001b[39;49m\u001b[43m(\u001b[49m\u001b[43m)\u001b[49m\u001b[38;5;241;43m.\u001b[39;49m\u001b[38;5;21;43m__init__\u001b[39;49m\u001b[43m(\u001b[49m\u001b[38;5;241;43m*\u001b[39;49m\u001b[38;5;241;43m*\u001b[39;49m\u001b[43mkwargs\u001b[49m\u001b[43m)\u001b[49m\n\u001b[1;32m     48\u001b[0m     \u001b[38;5;28mself\u001b[39m\u001b[38;5;241m.\u001b[39mdescription \u001b[38;5;241m=\u001b[39m description\n",
      "File \u001b[0;32m~/Research/NWB/hdmf2/hdmf/src/hdmf/utils.py:644\u001b[0m, in \u001b[0;36mdocval.<locals>.dec.<locals>.func_call\u001b[0;34m(*args, **kwargs)\u001b[0m\n\u001b[1;32m    642\u001b[0m \u001b[38;5;28;01mdef\u001b[39;00m \u001b[38;5;21mfunc_call\u001b[39m(\u001b[38;5;241m*\u001b[39margs, \u001b[38;5;241m*\u001b[39m\u001b[38;5;241m*\u001b[39mkwargs):\n\u001b[1;32m    643\u001b[0m     pargs \u001b[38;5;241m=\u001b[39m _check_args(args, kwargs)\n\u001b[0;32m--> 644\u001b[0m     \u001b[38;5;28;01mreturn\u001b[39;00m \u001b[43mfunc\u001b[49m\u001b[43m(\u001b[49m\u001b[43margs\u001b[49m\u001b[43m[\u001b[49m\u001b[38;5;241;43m0\u001b[39;49m\u001b[43m]\u001b[49m\u001b[43m,\u001b[49m\u001b[43m \u001b[49m\u001b[38;5;241;43m*\u001b[39;49m\u001b[38;5;241;43m*\u001b[39;49m\u001b[43mpargs\u001b[49m\u001b[43m)\u001b[49m\n",
      "File \u001b[0;32m~/Research/NWB/hdmf2/hdmf/src/hdmf/container.py:718\u001b[0m, in \u001b[0;36mData.__init__\u001b[0;34m(self, **kwargs)\u001b[0m\n\u001b[1;32m    716\u001b[0m     \u001b[38;5;28;01mif\u001b[39;00m \u001b[38;5;28mlen\u001b[39m(bad_data)\u001b[38;5;241m!=\u001b[39m\u001b[38;5;241m0\u001b[39m:\n\u001b[1;32m    717\u001b[0m         msg \u001b[38;5;241m=\u001b[39m (\u001b[38;5;124m'\u001b[39m\u001b[38;5;124m\"\u001b[39m\u001b[38;5;132;01m%s\u001b[39;00m\u001b[38;5;124m\"\u001b[39m\u001b[38;5;124m is not in the term set.\u001b[39m\u001b[38;5;124m'\u001b[39m \u001b[38;5;241m%\u001b[39m \u001b[38;5;124m'\u001b[39m\u001b[38;5;124m, \u001b[39m\u001b[38;5;124m'\u001b[39m\u001b[38;5;241m.\u001b[39mjoin([\u001b[38;5;28mstr\u001b[39m(item) \u001b[38;5;28;01mfor\u001b[39;00m item \u001b[38;5;129;01min\u001b[39;00m bad_data]))\n\u001b[0;32m--> 718\u001b[0m         \u001b[38;5;28;01mraise\u001b[39;00m \u001b[38;5;167;01mValueError\u001b[39;00m(msg)\n\u001b[1;32m    719\u001b[0m     \u001b[38;5;28mself\u001b[39m\u001b[38;5;241m.\u001b[39m__data \u001b[38;5;241m=\u001b[39m data\n\u001b[1;32m    720\u001b[0m \u001b[38;5;28;01melse\u001b[39;00m:\n",
      "\u001b[0;31mValueError\u001b[0m: \"Mus muscuklus, Rattus norvegicus, Mus muscuklus, Rattus norvegicus\" is not in the term set."
     ]
    }
   ],
   "source": [
    "col1 = VectorData(\n",
    "    name='species',\n",
    "    description='...',\n",
    "    data=['Homo sapiens', 'Mus muscuklus', 'Rattus norvegicus'],\n",
    "    term_set=terms,\n",
    ")"
   ]
  },
  {
   "cell_type": "markdown",
   "id": "d8297b1a",
   "metadata": {},
   "source": [
    "#### Validate Data on append"
   ]
  },
  {
   "cell_type": "code",
   "execution_count": 7,
   "id": "8aa2cd52",
   "metadata": {},
   "outputs": [],
   "source": [
    "# append \n",
    "col1 = VectorData(\n",
    "    name='species',\n",
    "    description='...',\n",
    "    data=['Homo sapiens', 'Ursus arctos horribilis'],\n",
    "    term_set=terms,\n",
    ")\n",
    "col1.append('Mus musculus')"
   ]
  },
  {
   "cell_type": "markdown",
   "id": "fca75eac",
   "metadata": {},
   "source": [
    "#### Validate Bad Data on append"
   ]
  },
  {
   "cell_type": "code",
   "execution_count": 8,
   "id": "882d0632",
   "metadata": {
    "scrolled": true
   },
   "outputs": [
    {
     "ename": "ValueError",
     "evalue": "\"Macaca mulatta\" is not in the term set.",
     "output_type": "error",
     "traceback": [
      "\u001b[0;31m---------------------------------------------------------------------------\u001b[0m",
      "\u001b[0;31mValueError\u001b[0m                                Traceback (most recent call last)",
      "Cell \u001b[0;32mIn[8], line 8\u001b[0m\n\u001b[1;32m      1\u001b[0m \u001b[38;5;66;03m# append bad data\u001b[39;00m\n\u001b[1;32m      2\u001b[0m col1 \u001b[38;5;241m=\u001b[39m VectorData(\n\u001b[1;32m      3\u001b[0m     name\u001b[38;5;241m=\u001b[39m\u001b[38;5;124m'\u001b[39m\u001b[38;5;124mspecies\u001b[39m\u001b[38;5;124m'\u001b[39m,\n\u001b[1;32m      4\u001b[0m     description\u001b[38;5;241m=\u001b[39m\u001b[38;5;124m'\u001b[39m\u001b[38;5;124m...\u001b[39m\u001b[38;5;124m'\u001b[39m,\n\u001b[1;32m      5\u001b[0m     data\u001b[38;5;241m=\u001b[39m[\u001b[38;5;124m'\u001b[39m\u001b[38;5;124mHomo sapiens\u001b[39m\u001b[38;5;124m'\u001b[39m, \u001b[38;5;124m'\u001b[39m\u001b[38;5;124mUrsus arctos horribilis\u001b[39m\u001b[38;5;124m'\u001b[39m],\n\u001b[1;32m      6\u001b[0m     term_set\u001b[38;5;241m=\u001b[39mterms,\n\u001b[1;32m      7\u001b[0m )\n\u001b[0;32m----> 8\u001b[0m \u001b[43mcol1\u001b[49m\u001b[38;5;241;43m.\u001b[39;49m\u001b[43mappend\u001b[49m\u001b[43m(\u001b[49m\u001b[38;5;124;43m'\u001b[39;49m\u001b[38;5;124;43mMacaca mulatta\u001b[39;49m\u001b[38;5;124;43m'\u001b[39;49m\u001b[43m)\u001b[49m\n",
      "File \u001b[0;32m~/Research/NWB/hdmf/src/hdmf/container.py:640\u001b[0m, in \u001b[0;36mData.append\u001b[0;34m(self, arg)\u001b[0m\n\u001b[1;32m    638\u001b[0m \u001b[38;5;28;01melse\u001b[39;00m:\n\u001b[1;32m    639\u001b[0m     msg \u001b[38;5;241m=\u001b[39m (\u001b[38;5;124m'\u001b[39m\u001b[38;5;124m\"\u001b[39m\u001b[38;5;132;01m%s\u001b[39;00m\u001b[38;5;124m\"\u001b[39m\u001b[38;5;124m is not in the term set.\u001b[39m\u001b[38;5;124m'\u001b[39m \u001b[38;5;241m%\u001b[39m arg)\n\u001b[0;32m--> 640\u001b[0m     \u001b[38;5;28;01mraise\u001b[39;00m \u001b[38;5;167;01mValueError\u001b[39;00m(msg)\n",
      "\u001b[0;31mValueError\u001b[0m: \"Macaca mulatta\" is not in the term set."
     ]
    }
   ],
   "source": [
    "# append bad data\n",
    "col1 = VectorData(\n",
    "    name='species',\n",
    "    description='...',\n",
    "    data=['Homo sapiens', 'Ursus arctos horribilis'],\n",
    "    term_set=terms,\n",
    ")\n",
    "col1.append('Macaca mulatta')"
   ]
  },
  {
   "cell_type": "markdown",
   "id": "40c8efd9",
   "metadata": {},
   "source": [
    "#### Validate Data on extend"
   ]
  },
  {
   "cell_type": "code",
   "execution_count": 9,
   "id": "2d003b08",
   "metadata": {},
   "outputs": [],
   "source": [
    "# extend\n",
    "col1 = VectorData(\n",
    "    name='species',\n",
    "    description='...',\n",
    "    data=['Homo sapiens'],\n",
    "    term_set=terms,\n",
    ")\n",
    "col1.extend(['Mus musculus', 'Ursus arctos horribilis'])"
   ]
  },
  {
   "cell_type": "markdown",
   "id": "e7755bb2",
   "metadata": {},
   "source": [
    "#### Validate Bad Data on extend"
   ]
  },
  {
   "cell_type": "code",
   "execution_count": 10,
   "id": "a234d85c",
   "metadata": {},
   "outputs": [
    {
     "ename": "ValueError",
     "evalue": "\"Macaca mulatta, Oryctolagus cuniculus\" is not in the term set.",
     "output_type": "error",
     "traceback": [
      "\u001b[0;31m---------------------------------------------------------------------------\u001b[0m",
      "\u001b[0;31mValueError\u001b[0m                                Traceback (most recent call last)",
      "Cell \u001b[0;32mIn[10], line 8\u001b[0m\n\u001b[1;32m      1\u001b[0m \u001b[38;5;66;03m# extend bad data\u001b[39;00m\n\u001b[1;32m      2\u001b[0m col1 \u001b[38;5;241m=\u001b[39m VectorData(\n\u001b[1;32m      3\u001b[0m     name\u001b[38;5;241m=\u001b[39m\u001b[38;5;124m'\u001b[39m\u001b[38;5;124mspecies\u001b[39m\u001b[38;5;124m'\u001b[39m,\n\u001b[1;32m      4\u001b[0m     description\u001b[38;5;241m=\u001b[39m\u001b[38;5;124m'\u001b[39m\u001b[38;5;124m...\u001b[39m\u001b[38;5;124m'\u001b[39m,\n\u001b[1;32m      5\u001b[0m     data\u001b[38;5;241m=\u001b[39m[\u001b[38;5;124m'\u001b[39m\u001b[38;5;124mHomo sapiens\u001b[39m\u001b[38;5;124m'\u001b[39m],\n\u001b[1;32m      6\u001b[0m     term_set\u001b[38;5;241m=\u001b[39mterms,\n\u001b[1;32m      7\u001b[0m )\n\u001b[0;32m----> 8\u001b[0m \u001b[43mcol1\u001b[49m\u001b[38;5;241;43m.\u001b[39;49m\u001b[43mextend\u001b[49m\u001b[43m(\u001b[49m\u001b[43m[\u001b[49m\u001b[38;5;124;43m'\u001b[39;49m\u001b[38;5;124;43mMacaca mulatta\u001b[39;49m\u001b[38;5;124;43m'\u001b[39;49m\u001b[43m,\u001b[49m\u001b[43m \u001b[49m\u001b[38;5;124;43m'\u001b[39;49m\u001b[38;5;124;43mOryctolagus cuniculus\u001b[39;49m\u001b[38;5;124;43m'\u001b[39;49m\u001b[43m]\u001b[49m\u001b[43m)\u001b[49m\n",
      "File \u001b[0;32m~/Research/NWB/hdmf/src/hdmf/common/table.py:95\u001b[0m, in \u001b[0;36mVectorData.extend\u001b[0;34m(self, ar, **kwargs)\u001b[0m\n\u001b[1;32m     88\u001b[0m \u001b[38;5;66;03m#################################################################################\u001b[39;00m\n\u001b[1;32m     89\u001b[0m \u001b[38;5;66;03m# Each subclass of VectorData should have its own extend method to ensure\u001b[39;00m\n\u001b[1;32m     90\u001b[0m \u001b[38;5;66;03m# functionality AND efficiency of the extend operation. However, because currently\u001b[39;00m\n\u001b[1;32m     91\u001b[0m \u001b[38;5;66;03m# they do not all have one of these methods, the only way to ensure functionality\u001b[39;00m\n\u001b[1;32m     92\u001b[0m \u001b[38;5;66;03m# is with calls to add_row. Because that is inefficient for basic VectorData,\u001b[39;00m\n\u001b[1;32m     93\u001b[0m \u001b[38;5;66;03m# this check is added to ensure we always call extend on a basic VectorData.\u001b[39;00m\n\u001b[1;32m     94\u001b[0m \u001b[38;5;28;01mif\u001b[39;00m \u001b[38;5;28mself\u001b[39m\u001b[38;5;241m.\u001b[39m\u001b[38;5;18m__class__\u001b[39m\u001b[38;5;241m.\u001b[39m\u001b[38;5;18m__mro__\u001b[39m[\u001b[38;5;241m0\u001b[39m] \u001b[38;5;241m==\u001b[39m VectorData:\n\u001b[0;32m---> 95\u001b[0m     \u001b[38;5;28;43msuper\u001b[39;49m\u001b[43m(\u001b[49m\u001b[43m)\u001b[49m\u001b[38;5;241;43m.\u001b[39;49m\u001b[43mextend\u001b[49m\u001b[43m(\u001b[49m\u001b[43mar\u001b[49m\u001b[43m)\u001b[49m\n\u001b[1;32m     96\u001b[0m \u001b[38;5;28;01melse\u001b[39;00m:\n\u001b[1;32m     97\u001b[0m     \u001b[38;5;28;01mfor\u001b[39;00m i \u001b[38;5;129;01min\u001b[39;00m ar:\n",
      "File \u001b[0;32m~/Research/NWB/hdmf/src/hdmf/container.py:660\u001b[0m, in \u001b[0;36mData.extend\u001b[0;34m(self, arg)\u001b[0m\n\u001b[1;32m    658\u001b[0m \u001b[38;5;28;01mif\u001b[39;00m \u001b[38;5;28mlen\u001b[39m(bad_data)\u001b[38;5;241m!=\u001b[39m\u001b[38;5;241m0\u001b[39m:\n\u001b[1;32m    659\u001b[0m     msg \u001b[38;5;241m=\u001b[39m (\u001b[38;5;124m'\u001b[39m\u001b[38;5;124m\"\u001b[39m\u001b[38;5;132;01m%s\u001b[39;00m\u001b[38;5;124m\"\u001b[39m\u001b[38;5;124m is not in the term set.\u001b[39m\u001b[38;5;124m'\u001b[39m \u001b[38;5;241m%\u001b[39m \u001b[38;5;124m'\u001b[39m\u001b[38;5;124m, \u001b[39m\u001b[38;5;124m'\u001b[39m\u001b[38;5;241m.\u001b[39mjoin([\u001b[38;5;28mstr\u001b[39m(item) \u001b[38;5;28;01mfor\u001b[39;00m item \u001b[38;5;129;01min\u001b[39;00m bad_data]))\n\u001b[0;32m--> 660\u001b[0m     \u001b[38;5;28;01mraise\u001b[39;00m \u001b[38;5;167;01mValueError\u001b[39;00m(msg)\n",
      "\u001b[0;31mValueError\u001b[0m: \"Macaca mulatta, Oryctolagus cuniculus\" is not in the term set."
     ]
    }
   ],
   "source": [
    "# extend bad data\n",
    "col1 = VectorData(\n",
    "    name='species',\n",
    "    description='...',\n",
    "    data=['Homo sapiens'],\n",
    "    term_set=terms,\n",
    ")\n",
    "col1.extend(['Macaca mulatta', 'Oryctolagus cuniculus'])"
   ]
  },
  {
   "cell_type": "markdown",
   "id": "dc32c252",
   "metadata": {},
   "source": [
    "#### Validate with add_row example 1"
   ]
  },
  {
   "cell_type": "markdown",
   "id": "c1936d0e",
   "metadata": {},
   "source": [
    "Validating new data is determined by whether the `VectorData` column was intialized with validate. `DynamicTable` will automatically check for columns that have validation set. If any of the new data is actually *bad* data, then `add_row` will not add any new data."
   ]
  },
  {
   "cell_type": "code",
   "execution_count": 14,
   "id": "fe37a3c3",
   "metadata": {},
   "outputs": [],
   "source": [
    "col1 = VectorData(\n",
    "    name='Species_1',\n",
    "    description='...',\n",
    "    data=['Homo sapiens'],\n",
    "    term_set=terms,\n",
    ")\n",
    "col2 = VectorData(\n",
    "    name='Species_2',\n",
    "    description='...',\n",
    "    data=['Mus musculus'],\n",
    "    term_set=terms,\n",
    ")\n",
    "species = DynamicTable(name='species', description='My species', columns=[col1,col2])"
   ]
  },
  {
   "cell_type": "code",
   "execution_count": 15,
   "id": "0cea528f",
   "metadata": {},
   "outputs": [
    {
     "ename": "ValueError",
     "evalue": "\"bad\" is not in the term set.",
     "output_type": "error",
     "traceback": [
      "\u001b[0;31m---------------------------------------------------------------------------\u001b[0m",
      "\u001b[0;31mValueError\u001b[0m                                Traceback (most recent call last)",
      "Cell \u001b[0;32mIn[15], line 2\u001b[0m\n\u001b[1;32m      1\u001b[0m \u001b[38;5;66;03m# add bad data\u001b[39;00m\n\u001b[0;32m----> 2\u001b[0m \u001b[43mspecies\u001b[49m\u001b[38;5;241;43m.\u001b[39;49m\u001b[43madd_row\u001b[49m\u001b[43m(\u001b[49m\u001b[43mSpecies_1\u001b[49m\u001b[38;5;241;43m=\u001b[39;49m\u001b[38;5;124;43m'\u001b[39;49m\u001b[38;5;124;43mMus musculus\u001b[39;49m\u001b[38;5;124;43m'\u001b[39;49m\u001b[43m,\u001b[49m\u001b[43m \u001b[49m\u001b[43mSpecies_2\u001b[49m\u001b[38;5;241;43m=\u001b[39;49m\u001b[38;5;124;43m'\u001b[39;49m\u001b[38;5;124;43mbad\u001b[39;49m\u001b[38;5;124;43m'\u001b[39;49m\u001b[43m)\u001b[49m\n",
      "File \u001b[0;32m~/Research/NWB/hdmf/src/hdmf/utils.py:645\u001b[0m, in \u001b[0;36mdocval.<locals>.dec.<locals>.func_call\u001b[0;34m(*args, **kwargs)\u001b[0m\n\u001b[1;32m    643\u001b[0m \u001b[38;5;28;01mdef\u001b[39;00m \u001b[38;5;21mfunc_call\u001b[39m(\u001b[38;5;241m*\u001b[39margs, \u001b[38;5;241m*\u001b[39m\u001b[38;5;241m*\u001b[39mkwargs):\n\u001b[1;32m    644\u001b[0m     pargs \u001b[38;5;241m=\u001b[39m _check_args(args, kwargs)\n\u001b[0;32m--> 645\u001b[0m     \u001b[38;5;28;01mreturn\u001b[39;00m \u001b[43mfunc\u001b[49m\u001b[43m(\u001b[49m\u001b[43margs\u001b[49m\u001b[43m[\u001b[49m\u001b[38;5;241;43m0\u001b[39;49m\u001b[43m]\u001b[49m\u001b[43m,\u001b[49m\u001b[43m \u001b[49m\u001b[38;5;241;43m*\u001b[39;49m\u001b[38;5;241;43m*\u001b[39;49m\u001b[43mpargs\u001b[49m\u001b[43m)\u001b[49m\n",
      "File \u001b[0;32m~/Research/NWB/hdmf/src/hdmf/common/table.py:613\u001b[0m, in \u001b[0;36mDynamicTable.add_row\u001b[0;34m(self, **kwargs)\u001b[0m\n\u001b[1;32m    611\u001b[0m \u001b[38;5;28;01mif\u001b[39;00m \u001b[38;5;28mlen\u001b[39m(bad_data)\u001b[38;5;241m!=\u001b[39m\u001b[38;5;241m0\u001b[39m:\n\u001b[1;32m    612\u001b[0m     msg \u001b[38;5;241m=\u001b[39m (\u001b[38;5;124m'\u001b[39m\u001b[38;5;124m\"\u001b[39m\u001b[38;5;132;01m%s\u001b[39;00m\u001b[38;5;124m\"\u001b[39m\u001b[38;5;124m is not in the term set.\u001b[39m\u001b[38;5;124m'\u001b[39m \u001b[38;5;241m%\u001b[39m \u001b[38;5;124m'\u001b[39m\u001b[38;5;124m, \u001b[39m\u001b[38;5;124m'\u001b[39m\u001b[38;5;241m.\u001b[39mjoin([\u001b[38;5;28mstr\u001b[39m(item) \u001b[38;5;28;01mfor\u001b[39;00m item \u001b[38;5;129;01min\u001b[39;00m bad_data]))\n\u001b[0;32m--> 613\u001b[0m     \u001b[38;5;28;01mraise\u001b[39;00m \u001b[38;5;167;01mValueError\u001b[39;00m(msg)\n\u001b[1;32m    615\u001b[0m \u001b[38;5;66;03m# check to see if any of the extra columns just need to be added\u001b[39;00m\n\u001b[1;32m    616\u001b[0m \u001b[38;5;28;01mif\u001b[39;00m extra_columns:\n",
      "\u001b[0;31mValueError\u001b[0m: \"bad\" is not in the term set."
     ]
    }
   ],
   "source": [
    "# add bad data\n",
    "species.add_row(Species_1='Mus musculus', Species_2='bad')"
   ]
  },
  {
   "cell_type": "code",
   "execution_count": 16,
   "id": "b6ccf564",
   "metadata": {},
   "outputs": [
    {
     "data": {
      "text/html": [
       "<div>\n",
       "<style scoped>\n",
       "    .dataframe tbody tr th:only-of-type {\n",
       "        vertical-align: middle;\n",
       "    }\n",
       "\n",
       "    .dataframe tbody tr th {\n",
       "        vertical-align: top;\n",
       "    }\n",
       "\n",
       "    .dataframe thead th {\n",
       "        text-align: right;\n",
       "    }\n",
       "</style>\n",
       "<table border=\"1\" class=\"dataframe\">\n",
       "  <thead>\n",
       "    <tr style=\"text-align: right;\">\n",
       "      <th></th>\n",
       "      <th>Species_1</th>\n",
       "      <th>Species_2</th>\n",
       "    </tr>\n",
       "    <tr>\n",
       "      <th>id</th>\n",
       "      <th></th>\n",
       "      <th></th>\n",
       "    </tr>\n",
       "  </thead>\n",
       "  <tbody>\n",
       "    <tr>\n",
       "      <th>0</th>\n",
       "      <td>Homo sapiens</td>\n",
       "      <td>Mus musculus</td>\n",
       "    </tr>\n",
       "  </tbody>\n",
       "</table>\n",
       "</div>"
      ],
      "text/plain": [
       "       Species_1     Species_2\n",
       "id                            \n",
       "0   Homo sapiens  Mus musculus"
      ]
     },
     "execution_count": 16,
     "metadata": {},
     "output_type": "execute_result"
    }
   ],
   "source": [
    "species.to_dataframe()"
   ]
  },
  {
   "cell_type": "markdown",
   "id": "24141509",
   "metadata": {},
   "source": [
    "#### Validate with add_row example 2"
   ]
  },
  {
   "cell_type": "markdown",
   "id": "4497c9fa",
   "metadata": {},
   "source": [
    "`add_row` does not validate every column. It only validates the data for `VectorData` that has validate set."
   ]
  },
  {
   "cell_type": "code",
   "execution_count": 17,
   "id": "a10cc3f3",
   "metadata": {},
   "outputs": [],
   "source": [
    "col1 = VectorData(\n",
    "    name='Species_1',\n",
    "    description='...',\n",
    "    data=['Homo sapiens'],\n",
    "    term_set=terms,\n",
    ")\n",
    "col2 = VectorData(\n",
    "    name='Species_2',\n",
    "    description='...',\n",
    "    data=['Mus musculus'],\n",
    ")\n",
    "species = DynamicTable(name='species', description='My species', columns=[col1,col2])"
   ]
  },
  {
   "cell_type": "code",
   "execution_count": 18,
   "id": "cccd4a06",
   "metadata": {},
   "outputs": [
    {
     "ename": "ValueError",
     "evalue": "\"Mus mrusculus\" is not in the term set.",
     "output_type": "error",
     "traceback": [
      "\u001b[0;31m---------------------------------------------------------------------------\u001b[0m",
      "\u001b[0;31mValueError\u001b[0m                                Traceback (most recent call last)",
      "Cell \u001b[0;32mIn[18], line 1\u001b[0m\n\u001b[0;32m----> 1\u001b[0m \u001b[43mspecies\u001b[49m\u001b[38;5;241;43m.\u001b[39;49m\u001b[43madd_row\u001b[49m\u001b[43m(\u001b[49m\u001b[43mSpecies_1\u001b[49m\u001b[38;5;241;43m=\u001b[39;49m\u001b[38;5;124;43m'\u001b[39;49m\u001b[38;5;124;43mMus mrusculus\u001b[39;49m\u001b[38;5;124;43m'\u001b[39;49m\u001b[43m,\u001b[49m\u001b[43m \u001b[49m\u001b[43mSpecies_2\u001b[49m\u001b[38;5;241;43m=\u001b[39;49m\u001b[38;5;124;43m'\u001b[39;49m\u001b[38;5;124;43mrat\u001b[39;49m\u001b[38;5;124;43m'\u001b[39;49m\u001b[43m)\u001b[49m\n",
      "File \u001b[0;32m~/Research/NWB/hdmf/src/hdmf/utils.py:645\u001b[0m, in \u001b[0;36mdocval.<locals>.dec.<locals>.func_call\u001b[0;34m(*args, **kwargs)\u001b[0m\n\u001b[1;32m    643\u001b[0m \u001b[38;5;28;01mdef\u001b[39;00m \u001b[38;5;21mfunc_call\u001b[39m(\u001b[38;5;241m*\u001b[39margs, \u001b[38;5;241m*\u001b[39m\u001b[38;5;241m*\u001b[39mkwargs):\n\u001b[1;32m    644\u001b[0m     pargs \u001b[38;5;241m=\u001b[39m _check_args(args, kwargs)\n\u001b[0;32m--> 645\u001b[0m     \u001b[38;5;28;01mreturn\u001b[39;00m \u001b[43mfunc\u001b[49m\u001b[43m(\u001b[49m\u001b[43margs\u001b[49m\u001b[43m[\u001b[49m\u001b[38;5;241;43m0\u001b[39;49m\u001b[43m]\u001b[49m\u001b[43m,\u001b[49m\u001b[43m \u001b[49m\u001b[38;5;241;43m*\u001b[39;49m\u001b[38;5;241;43m*\u001b[39;49m\u001b[43mpargs\u001b[49m\u001b[43m)\u001b[49m\n",
      "File \u001b[0;32m~/Research/NWB/hdmf/src/hdmf/common/table.py:613\u001b[0m, in \u001b[0;36mDynamicTable.add_row\u001b[0;34m(self, **kwargs)\u001b[0m\n\u001b[1;32m    611\u001b[0m \u001b[38;5;28;01mif\u001b[39;00m \u001b[38;5;28mlen\u001b[39m(bad_data)\u001b[38;5;241m!=\u001b[39m\u001b[38;5;241m0\u001b[39m:\n\u001b[1;32m    612\u001b[0m     msg \u001b[38;5;241m=\u001b[39m (\u001b[38;5;124m'\u001b[39m\u001b[38;5;124m\"\u001b[39m\u001b[38;5;132;01m%s\u001b[39;00m\u001b[38;5;124m\"\u001b[39m\u001b[38;5;124m is not in the term set.\u001b[39m\u001b[38;5;124m'\u001b[39m \u001b[38;5;241m%\u001b[39m \u001b[38;5;124m'\u001b[39m\u001b[38;5;124m, \u001b[39m\u001b[38;5;124m'\u001b[39m\u001b[38;5;241m.\u001b[39mjoin([\u001b[38;5;28mstr\u001b[39m(item) \u001b[38;5;28;01mfor\u001b[39;00m item \u001b[38;5;129;01min\u001b[39;00m bad_data]))\n\u001b[0;32m--> 613\u001b[0m     \u001b[38;5;28;01mraise\u001b[39;00m \u001b[38;5;167;01mValueError\u001b[39;00m(msg)\n\u001b[1;32m    615\u001b[0m \u001b[38;5;66;03m# check to see if any of the extra columns just need to be added\u001b[39;00m\n\u001b[1;32m    616\u001b[0m \u001b[38;5;28;01mif\u001b[39;00m extra_columns:\n",
      "\u001b[0;31mValueError\u001b[0m: \"Mus mrusculus\" is not in the term set."
     ]
    }
   ],
   "source": [
    "species.add_row(Species_1='Mus mrusculus', Species_2='rat')"
   ]
  },
  {
   "cell_type": "code",
   "execution_count": 19,
   "id": "d5dfbcc5",
   "metadata": {},
   "outputs": [
    {
     "data": {
      "text/html": [
       "<div>\n",
       "<style scoped>\n",
       "    .dataframe tbody tr th:only-of-type {\n",
       "        vertical-align: middle;\n",
       "    }\n",
       "\n",
       "    .dataframe tbody tr th {\n",
       "        vertical-align: top;\n",
       "    }\n",
       "\n",
       "    .dataframe thead th {\n",
       "        text-align: right;\n",
       "    }\n",
       "</style>\n",
       "<table border=\"1\" class=\"dataframe\">\n",
       "  <thead>\n",
       "    <tr style=\"text-align: right;\">\n",
       "      <th></th>\n",
       "      <th>Species_1</th>\n",
       "      <th>Species_2</th>\n",
       "    </tr>\n",
       "    <tr>\n",
       "      <th>id</th>\n",
       "      <th></th>\n",
       "      <th></th>\n",
       "    </tr>\n",
       "  </thead>\n",
       "  <tbody>\n",
       "    <tr>\n",
       "      <th>0</th>\n",
       "      <td>Homo sapiens</td>\n",
       "      <td>Mus musculus</td>\n",
       "    </tr>\n",
       "  </tbody>\n",
       "</table>\n",
       "</div>"
      ],
      "text/plain": [
       "       Species_1     Species_2\n",
       "id                            \n",
       "0   Homo sapiens  Mus musculus"
      ]
     },
     "execution_count": 19,
     "metadata": {},
     "output_type": "execute_result"
    }
   ],
   "source": [
    "species.to_dataframe()"
   ]
  },
  {
   "cell_type": "markdown",
   "id": "4b71b2d1",
   "metadata": {},
   "source": [
    "#### Validate with add_row example 3"
   ]
  },
  {
   "cell_type": "markdown",
   "id": "0ff5fd62",
   "metadata": {},
   "source": [
    "`add_row` is able to distinguish which columns have valid data"
   ]
  },
  {
   "cell_type": "code",
   "execution_count": 20,
   "id": "8821f3d4",
   "metadata": {},
   "outputs": [],
   "source": [
    "col1 = VectorData(\n",
    "    name='Species_1',\n",
    "    description='...',\n",
    "    data=['Homo sapiens'],\n",
    "    term_set=terms,\n",
    ")\n",
    "col2 = VectorData(\n",
    "    name='Species_2',\n",
    "    description='...',\n",
    "    data=['Mus musculus'],\n",
    "    term_set=terms,\n",
    ")\n",
    "species = DynamicTable(name='species', description='My species', columns=[col1,col2])"
   ]
  },
  {
   "cell_type": "code",
   "execution_count": 21,
   "id": "9325dcdb",
   "metadata": {},
   "outputs": [
    {
     "ename": "ValueError",
     "evalue": "\"rat\" is not in the term set.",
     "output_type": "error",
     "traceback": [
      "\u001b[0;31m---------------------------------------------------------------------------\u001b[0m",
      "\u001b[0;31mValueError\u001b[0m                                Traceback (most recent call last)",
      "Cell \u001b[0;32mIn[21], line 1\u001b[0m\n\u001b[0;32m----> 1\u001b[0m \u001b[43mspecies\u001b[49m\u001b[38;5;241;43m.\u001b[39;49m\u001b[43madd_row\u001b[49m\u001b[43m(\u001b[49m\u001b[43mSpecies_1\u001b[49m\u001b[38;5;241;43m=\u001b[39;49m\u001b[38;5;124;43m'\u001b[39;49m\u001b[38;5;124;43mUrsus arctos horribilis\u001b[39;49m\u001b[38;5;124;43m'\u001b[39;49m\u001b[43m,\u001b[49m\u001b[43m \u001b[49m\u001b[43mSpecies_2\u001b[49m\u001b[38;5;241;43m=\u001b[39;49m\u001b[38;5;124;43m'\u001b[39;49m\u001b[38;5;124;43mrat\u001b[39;49m\u001b[38;5;124;43m'\u001b[39;49m\u001b[43m)\u001b[49m\n",
      "File \u001b[0;32m~/Research/NWB/hdmf/src/hdmf/utils.py:645\u001b[0m, in \u001b[0;36mdocval.<locals>.dec.<locals>.func_call\u001b[0;34m(*args, **kwargs)\u001b[0m\n\u001b[1;32m    643\u001b[0m \u001b[38;5;28;01mdef\u001b[39;00m \u001b[38;5;21mfunc_call\u001b[39m(\u001b[38;5;241m*\u001b[39margs, \u001b[38;5;241m*\u001b[39m\u001b[38;5;241m*\u001b[39mkwargs):\n\u001b[1;32m    644\u001b[0m     pargs \u001b[38;5;241m=\u001b[39m _check_args(args, kwargs)\n\u001b[0;32m--> 645\u001b[0m     \u001b[38;5;28;01mreturn\u001b[39;00m \u001b[43mfunc\u001b[49m\u001b[43m(\u001b[49m\u001b[43margs\u001b[49m\u001b[43m[\u001b[49m\u001b[38;5;241;43m0\u001b[39;49m\u001b[43m]\u001b[49m\u001b[43m,\u001b[49m\u001b[43m \u001b[49m\u001b[38;5;241;43m*\u001b[39;49m\u001b[38;5;241;43m*\u001b[39;49m\u001b[43mpargs\u001b[49m\u001b[43m)\u001b[49m\n",
      "File \u001b[0;32m~/Research/NWB/hdmf/src/hdmf/common/table.py:613\u001b[0m, in \u001b[0;36mDynamicTable.add_row\u001b[0;34m(self, **kwargs)\u001b[0m\n\u001b[1;32m    611\u001b[0m \u001b[38;5;28;01mif\u001b[39;00m \u001b[38;5;28mlen\u001b[39m(bad_data)\u001b[38;5;241m!=\u001b[39m\u001b[38;5;241m0\u001b[39m:\n\u001b[1;32m    612\u001b[0m     msg \u001b[38;5;241m=\u001b[39m (\u001b[38;5;124m'\u001b[39m\u001b[38;5;124m\"\u001b[39m\u001b[38;5;132;01m%s\u001b[39;00m\u001b[38;5;124m\"\u001b[39m\u001b[38;5;124m is not in the term set.\u001b[39m\u001b[38;5;124m'\u001b[39m \u001b[38;5;241m%\u001b[39m \u001b[38;5;124m'\u001b[39m\u001b[38;5;124m, \u001b[39m\u001b[38;5;124m'\u001b[39m\u001b[38;5;241m.\u001b[39mjoin([\u001b[38;5;28mstr\u001b[39m(item) \u001b[38;5;28;01mfor\u001b[39;00m item \u001b[38;5;129;01min\u001b[39;00m bad_data]))\n\u001b[0;32m--> 613\u001b[0m     \u001b[38;5;28;01mraise\u001b[39;00m \u001b[38;5;167;01mValueError\u001b[39;00m(msg)\n\u001b[1;32m    615\u001b[0m \u001b[38;5;66;03m# check to see if any of the extra columns just need to be added\u001b[39;00m\n\u001b[1;32m    616\u001b[0m \u001b[38;5;28;01mif\u001b[39;00m extra_columns:\n",
      "\u001b[0;31mValueError\u001b[0m: \"rat\" is not in the term set."
     ]
    }
   ],
   "source": [
    "species.add_row(Species_1='Ursus arctos horribilis', Species_2='rat')"
   ]
  },
  {
   "cell_type": "markdown",
   "id": "d589e0ac",
   "metadata": {},
   "source": [
    "#### Validate with add_column"
   ]
  },
  {
   "cell_type": "markdown",
   "id": "ae9823ee",
   "metadata": {},
   "source": [
    "`add_column` also supports validation"
   ]
  },
  {
   "cell_type": "code",
   "execution_count": 22,
   "id": "92e433ac",
   "metadata": {},
   "outputs": [],
   "source": [
    "col1 = VectorData(\n",
    "    name='col1',\n",
    "    description='column #1',\n",
    "    data=[1, 2],\n",
    ")\n",
    "species = DynamicTable(name='species', description='My species', columns=[col1],)"
   ]
  },
  {
   "cell_type": "code",
   "execution_count": 23,
   "id": "06d28bf1",
   "metadata": {},
   "outputs": [
    {
     "ename": "ValueError",
     "evalue": "'Mus muscuflus' is not in the term set.",
     "output_type": "error",
     "traceback": [
      "\u001b[0;31m---------------------------------------------------------------------------\u001b[0m",
      "\u001b[0;31mValueError\u001b[0m                                Traceback (most recent call last)",
      "Cell \u001b[0;32mIn[23], line 1\u001b[0m\n\u001b[0;32m----> 1\u001b[0m \u001b[43mspecies\u001b[49m\u001b[38;5;241;43m.\u001b[39;49m\u001b[43madd_column\u001b[49m\u001b[43m(\u001b[49m\u001b[43mname\u001b[49m\u001b[38;5;241;43m=\u001b[39;49m\u001b[38;5;124;43m'\u001b[39;49m\u001b[38;5;124;43mspecies\u001b[39;49m\u001b[38;5;124;43m'\u001b[39;49m\u001b[43m,\u001b[49m\n\u001b[1;32m      2\u001b[0m \u001b[43m                   \u001b[49m\u001b[43mdescription\u001b[49m\u001b[38;5;241;43m=\u001b[39;49m\u001b[38;5;124;43m'\u001b[39;49m\u001b[38;5;124;43mSpecies data\u001b[39;49m\u001b[38;5;124;43m'\u001b[39;49m\u001b[43m,\u001b[49m\n\u001b[1;32m      3\u001b[0m \u001b[43m                   \u001b[49m\u001b[43mdata\u001b[49m\u001b[38;5;241;43m=\u001b[39;49m\u001b[43m[\u001b[49m\u001b[38;5;124;43m'\u001b[39;49m\u001b[38;5;124;43mHomo sapiens\u001b[39;49m\u001b[38;5;124;43m'\u001b[39;49m\u001b[43m,\u001b[49m\u001b[43m \u001b[49m\u001b[38;5;124;43m'\u001b[39;49m\u001b[38;5;124;43mMus muscuflus\u001b[39;49m\u001b[38;5;124;43m'\u001b[39;49m\u001b[43m]\u001b[49m\u001b[43m,\u001b[49m\n\u001b[1;32m      4\u001b[0m \u001b[43m                   \u001b[49m\u001b[43mterm_set\u001b[49m\u001b[38;5;241;43m=\u001b[39;49m\u001b[43mterms\u001b[49m\u001b[43m)\u001b[49m\n",
      "File \u001b[0;32m~/Research/NWB/hdmf/src/hdmf/utils.py:645\u001b[0m, in \u001b[0;36mdocval.<locals>.dec.<locals>.func_call\u001b[0;34m(*args, **kwargs)\u001b[0m\n\u001b[1;32m    643\u001b[0m \u001b[38;5;28;01mdef\u001b[39;00m \u001b[38;5;21mfunc_call\u001b[39m(\u001b[38;5;241m*\u001b[39margs, \u001b[38;5;241m*\u001b[39m\u001b[38;5;241m*\u001b[39mkwargs):\n\u001b[1;32m    644\u001b[0m     pargs \u001b[38;5;241m=\u001b[39m _check_args(args, kwargs)\n\u001b[0;32m--> 645\u001b[0m     \u001b[38;5;28;01mreturn\u001b[39;00m \u001b[43mfunc\u001b[49m\u001b[43m(\u001b[49m\u001b[43margs\u001b[49m\u001b[43m[\u001b[49m\u001b[38;5;241;43m0\u001b[39;49m\u001b[43m]\u001b[49m\u001b[43m,\u001b[49m\u001b[43m \u001b[49m\u001b[38;5;241;43m*\u001b[39;49m\u001b[38;5;241;43m*\u001b[39;49m\u001b[43mpargs\u001b[49m\u001b[43m)\u001b[49m\n",
      "File \u001b[0;32m~/Research/NWB/hdmf/src/hdmf/common/table.py:721\u001b[0m, in \u001b[0;36mDynamicTable.add_column\u001b[0;34m(self, **kwargs)\u001b[0m\n\u001b[1;32m    719\u001b[0m         bad_data_string \u001b[38;5;241m=\u001b[39m \u001b[38;5;28mstr\u001b[39m(bad_data)[\u001b[38;5;241m1\u001b[39m:\u001b[38;5;241m-\u001b[39m\u001b[38;5;241m1\u001b[39m]\n\u001b[1;32m    720\u001b[0m         msg \u001b[38;5;241m=\u001b[39m (\u001b[38;5;124m\"\u001b[39m\u001b[38;5;132;01m%s\u001b[39;00m\u001b[38;5;124m is not in the term set.\u001b[39m\u001b[38;5;124m\"\u001b[39m \u001b[38;5;241m%\u001b[39m bad_data_string)\n\u001b[0;32m--> 721\u001b[0m         \u001b[38;5;28;01mraise\u001b[39;00m \u001b[38;5;167;01mValueError\u001b[39;00m(msg)\n\u001b[1;32m    723\u001b[0m \u001b[38;5;28;01mif\u001b[39;00m \u001b[38;5;28misinstance\u001b[39m(index, VectorIndex):\n\u001b[1;32m    724\u001b[0m     warn(\u001b[38;5;124m\"\u001b[39m\u001b[38;5;124mPassing a VectorIndex in for index may lead to unexpected behavior. This functionality will be \u001b[39m\u001b[38;5;124m\"\u001b[39m\n\u001b[1;32m    725\u001b[0m          \u001b[38;5;124m\"\u001b[39m\u001b[38;5;124mdeprecated in a future version of HDMF.\u001b[39m\u001b[38;5;124m\"\u001b[39m, \u001b[38;5;167;01mFutureWarning\u001b[39;00m)\n",
      "\u001b[0;31mValueError\u001b[0m: 'Mus muscuflus' is not in the term set."
     ]
    }
   ],
   "source": [
    "species.add_column(name='species',\n",
    "                   description='Species data',\n",
    "                   data=['Homo sapiens', 'Mus muscuflus'],\n",
    "                   term_set=terms)"
   ]
  },
  {
   "cell_type": "markdown",
   "id": "b7246fdb",
   "metadata": {},
   "source": [
    "## Add ExternalResources using a TermSet"
   ]
  },
  {
   "cell_type": "markdown",
   "id": "cdee6fe1",
   "metadata": {},
   "source": [
    "`TermSet` allows for an easier way to add references to `ExternalResources`. The user will create a `.yaml` file that will contain enumerations. These enumerations take place as the `entities`. Using the `TermSet` does bring greater structure to the naming convention for `Key` values in `ExternalResources`. `Key` values will have to match the name of the term in the `TermSet`. For example, if I have species data, the species values need to be the proper ontological terms in order to be validated and pulled from the `TermSet`."
   ]
  },
  {
   "cell_type": "markdown",
   "id": "7da99163",
   "metadata": {},
   "source": [
    "Rules:\n",
    "The termset must exist on the object that will use it. It cannot be used on a non-NWB datatype."
   ]
  },
  {
   "cell_type": "code",
   "execution_count": 24,
   "id": "9aff8ccb",
   "metadata": {},
   "outputs": [],
   "source": [
    "session_start_time = datetime(2018, 4, 25, 2, 30, 3, tzinfo=tz.gettz(\"US/Pacific\"))\n",
    "\n",
    "nwbfile = NWBFile(\n",
    "    session_description=\"Mouse exploring an open field\",  # required\n",
    "    identifier=\"Mouse5_Day3\",  # required\n",
    "    session_start_time=session_start_time,  # required\n",
    "    session_id=\"session_1234\",  # optional\n",
    "    experimenter=[\"Dichter, Benjamin K.\", \"Smith, Alex\"],  # optional\n",
    "    lab=\"My Lab Name\",  # optional\n",
    "    institution=\"University of My Institution\",  # optional\n",
    "    related_publications=\"DOI:10.1016/j.neuron.2016.12.011\",  # optional\n",
    ")"
   ]
  },
  {
   "cell_type": "code",
   "execution_count": 25,
   "id": "99f96cc5",
   "metadata": {},
   "outputs": [
    {
     "name": "stderr",
     "output_type": "stream",
     "text": [
      "/Users/mavaylon/Research/NWB/hdmf/src/hdmf/container.py:205: UserWarning: ExternalResources is experimental -- it may be removed in the future and is not guaranteed to maintain backward compatibility\n",
      "  warn(_exp_warn_msg(cls))\n"
     ]
    }
   ],
   "source": [
    "er = ExternalResources() \n",
    "nwbfile.external_resources=er"
   ]
  },
  {
   "cell_type": "code",
   "execution_count": 26,
   "id": "d6b5a4a4",
   "metadata": {},
   "outputs": [],
   "source": [
    "col1 = VectorData(\n",
    "    name='Species_Data',\n",
    "    description='species from NCBI and Ensemble',\n",
    "    data=['Homo sapiens', 'Ursus arctos horribilis'],\n",
    "    term_set=terms,\n",
    ")\n",
    "\n",
    "species = DynamicTable(name='species', description='My species', columns=[col1],)"
   ]
  },
  {
   "cell_type": "code",
   "execution_count": 27,
   "id": "0f1faa83",
   "metadata": {},
   "outputs": [
    {
     "data": {
      "text/plain": [
       "True"
      ]
     },
     "execution_count": 27,
     "metadata": {},
     "output_type": "execute_result"
    }
   ],
   "source": [
    "er.add_ref_term_set(file=nwbfile,\n",
    "                    container=species,\n",
    "                    attribute='Species_Data',\n",
    "                   ) "
   ]
  },
  {
   "cell_type": "code",
   "execution_count": 28,
   "id": "d84cb179",
   "metadata": {},
   "outputs": [
    {
     "data": {
      "text/html": [
       "<div>\n",
       "<style scoped>\n",
       "    .dataframe tbody tr th:only-of-type {\n",
       "        vertical-align: middle;\n",
       "    }\n",
       "\n",
       "    .dataframe tbody tr th {\n",
       "        vertical-align: top;\n",
       "    }\n",
       "\n",
       "    .dataframe thead th {\n",
       "        text-align: right;\n",
       "    }\n",
       "</style>\n",
       "<table border=\"1\" class=\"dataframe\">\n",
       "  <thead>\n",
       "    <tr style=\"text-align: right;\">\n",
       "      <th></th>\n",
       "      <th>file_object_id</th>\n",
       "      <th>objects_idx</th>\n",
       "      <th>object_id</th>\n",
       "      <th>files_idx</th>\n",
       "      <th>object_type</th>\n",
       "      <th>relative_path</th>\n",
       "      <th>field</th>\n",
       "      <th>keys_idx</th>\n",
       "      <th>key</th>\n",
       "      <th>entities_idx</th>\n",
       "      <th>entity_id</th>\n",
       "      <th>entity_uri</th>\n",
       "    </tr>\n",
       "  </thead>\n",
       "  <tbody>\n",
       "    <tr>\n",
       "      <th>0</th>\n",
       "      <td>04d18aa3-c145-455f-9ae4-d60e0751cb57</td>\n",
       "      <td>0</td>\n",
       "      <td>6eb1c78a-161b-475e-a9f9-3682763b5386</td>\n",
       "      <td>0</td>\n",
       "      <td>VectorData</td>\n",
       "      <td></td>\n",
       "      <td></td>\n",
       "      <td>0</td>\n",
       "      <td>Homo sapiens</td>\n",
       "      <td>0</td>\n",
       "      <td>NCBI_TAXON:9606</td>\n",
       "      <td>https://www.ncbi.nlm.nih.gov/Taxonomy/Browser/...</td>\n",
       "    </tr>\n",
       "    <tr>\n",
       "      <th>1</th>\n",
       "      <td>04d18aa3-c145-455f-9ae4-d60e0751cb57</td>\n",
       "      <td>0</td>\n",
       "      <td>6eb1c78a-161b-475e-a9f9-3682763b5386</td>\n",
       "      <td>0</td>\n",
       "      <td>VectorData</td>\n",
       "      <td></td>\n",
       "      <td></td>\n",
       "      <td>1</td>\n",
       "      <td>Ursus arctos horribilis</td>\n",
       "      <td>1</td>\n",
       "      <td>NCBI_TAXON:116960</td>\n",
       "      <td>https://www.ncbi.nlm.nih.gov/Taxonomy/Browser/...</td>\n",
       "    </tr>\n",
       "  </tbody>\n",
       "</table>\n",
       "</div>"
      ],
      "text/plain": [
       "                         file_object_id  objects_idx  \\\n",
       "0  04d18aa3-c145-455f-9ae4-d60e0751cb57            0   \n",
       "1  04d18aa3-c145-455f-9ae4-d60e0751cb57            0   \n",
       "\n",
       "                              object_id  files_idx object_type relative_path  \\\n",
       "0  6eb1c78a-161b-475e-a9f9-3682763b5386          0  VectorData                 \n",
       "1  6eb1c78a-161b-475e-a9f9-3682763b5386          0  VectorData                 \n",
       "\n",
       "  field  keys_idx                      key  entities_idx          entity_id  \\\n",
       "0               0             Homo sapiens             0    NCBI_TAXON:9606   \n",
       "1               1  Ursus arctos horribilis             1  NCBI_TAXON:116960   \n",
       "\n",
       "                                          entity_uri  \n",
       "0  https://www.ncbi.nlm.nih.gov/Taxonomy/Browser/...  \n",
       "1  https://www.ncbi.nlm.nih.gov/Taxonomy/Browser/...  "
      ]
     },
     "execution_count": 28,
     "metadata": {},
     "output_type": "execute_result"
    }
   ],
   "source": [
    "er.to_dataframe()"
   ]
  },
  {
   "cell_type": "markdown",
   "id": "f1431cfd",
   "metadata": {},
   "source": [
    "## Auto-add to ER with Termset (In Development)"
   ]
  },
  {
   "cell_type": "markdown",
   "id": "b2fe1a05",
   "metadata": {},
   "source": [
    "In order to take advantage of auto-adding references to `ExternalResources` the data needs to first be validated and then be added to the `NWBFile`. This functionality has limited use cases, but will be expanded on in the future to support auto-add to `ExternalResources` for other NWB data-types. Currently, only `DynamicTable` is supported.\n",
    "\n",
    "This requires validation and the use of a `TermSet`."
   ]
  },
  {
   "cell_type": "code",
   "execution_count": 29,
   "id": "19f9cc43",
   "metadata": {},
   "outputs": [],
   "source": [
    "terms = TermSet(name='Species_TermSet', term_schema_path='/Users/mavaylon/Research/NWB/species_term_set.yaml')"
   ]
  },
  {
   "cell_type": "code",
   "execution_count": 30,
   "id": "9a37d754",
   "metadata": {},
   "outputs": [],
   "source": [
    "session_start_time = datetime(2018, 4, 25, 2, 30, 3, tzinfo=tz.gettz(\"US/Pacific\"))\n",
    "\n",
    "nwbfile = NWBFile(\n",
    "    session_description=\"Mouse exploring an open field\",  # required\n",
    "    identifier=\"Mouse5_Day3\",  # required\n",
    "    session_start_time=session_start_time,  # required\n",
    "    session_id=\"session_1234\",  # optional\n",
    "    experimenter=[\"Dichter, Benjamin K.\", \"Smith, Alex\"],  # optional\n",
    "    lab=\"My Lab Name\",  # optional\n",
    "    institution=\"University of My Institution\",  # optional\n",
    "    related_publications=\"DOI:10.1016/j.neuron.2016.12.011\",  # optional\n",
    ")"
   ]
  },
  {
   "cell_type": "code",
   "execution_count": 31,
   "id": "f13989a5",
   "metadata": {},
   "outputs": [
    {
     "name": "stderr",
     "output_type": "stream",
     "text": [
      "/Users/mavaylon/Research/NWB/hdmf/src/hdmf/container.py:205: UserWarning: ExternalResources is experimental -- it may be removed in the future and is not guaranteed to maintain backward compatibility\n",
      "  warn(_exp_warn_msg(cls))\n"
     ]
    }
   ],
   "source": [
    "er = ExternalResources() \n",
    "nwbfile.external_resources=er"
   ]
  },
  {
   "cell_type": "code",
   "execution_count": 32,
   "id": "a5a293c8",
   "metadata": {},
   "outputs": [],
   "source": [
    "col1 = VectorData(\n",
    "    name='Species_1',\n",
    "    description='...',\n",
    "    data=['Homo sapiens'],\n",
    "    term_set=terms,\n",
    ")\n",
    "col2 = VectorData(\n",
    "    name='Species_2',\n",
    "    description='...',\n",
    "    data=['Mus musculus'],\n",
    "    term_set=terms,\n",
    ")\n",
    "\n",
    "species = DynamicTable(name='species', description='My species', columns=[col1,col2],)"
   ]
  },
  {
   "cell_type": "code",
   "execution_count": 33,
   "id": "549f2698",
   "metadata": {},
   "outputs": [],
   "source": [
    "nwbfile.add_acquisition(species)"
   ]
  },
  {
   "cell_type": "code",
   "execution_count": null,
   "id": "bdb9e1da",
   "metadata": {},
   "outputs": [],
   "source": []
  }
 ],
 "metadata": {
  "kernelspec": {
   "display_name": "Python 3 (ipykernel)",
   "language": "python",
   "name": "python3"
  },
  "language_info": {
   "codemirror_mode": {
    "name": "ipython",
    "version": 3
   },
   "file_extension": ".py",
   "mimetype": "text/x-python",
   "name": "python",
   "nbconvert_exporter": "python",
   "pygments_lexer": "ipython3",
   "version": "3.10.12"
  }
 },
 "nbformat": 4,
 "nbformat_minor": 5
}
