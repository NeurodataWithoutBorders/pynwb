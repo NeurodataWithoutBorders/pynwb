{
 "cells": [
  {
   "cell_type": "code",
   "execution_count": 6,
   "id": "de6595c9",
   "metadata": {},
   "outputs": [],
   "source": [
    "from hdmf.common import DynamicTable, VectorData\n",
    "from hdmf.term_set import TermSet\n",
    "\n",
    "from pynwb.resources import ExternalResources\n",
    "from pynwb import NWBFile, NWBHDF5IO\n",
    "from pynwb import get_type_map as tm\n",
    "from pynwb.file import Subject\n",
    "\n",
    "from datetime import datetime\n",
    "from dateutil import tz\n",
    "import numpy as np"
   ]
  },
  {
   "cell_type": "markdown",
   "id": "d82c0816",
   "metadata": {},
   "source": [
    "# NERD and TermSet QuickStart"
   ]
  },
  {
   "cell_type": "markdown",
   "id": "da82bdf5",
   "metadata": {},
   "source": [
    "This tutorial focuses on getting users quickly into fold on how to use the `NERD` data structure in conjunction with the `TermSet` class. For a detailed guide that covers both various examples and the rules of `NERD`, please refer to the [NERD guide](NERD_TermSet_How_to_Guide.ipynb).\n",
    "\n",
    "The core of `NERD` is the `ExternalResources` class, which provides a way\n",
    "to organize and map user terms from their data (keys) to multiple entities\n",
    "from the external resources. A typical use case for external resources is to link data stored in datasets or attributes within a `NWBFile` to ontologies and digital identifiers.\n"
   ]
  },
  {
   "cell_type": "markdown",
   "id": "54ba2537",
   "metadata": {},
   "source": [
    "## NERD Example"
   ]
  },
  {
   "cell_type": "markdown",
   "id": "1b266cc0",
   "metadata": {},
   "source": [
    "In the following example, we will highlight the fact `NERD` is written separately to the `NWBFile`. This is to allow users to add metadata references to existing files. Loading in the file, we can see multiple cases where contextual metadata will be important in regards to creating and sharing FAIR data. We can map the experimenter to a digital identifier, i.e., ORCID, the electrode group location can be mapped to a brain atlas, and the `Subject` species attribute can be mapped to the NCBI Taxonomy."
   ]
  },
  {
   "cell_type": "code",
   "execution_count": 7,
   "id": "9a246f23",
   "metadata": {},
   "outputs": [
    {
     "data": {
      "text/html": [
       "\n",
       "        <style>\n",
       "            .container-fields {\n",
       "                font-family: \"Open Sans\", Arial, sans-serif;\n",
       "            }\n",
       "            .container-fields .field-value {\n",
       "                color: #00788E;\n",
       "            }\n",
       "            .container-fields details > summary {\n",
       "                cursor: pointer;\n",
       "                display: list-item;\n",
       "            }\n",
       "            .container-fields details > summary:hover {\n",
       "                color: #0A6EAA;\n",
       "            }\n",
       "        </style>\n",
       "        \n",
       "        <script>\n",
       "            function copyToClipboard(text) {\n",
       "                navigator.clipboard.writeText(text).then(function() {\n",
       "                    console.log('Copied to clipboard: ' + text);\n",
       "                }, function(err) {\n",
       "                    console.error('Could not copy text: ', err);\n",
       "                });\n",
       "            }\n",
       "\n",
       "            document.addEventListener('DOMContentLoaded', function() {\n",
       "                let fieldKeys = document.querySelectorAll('.container-fields .field-key');\n",
       "                fieldKeys.forEach(function(fieldKey) {\n",
       "                    fieldKey.addEventListener('click', function() {\n",
       "                        let accessCode = fieldKey.getAttribute('title').replace('Access code: ', '');\n",
       "                        copyToClipboard(accessCode);\n",
       "                    });\n",
       "                });\n",
       "            });\n",
       "        </script>\n",
       "        <div class='container-wrap'><div class='container-header'><div class='xr-obj-type'><h3>root (NWBFile)</h3></div></div><div style=\"margin-left: 0px;\" class=\"container-fields\"><span class=\"field-key\" title=\".fields['session_description']\">session_description:</span> <span class=\"field-value\">Data from monkey Haydn performing ready-set-go time interval reproduction task. This file contains continuous segments of the full session on 2016-12-11 that can be used for training models for the Neural Latents Benchmark.</span></div><div style=\"margin-left: 0px;\" class=\"container-fields\"><span class=\"field-key\" title=\".fields['identifier']\">identifier:</span> <span class=\"field-value\">8969f328-3929-11ec-8077-43176b153428</span></div><div style=\"margin-left: 0px;\" class=\"container-fields\"><span class=\"field-key\" title=\".fields['session_start_time']\">session_start_time:</span> <span class=\"field-value\">2016-12-11 00:00:00-05:00</span></div><div style=\"margin-left: 0px;\" class=\"container-fields\"><span class=\"field-key\" title=\".fields['timestamps_reference_time']\">timestamps_reference_time:</span> <span class=\"field-value\">2016-12-11 00:00:00-05:00</span></div><details><summary style=\"display: list-item; margin-left: 0px;\" class=\"container-fields field-key\" title=\".fields['file_create_date']\"><b>file_create_date</b></summary><div style=\"margin-left: 20px;\" class=\"container-fields\"><span class=\"field-value\" title=\".fields['file_create_date'][0]\">2021-10-29 22:31:50.351047-04:00</span></div></details><div style=\"margin-left: 0px;\" class=\"container-fields\"><span class=\"field-key\" title=\".fields['experimenter']\">experimenter:</span> <span class=\"field-value\">('Hansem Sohn',)</span></div><div style=\"margin-left: 0px;\" class=\"container-fields\"><span class=\"field-key\" title=\".fields['related_publications']\">related_publications:</span> <span class=\"field-value\">('http://dx.doi.org/10.1016/j.neuron.2019.06.012',)</span></div><details><summary style=\"display: list-item; margin-left: 0px;\" class=\"container-fields field-key\" title=\".fields['keywords']\"><b>keywords</b></summary></details><div style=\"margin-left: 0px;\" class=\"container-fields\"><span class=\"field-key\" title=\".fields['epoch_tags']\">epoch_tags:</span> <span class=\"field-value\">set()</span></div><details><summary style=\"display: list-item; margin-left: 0px;\" class=\"container-fields field-key\" title=\".fields['electrodes']\"><b>electrodes</b></summary><div style=\"margin-left: 20px;\" class=\"container-fields\"><span class=\"field-key\" title=\".fields['electrodes'].fields['description']\">description:</span> <span class=\"field-value\">metadata about extracellular electrodes</span></div><details><summary style=\"display: list-item; margin-left: 20px;\" class=\"container-fields field-key\" title=\".fields['electrodes'].fields['id']\"><b>id</b></summary></details><div style=\"margin-left: 20px;\" class=\"container-fields\"><span class=\"field-key\" title=\".fields['electrodes'].fields['colnames']\">colnames:</span> <span class=\"field-value\">('x', 'y', 'z', 'imp', 'location', 'filtering', 'group', 'group_name')</span></div><div style=\"margin-left: 20px;\" class=\"container-fields\"><span class=\"field-key\" title=\".fields['electrodes'].fields['columns']\">columns:</span> <span class=\"field-value\">(<hdmf.common.table.VectorData object at 0x124edd4e0>, <hdmf.common.table.VectorData object at 0x124edf4c0>, <hdmf.common.table.VectorData object at 0x124ede410>, <hdmf.common.table.VectorData object at 0x124ed0640>, <hdmf.common.table.VectorData object at 0x124ed0790>, <hdmf.common.table.VectorData object at 0x124ed0af0>, <hdmf.common.table.VectorData object at 0x124ed0e20>, <hdmf.common.table.VectorData object at 0x124ed0b80>)</span></div></details><details><summary style=\"display: list-item; margin-left: 0px;\" class=\"container-fields field-key\" title=\".fields['electrode_groups']\"><b>electrode_groups (3)</b></summary><details><summary style=\"display: list-item; margin-left: 20px;\" class=\"container-fields field-key\" title=\".fields['electrode_groups']['electrode_group_1']\"><b>electrode_group_1</b></summary><div style=\"margin-left: 40px;\" class=\"container-fields\"><span class=\"field-key\" title=\".fields['electrode_groups']['electrode_group_1'].fields['description']\">description:</span> <span class=\"field-value\">Electrodes on a neural probe</span></div><div style=\"margin-left: 40px;\" class=\"container-fields\"><span class=\"field-key\" title=\".fields['electrode_groups']['electrode_group_1'].fields['location']\">location:</span> <span class=\"field-value\">Dorsomedial frontal cortex</span></div><details><summary style=\"display: list-item; margin-left: 40px;\" class=\"container-fields field-key\" title=\".fields['electrode_groups']['electrode_group_1'].fields['device']\"><b>device</b></summary><div style=\"margin-left: 60px;\" class=\"container-fields\"><span class=\"field-key\" title=\".fields['electrode_groups']['electrode_group_1'].fields['device'].fields['description']\">description:</span> <span class=\"field-value\">Linear probe with 24 recording channels</span></div><div style=\"margin-left: 60px;\" class=\"container-fields\"><span class=\"field-key\" title=\".fields['electrode_groups']['electrode_group_1'].fields['device'].fields['manufacturer']\">manufacturer:</span> <span class=\"field-value\">Plexon Inc.</span></div></details></details><details><summary style=\"display: list-item; margin-left: 20px;\" class=\"container-fields field-key\" title=\".fields['electrode_groups']['electrode_group_2']\"><b>electrode_group_2</b></summary><div style=\"margin-left: 40px;\" class=\"container-fields\"><span class=\"field-key\" title=\".fields['electrode_groups']['electrode_group_2'].fields['description']\">description:</span> <span class=\"field-value\">Electrodes on a neural probe</span></div><div style=\"margin-left: 40px;\" class=\"container-fields\"><span class=\"field-key\" title=\".fields['electrode_groups']['electrode_group_2'].fields['location']\">location:</span> <span class=\"field-value\">Dorsomedial frontal cortex</span></div><details><summary style=\"display: list-item; margin-left: 40px;\" class=\"container-fields field-key\" title=\".fields['electrode_groups']['electrode_group_2'].fields['device']\"><b>device</b></summary><div style=\"margin-left: 60px;\" class=\"container-fields\"><span class=\"field-key\" title=\".fields['electrode_groups']['electrode_group_2'].fields['device'].fields['description']\">description:</span> <span class=\"field-value\">Linear probe with 24 recording channels</span></div><div style=\"margin-left: 60px;\" class=\"container-fields\"><span class=\"field-key\" title=\".fields['electrode_groups']['electrode_group_2'].fields['device'].fields['manufacturer']\">manufacturer:</span> <span class=\"field-value\">Plexon Inc.</span></div></details></details><details><summary style=\"display: list-item; margin-left: 20px;\" class=\"container-fields field-key\" title=\".fields['electrode_groups']['electrode_group_3']\"><b>electrode_group_3</b></summary><div style=\"margin-left: 40px;\" class=\"container-fields\"><span class=\"field-key\" title=\".fields['electrode_groups']['electrode_group_3'].fields['description']\">description:</span> <span class=\"field-value\">Electrodes on a neural probe</span></div><div style=\"margin-left: 40px;\" class=\"container-fields\"><span class=\"field-key\" title=\".fields['electrode_groups']['electrode_group_3'].fields['location']\">location:</span> <span class=\"field-value\">Dorsomedial frontal cortex</span></div><details><summary style=\"display: list-item; margin-left: 40px;\" class=\"container-fields field-key\" title=\".fields['electrode_groups']['electrode_group_3'].fields['device']\"><b>device</b></summary><div style=\"margin-left: 60px;\" class=\"container-fields\"><span class=\"field-key\" title=\".fields['electrode_groups']['electrode_group_3'].fields['device'].fields['description']\">description:</span> <span class=\"field-value\">Linear probe with 24 recording channels</span></div><div style=\"margin-left: 60px;\" class=\"container-fields\"><span class=\"field-key\" title=\".fields['electrode_groups']['electrode_group_3'].fields['device'].fields['manufacturer']\">manufacturer:</span> <span class=\"field-value\">Plexon Inc.</span></div></details></details></details><details><summary style=\"display: list-item; margin-left: 0px;\" class=\"container-fields field-key\" title=\".fields['devices']\"><b>devices (3)</b></summary><details><summary style=\"display: list-item; margin-left: 20px;\" class=\"container-fields field-key\" title=\".fields['devices']['electrode_probe_1']\"><b>electrode_probe_1</b></summary><div style=\"margin-left: 40px;\" class=\"container-fields\"><span class=\"field-key\" title=\".fields['devices']['electrode_probe_1'].fields['description']\">description:</span> <span class=\"field-value\">Linear probe with 24 recording channels</span></div><div style=\"margin-left: 40px;\" class=\"container-fields\"><span class=\"field-key\" title=\".fields['devices']['electrode_probe_1'].fields['manufacturer']\">manufacturer:</span> <span class=\"field-value\">Plexon Inc.</span></div></details><details><summary style=\"display: list-item; margin-left: 20px;\" class=\"container-fields field-key\" title=\".fields['devices']['electrode_probe_2']\"><b>electrode_probe_2</b></summary><div style=\"margin-left: 40px;\" class=\"container-fields\"><span class=\"field-key\" title=\".fields['devices']['electrode_probe_2'].fields['description']\">description:</span> <span class=\"field-value\">Linear probe with 24 recording channels</span></div><div style=\"margin-left: 40px;\" class=\"container-fields\"><span class=\"field-key\" title=\".fields['devices']['electrode_probe_2'].fields['manufacturer']\">manufacturer:</span> <span class=\"field-value\">Plexon Inc.</span></div></details><details><summary style=\"display: list-item; margin-left: 20px;\" class=\"container-fields field-key\" title=\".fields['devices']['electrode_probe_3']\"><b>electrode_probe_3</b></summary><div style=\"margin-left: 40px;\" class=\"container-fields\"><span class=\"field-key\" title=\".fields['devices']['electrode_probe_3'].fields['description']\">description:</span> <span class=\"field-value\">Linear probe with 24 recording channels</span></div><div style=\"margin-left: 40px;\" class=\"container-fields\"><span class=\"field-key\" title=\".fields['devices']['electrode_probe_3'].fields['manufacturer']\">manufacturer:</span> <span class=\"field-value\">Plexon Inc.</span></div></details></details><details><summary style=\"display: list-item; margin-left: 0px;\" class=\"container-fields field-key\" title=\".fields['intervals']\"><b>intervals (1)</b></summary><details><summary style=\"display: list-item; margin-left: 20px;\" class=\"container-fields field-key\" title=\".fields['intervals']['trials']\"><b>trials</b></summary><div style=\"margin-left: 40px;\" class=\"container-fields\"><span class=\"field-key\" title=\".fields['intervals']['trials'].fields['description']\">description:</span> <span class=\"field-value\">experimental trials</span></div><details><summary style=\"display: list-item; margin-left: 40px;\" class=\"container-fields field-key\" title=\".fields['intervals']['trials'].fields['id']\"><b>id</b></summary></details><div style=\"margin-left: 40px;\" class=\"container-fields\"><span class=\"field-key\" title=\".fields['intervals']['trials'].fields['colnames']\">colnames:</span> <span class=\"field-value\">('start_time', 'stop_time', 'fix_on_time', 'fix_time', 'target_on_time', 'ready_time', 'set_time', 'go_time', 'target_acq_time', 'reward_time', 'bad_time', 'is_short', 'is_eye', 'theta', 'ts', 'tp', 'fix_time_dur', 'target_time_dur', 'iti', 'reward_dur', 'is_outlier', 'split')</span></div><div style=\"margin-left: 40px;\" class=\"container-fields\"><span class=\"field-key\" title=\".fields['intervals']['trials'].fields['columns']\">columns:</span> <span class=\"field-value\">(<hdmf.common.table.VectorData object at 0x124ed08e0>, <hdmf.common.table.VectorData object at 0x124ed0d90>, <hdmf.common.table.VectorData object at 0x124ede5f0>, <hdmf.common.table.VectorData object at 0x124edc100>, <hdmf.common.table.VectorData object at 0x124edc5e0>, <hdmf.common.table.VectorData object at 0x124edc3a0>, <hdmf.common.table.VectorData object at 0x124edc4c0>, <hdmf.common.table.VectorData object at 0x124edc1c0>, <hdmf.common.table.VectorData object at 0x124edc580>, <hdmf.common.table.VectorData object at 0x124edc460>, <hdmf.common.table.VectorData object at 0x124edc070>, <hdmf.common.table.VectorData object at 0x124edc2e0>, <hdmf.common.table.VectorData object at 0x124edc220>, <hdmf.common.table.VectorData object at 0x124edc6a0>, <hdmf.common.table.VectorData object at 0x124edc760>, <hdmf.common.table.VectorData object at 0x124edc700>, <hdmf.common.table.VectorData object at 0x124edc160>, <hdmf.common.table.VectorData object at 0x124edc640>, <hdmf.common.table.VectorData object at 0x124edc340>, <hdmf.common.table.VectorData object at 0x124edc400>, <hdmf.common.table.VectorData object at 0x124edc280>, <hdmf.common.table.VectorData object at 0x124edc520>)</span></div></details></details><details><summary style=\"display: list-item; margin-left: 0px;\" class=\"container-fields field-key\" title=\".fields['subject']\"><b>subject</b></summary><div style=\"margin-left: 20px;\" class=\"container-fields\"><span class=\"field-key\" title=\".fields['subject'].fields['age']\">age:</span> <span class=\"field-value\">P4Y</span></div><div style=\"margin-left: 20px;\" class=\"container-fields\"><span class=\"field-key\" title=\".fields['subject'].fields['sex']\">sex:</span> <span class=\"field-value\">M</span></div><div style=\"margin-left: 20px;\" class=\"container-fields\"><span class=\"field-key\" title=\".fields['subject'].fields['species']\">species:</span> <span class=\"field-value\">Macaca mulatta</span></div><div style=\"margin-left: 20px;\" class=\"container-fields\"><span class=\"field-key\" title=\".fields['subject'].fields['subject_id']\">subject_id:</span> <span class=\"field-value\">Haydn</span></div></details><details><summary style=\"display: list-item; margin-left: 0px;\" class=\"container-fields field-key\" title=\".fields['trials']\"><b>trials</b></summary><div style=\"margin-left: 20px;\" class=\"container-fields\"><span class=\"field-key\" title=\".fields['trials'].fields['description']\">description:</span> <span class=\"field-value\">experimental trials</span></div><details><summary style=\"display: list-item; margin-left: 20px;\" class=\"container-fields field-key\" title=\".fields['trials'].fields['id']\"><b>id</b></summary></details><div style=\"margin-left: 20px;\" class=\"container-fields\"><span class=\"field-key\" title=\".fields['trials'].fields['colnames']\">colnames:</span> <span class=\"field-value\">('start_time', 'stop_time', 'fix_on_time', 'fix_time', 'target_on_time', 'ready_time', 'set_time', 'go_time', 'target_acq_time', 'reward_time', 'bad_time', 'is_short', 'is_eye', 'theta', 'ts', 'tp', 'fix_time_dur', 'target_time_dur', 'iti', 'reward_dur', 'is_outlier', 'split')</span></div><div style=\"margin-left: 20px;\" class=\"container-fields\"><span class=\"field-key\" title=\".fields['trials'].fields['columns']\">columns:</span> <span class=\"field-value\">(<hdmf.common.table.VectorData object at 0x124ed08e0>, <hdmf.common.table.VectorData object at 0x124ed0d90>, <hdmf.common.table.VectorData object at 0x124ede5f0>, <hdmf.common.table.VectorData object at 0x124edc100>, <hdmf.common.table.VectorData object at 0x124edc5e0>, <hdmf.common.table.VectorData object at 0x124edc3a0>, <hdmf.common.table.VectorData object at 0x124edc4c0>, <hdmf.common.table.VectorData object at 0x124edc1c0>, <hdmf.common.table.VectorData object at 0x124edc580>, <hdmf.common.table.VectorData object at 0x124edc460>, <hdmf.common.table.VectorData object at 0x124edc070>, <hdmf.common.table.VectorData object at 0x124edc2e0>, <hdmf.common.table.VectorData object at 0x124edc220>, <hdmf.common.table.VectorData object at 0x124edc6a0>, <hdmf.common.table.VectorData object at 0x124edc760>, <hdmf.common.table.VectorData object at 0x124edc700>, <hdmf.common.table.VectorData object at 0x124edc160>, <hdmf.common.table.VectorData object at 0x124edc640>, <hdmf.common.table.VectorData object at 0x124edc340>, <hdmf.common.table.VectorData object at 0x124edc400>, <hdmf.common.table.VectorData object at 0x124edc280>, <hdmf.common.table.VectorData object at 0x124edc520>)</span></div></details><details><summary style=\"display: list-item; margin-left: 0px;\" class=\"container-fields field-key\" title=\".fields['units']\"><b>units</b></summary><div style=\"margin-left: 20px;\" class=\"container-fields\"><span class=\"field-key\" title=\".fields['units'].fields['description']\">description:</span> <span class=\"field-value\">data on spiking units</span></div><details><summary style=\"display: list-item; margin-left: 20px;\" class=\"container-fields field-key\" title=\".fields['units'].fields['id']\"><b>id</b></summary></details><div style=\"margin-left: 20px;\" class=\"container-fields\"><span class=\"field-key\" title=\".fields['units'].fields['colnames']\">colnames:</span> <span class=\"field-value\">('heldout', 'spike_times', 'obs_intervals')</span></div><div style=\"margin-left: 20px;\" class=\"container-fields\"><span class=\"field-key\" title=\".fields['units'].fields['columns']\">columns:</span> <span class=\"field-value\">(<hdmf.common.table.VectorData object at 0x124ede500>, <hdmf.common.table.VectorIndex object at 0x124edc730>, <hdmf.common.table.VectorData object at 0x124edc2b0>, <hdmf.common.table.VectorIndex object at 0x124edc370>, <hdmf.common.table.VectorData object at 0x124edc6d0>)</span></div><div style=\"margin-left: 20px;\" class=\"container-fields\"><span class=\"field-key\" title=\".fields['units'].fields['waveform_unit']\">waveform_unit:</span> <span class=\"field-value\">volts</span></div></details><div style=\"margin-left: 0px;\" class=\"container-fields\"><span class=\"field-key\" title=\".fields['experiment_description']\">experiment_description:</span> <span class=\"field-value\">Cognitive timing task in which subject attempts to reproduce interval between two cues</span></div><div style=\"margin-left: 0px;\" class=\"container-fields\"><span class=\"field-key\" title=\".fields['session_id']\">session_id:</span> <span class=\"field-value\">20161211</span></div><div style=\"margin-left: 0px;\" class=\"container-fields\"><span class=\"field-key\" title=\".fields['lab']\">lab:</span> <span class=\"field-value\">Jazayeri</span></div><div style=\"margin-left: 0px;\" class=\"container-fields\"><span class=\"field-key\" title=\".fields['institution']\">institution:</span> <span class=\"field-value\">Massachusetts Institute of Technology</span></div></div>"
      ],
      "text/plain": [
       "root pynwb.file.NWBFile at 0x4914482768\n",
       "Fields:\n",
       "  devices: {\n",
       "    electrode_probe_1 <class 'pynwb.device.Device'>,\n",
       "    electrode_probe_2 <class 'pynwb.device.Device'>,\n",
       "    electrode_probe_3 <class 'pynwb.device.Device'>\n",
       "  }\n",
       "  electrode_groups: {\n",
       "    electrode_group_1 <class 'pynwb.ecephys.ElectrodeGroup'>,\n",
       "    electrode_group_2 <class 'pynwb.ecephys.ElectrodeGroup'>,\n",
       "    electrode_group_3 <class 'pynwb.ecephys.ElectrodeGroup'>\n",
       "  }\n",
       "  electrodes: electrodes <class 'hdmf.common.table.DynamicTable'>\n",
       "  experiment_description: Cognitive timing task in which subject attempts to reproduce interval between two cues\n",
       "  experimenter: ['Hansem Sohn']\n",
       "  file_create_date: [datetime.datetime(2021, 10, 29, 22, 31, 50, 351047, tzinfo=tzoffset(None, -14400))]\n",
       "  identifier: 8969f328-3929-11ec-8077-43176b153428\n",
       "  institution: Massachusetts Institute of Technology\n",
       "  intervals: {\n",
       "    trials <class 'pynwb.epoch.TimeIntervals'>\n",
       "  }\n",
       "  lab: Jazayeri\n",
       "  related_publications: ['http://dx.doi.org/10.1016/j.neuron.2019.06.012']\n",
       "  session_description: Data from monkey Haydn performing ready-set-go time interval reproduction task. This file contains continuous segments of the full session on 2016-12-11 that can be used for training models for the Neural Latents Benchmark.\n",
       "  session_id: 20161211\n",
       "  session_start_time: 2016-12-11 00:00:00-05:00\n",
       "  subject: subject pynwb.file.Subject at 0x4914527872\n",
       "Fields:\n",
       "  age: P4Y\n",
       "  sex: M\n",
       "  species: Macaca mulatta\n",
       "  subject_id: Haydn\n",
       "\n",
       "  timestamps_reference_time: 2016-12-11 00:00:00-05:00\n",
       "  trials: trials <class 'pynwb.epoch.TimeIntervals'>\n",
       "  units: units <class 'pynwb.misc.Units'>"
      ]
     },
     "execution_count": 7,
     "metadata": {},
     "output_type": "execute_result"
    }
   ],
   "source": [
    "with NWBHDF5IO(\"sub-Haydn_desc-train_ecephys.nwb\", \"r\") as io:\n",
    "    read_nwbfile = io.read()\n",
    "read_nwbfile"
   ]
  },
  {
   "cell_type": "markdown",
   "id": "e9547390",
   "metadata": {},
   "source": [
    "It is recommended to link the instance of the `ExternalResources` class to the file in order for `ExternalResources` to correctly keep track of which files have the objects that have external references."
   ]
  },
  {
   "cell_type": "code",
   "execution_count": 8,
   "id": "dfbbdcae",
   "metadata": {},
   "outputs": [
    {
     "name": "stderr",
     "output_type": "stream",
     "text": [
      "/Users/mavaylon/Research/NWB/hdmf2/hdmf/src/hdmf/container.py:210: UserWarning: ExternalResources is experimental -- it may be removed in the future and is not guaranteed to maintain backward compatibility\n",
      "  warn(_exp_warn_msg(cls))\n"
     ]
    }
   ],
   "source": [
    "er = ExternalResources() \n",
    "read_nwbfile.link_resources(er)"
   ]
  },
  {
   "cell_type": "markdown",
   "id": "5273434e",
   "metadata": {},
   "source": [
    "To create the metadata linkage from the experimenter, electrode group location, and subject species to their respective external references, the user can use the `add_ref` method. The user provides:\n",
    "1. file: This is an optional parameter if the `ExternalResources` instance has been linked to a file. When linked, the file will be used automatically.\n",
    "2. container: This is the NWB Object that is either being linked or the object that stores the attribute being linked. In the case of \"experimenter\", the container is the object that stores the experimenter attriubte.\n",
    "3. attribute: This is an optional field. It is set when the reference is being added to the \"attribute\" of a NWB object. \n",
    "4. key: This is the data defined term to represent the reference. For example, the `NWBFile` we loaded in as the value of experimenter to be \"Hansem Sohn\". This would be the value for key.\n",
    "5. entity_id: This is the ID for the resource the user wants to use. \n",
    "6. entity_uri: This is the URI for the resource the user wants to use. "
   ]
  },
  {
   "cell_type": "markdown",
   "id": "a5859517",
   "metadata": {},
   "source": [
    "### NWBFile Experimenter"
   ]
  },
  {
   "cell_type": "code",
   "execution_count": 9,
   "id": "3b1250ed",
   "metadata": {},
   "outputs": [
    {
     "data": {
      "text/plain": [
       "(<hdmf.common.resources.Key at 0x1247f4eb0>,\n",
       " <hdmf.common.resources.Entity at 0x12506b460>)"
      ]
     },
     "execution_count": 9,
     "metadata": {},
     "output_type": "execute_result"
    }
   ],
   "source": [
    "er.add_ref(\n",
    "    container=read_nwbfile,\n",
    "    attribute=\"experimenter\",\n",
    "    key=\"Hansem Sohn\",\n",
    "    entity_id='ORCID:0000-0001-8593-7473', \n",
    "    entity_uri='https://orcid.org/0000-0001-8593-7473')"
   ]
  },
  {
   "cell_type": "markdown",
   "id": "1debc2ba",
   "metadata": {},
   "source": [
    "### ElectrodeGroup Location"
   ]
  },
  {
   "cell_type": "code",
   "execution_count": 10,
   "id": "f98dea95",
   "metadata": {},
   "outputs": [
    {
     "data": {
      "text/plain": [
       "(<hdmf.common.resources.Key at 0x124edcb20>,\n",
       " <hdmf.common.resources.Entity at 0x124edcd00>)"
      ]
     },
     "execution_count": 10,
     "metadata": {},
     "output_type": "execute_result"
    }
   ],
   "source": [
    "er.add_ref(\n",
    "    container=read_nwbfile.electrode_groups['electrode_group_1'],\n",
    "    attribute=\"location\",\n",
    "    key=\"Dorsomedial frontal cortex\",\n",
    "    entity_id=\"ID\", \n",
    "    entity_uri=\"URI\", \n",
    ")"
   ]
  },
  {
   "cell_type": "markdown",
   "id": "207ab165",
   "metadata": {},
   "source": [
    "### Subject Species"
   ]
  },
  {
   "cell_type": "code",
   "execution_count": 11,
   "id": "56e31a72",
   "metadata": {},
   "outputs": [
    {
     "data": {
      "text/plain": [
       "(<hdmf.common.resources.Key at 0x124edc9a0>,\n",
       " <hdmf.common.resources.Entity at 0x124edc8e0>)"
      ]
     },
     "execution_count": 11,
     "metadata": {},
     "output_type": "execute_result"
    }
   ],
   "source": [
    "er.add_ref(\n",
    "    container=read_nwbfile.subject,\n",
    "    attribute='species',\n",
    "    key='Macaca mulatta',\n",
    "    entity_id='NCBI_TAXON:9544',\n",
    "    entity_uri='https://www.ncbi.nlm.nih.gov/Taxonomy/Browser/wwwtax.cgi?mode=info&id=9544'\n",
    ")"
   ]
  },
  {
   "cell_type": "markdown",
   "id": "a54673a7",
   "metadata": {},
   "source": [
    "We can see that the linked `ExternalResources` instance has been populated."
   ]
  },
  {
   "cell_type": "code",
   "execution_count": 12,
   "id": "5003fe24",
   "metadata": {},
   "outputs": [
    {
     "data": {
      "text/html": [
       "\n",
       "        <style>\n",
       "            .container-fields {\n",
       "                font-family: \"Open Sans\", Arial, sans-serif;\n",
       "            }\n",
       "            .container-fields .field-value {\n",
       "                color: #00788E;\n",
       "            }\n",
       "            .container-fields details > summary {\n",
       "                cursor: pointer;\n",
       "                display: list-item;\n",
       "            }\n",
       "            .container-fields details > summary:hover {\n",
       "                color: #0A6EAA;\n",
       "            }\n",
       "        </style>\n",
       "        \n",
       "        <script>\n",
       "            function copyToClipboard(text) {\n",
       "                navigator.clipboard.writeText(text).then(function() {\n",
       "                    console.log('Copied to clipboard: ' + text);\n",
       "                }, function(err) {\n",
       "                    console.error('Could not copy text: ', err);\n",
       "                });\n",
       "            }\n",
       "\n",
       "            document.addEventListener('DOMContentLoaded', function() {\n",
       "                let fieldKeys = document.querySelectorAll('.container-fields .field-key');\n",
       "                fieldKeys.forEach(function(fieldKey) {\n",
       "                    fieldKey.addEventListener('click', function() {\n",
       "                        let accessCode = fieldKey.getAttribute('title').replace('Access code: ', '');\n",
       "                        copyToClipboard(accessCode);\n",
       "                    });\n",
       "                });\n",
       "            });\n",
       "        </script>\n",
       "        <div class='container-wrap'><div class='container-header'><div class='xr-obj-type'><h3>external_resources (ExternalResources)</h3></div></div><details><summary style=\"display: list-item; margin-left: 0px;\" class=\"container-fields field-key\" title=\".fields['keys']\"><b>keys</b></summary></details><details><summary style=\"display: list-item; margin-left: 0px;\" class=\"container-fields field-key\" title=\".fields['files']\"><b>files</b></summary></details><details><summary style=\"display: list-item; margin-left: 0px;\" class=\"container-fields field-key\" title=\".fields['entities']\"><b>entities</b></summary></details><details><summary style=\"display: list-item; margin-left: 0px;\" class=\"container-fields field-key\" title=\".fields['objects']\"><b>objects</b></summary></details><details><summary style=\"display: list-item; margin-left: 0px;\" class=\"container-fields field-key\" title=\".fields['object_keys']\"><b>object_keys</b></summary></details><details><summary style=\"display: list-item; margin-left: 0px;\" class=\"container-fields field-key\" title=\".fields['entity_keys']\"><b>entity_keys</b></summary></details></div>"
      ],
      "text/plain": [
       "external_resources pynwb.resources.ExternalResources at 0x4914530336\n",
       "Fields:\n",
       "  entities: entities <class 'hdmf.common.resources.EntityTable'>\n",
       "  entity_keys: entity_keys <class 'hdmf.common.resources.EntityKeyTable'>\n",
       "  files: files <class 'hdmf.common.resources.FileTable'>\n",
       "  keys: keys <class 'hdmf.common.resources.KeyTable'>\n",
       "  object_keys: object_keys <class 'hdmf.common.resources.ObjectKeyTable'>\n",
       "  objects: objects <class 'hdmf.common.resources.ObjectTable'>"
      ]
     },
     "execution_count": 12,
     "metadata": {},
     "output_type": "execute_result"
    }
   ],
   "source": [
    "read_nwbfile.get_linked_resources()"
   ]
  },
  {
   "cell_type": "markdown",
   "id": "8a15277c",
   "metadata": {},
   "source": [
    "We can visualize `ExternalResources` as a single table:"
   ]
  },
  {
   "cell_type": "code",
   "execution_count": 15,
   "id": "8323dc43",
   "metadata": {},
   "outputs": [
    {
     "data": {
      "text/html": [
       "<div>\n",
       "<style scoped>\n",
       "    .dataframe tbody tr th:only-of-type {\n",
       "        vertical-align: middle;\n",
       "    }\n",
       "\n",
       "    .dataframe tbody tr th {\n",
       "        vertical-align: top;\n",
       "    }\n",
       "\n",
       "    .dataframe thead th {\n",
       "        text-align: right;\n",
       "    }\n",
       "</style>\n",
       "<table border=\"1\" class=\"dataframe\">\n",
       "  <thead>\n",
       "    <tr style=\"text-align: right;\">\n",
       "      <th></th>\n",
       "      <th>file_object_id</th>\n",
       "      <th>objects_idx</th>\n",
       "      <th>object_id</th>\n",
       "      <th>files_idx</th>\n",
       "      <th>object_type</th>\n",
       "      <th>relative_path</th>\n",
       "      <th>field</th>\n",
       "      <th>keys_idx</th>\n",
       "      <th>key</th>\n",
       "      <th>entities_idx</th>\n",
       "      <th>entity_id</th>\n",
       "      <th>entity_uri</th>\n",
       "    </tr>\n",
       "  </thead>\n",
       "  <tbody>\n",
       "    <tr>\n",
       "      <th>0</th>\n",
       "      <td>9c3a5c45-316c-493d-a712-03a01b662ee9</td>\n",
       "      <td>0</td>\n",
       "      <td>9c3a5c45-316c-493d-a712-03a01b662ee9</td>\n",
       "      <td>0</td>\n",
       "      <td>NWBFile</td>\n",
       "      <td>general/experimenter</td>\n",
       "      <td></td>\n",
       "      <td>0</td>\n",
       "      <td>Hansem Sohn</td>\n",
       "      <td>0</td>\n",
       "      <td>ORCID:0000-0001-8593-7473</td>\n",
       "      <td>https://orcid.org/0000-0001-8593-7473</td>\n",
       "    </tr>\n",
       "    <tr>\n",
       "      <th>1</th>\n",
       "      <td>9c3a5c45-316c-493d-a712-03a01b662ee9</td>\n",
       "      <td>1</td>\n",
       "      <td>f8641805-f93c-446f-8194-5fce08d22dbb</td>\n",
       "      <td>0</td>\n",
       "      <td>ElectrodeGroup</td>\n",
       "      <td>location</td>\n",
       "      <td></td>\n",
       "      <td>1</td>\n",
       "      <td>Dorsomedial frontal cortex</td>\n",
       "      <td>1</td>\n",
       "      <td>ID</td>\n",
       "      <td>URI</td>\n",
       "    </tr>\n",
       "    <tr>\n",
       "      <th>2</th>\n",
       "      <td>9c3a5c45-316c-493d-a712-03a01b662ee9</td>\n",
       "      <td>2</td>\n",
       "      <td>5ee39486-8625-4ac3-9691-ce9d724812a4</td>\n",
       "      <td>0</td>\n",
       "      <td>Subject</td>\n",
       "      <td>species</td>\n",
       "      <td></td>\n",
       "      <td>2</td>\n",
       "      <td>Macaca mulatta</td>\n",
       "      <td>2</td>\n",
       "      <td>NCBI_TAXON:9544</td>\n",
       "      <td>https://www.ncbi.nlm.nih.gov/Taxonomy/Browser/...</td>\n",
       "    </tr>\n",
       "  </tbody>\n",
       "</table>\n",
       "</div>"
      ],
      "text/plain": [
       "                         file_object_id  objects_idx   \n",
       "0  9c3a5c45-316c-493d-a712-03a01b662ee9            0  \\\n",
       "1  9c3a5c45-316c-493d-a712-03a01b662ee9            1   \n",
       "2  9c3a5c45-316c-493d-a712-03a01b662ee9            2   \n",
       "\n",
       "                              object_id  files_idx     object_type   \n",
       "0  9c3a5c45-316c-493d-a712-03a01b662ee9          0         NWBFile  \\\n",
       "1  f8641805-f93c-446f-8194-5fce08d22dbb          0  ElectrodeGroup   \n",
       "2  5ee39486-8625-4ac3-9691-ce9d724812a4          0         Subject   \n",
       "\n",
       "          relative_path field  keys_idx                         key   \n",
       "0  general/experimenter               0                 Hansem Sohn  \\\n",
       "1              location               1  Dorsomedial frontal cortex   \n",
       "2               species               2              Macaca mulatta   \n",
       "\n",
       "   entities_idx                  entity_id   \n",
       "0             0  ORCID:0000-0001-8593-7473  \\\n",
       "1             1                         ID   \n",
       "2             2            NCBI_TAXON:9544   \n",
       "\n",
       "                                          entity_uri  \n",
       "0              https://orcid.org/0000-0001-8593-7473  \n",
       "1                                                URI  \n",
       "2  https://www.ncbi.nlm.nih.gov/Taxonomy/Browser/...  "
      ]
     },
     "execution_count": 15,
     "metadata": {},
     "output_type": "execute_result"
    }
   ],
   "source": [
    "df=read_nwbfile.get_linked_resources().to_dataframe()\n",
    "df"
   ]
  },
  {
   "cell_type": "markdown",
   "id": "d830c524",
   "metadata": {},
   "source": [
    "As mentioned prior, `NERD` and the `NWBFile` are written separately."
   ]
  },
  {
   "cell_type": "code",
   "execution_count": null,
   "id": "29de30e4",
   "metadata": {},
   "outputs": [],
   "source": [
    "with NWBHDF5IO(\"NWBfile_ER_Example.nwb\", \"w\") as io:\n",
    "    io.write(nwbfile)"
   ]
  },
  {
   "cell_type": "code",
   "execution_count": null,
   "id": "85fc24ca",
   "metadata": {},
   "outputs": [],
   "source": [
    "er.to_norm_tsv(path='./')"
   ]
  },
  {
   "cell_type": "markdown",
   "id": "16ae6848",
   "metadata": {},
   "source": [
    "## NERD Example with TermSet"
   ]
  },
  {
   "cell_type": "markdown",
   "id": "ec8b3cae",
   "metadata": {},
   "source": [
    "`TermSet` allows users to create their own subset of ontological references and is built upon the resources from LinkML.\n",
    "\n",
    "Use Cases:\n",
    "1. Validation of data. Currently, validation with a `TermSet` is only supported for `Data`, but we are in the talks to expand out to, i.e., experimenters. \n",
    "2. `TermSet` streamlines the user experience for adding new references to `ExternalResources` using `add_ref_term_set`.\n",
    "\n",
    "In order to see how to create a TermSet, refer to the [NERD guide](NERD_TermSet_How_to_Guide.ipynb) and also these relevant [LinkML resources](https://linkml.io/linkml/intro/tutorial06.html)"
   ]
  },
  {
   "cell_type": "markdown",
   "id": "80366fe6",
   "metadata": {},
   "source": [
    "![title](taxon.png)"
   ]
  },
  {
   "cell_type": "markdown",
   "id": "155fd10a",
   "metadata": {},
   "source": [
    "In this example, we will create a brand new `NWBFile` that stores a `DynamicTable` of species data. We create a new column, i.e a new instance of `VectorData`, that uses the optional `term_set` field. When provided a `TermSet`, the data will be validated according to that set of terms.\n",
    "\n",
    "For more details on how we handle validation with a `TermSet` please refer to the [NERD guide](NERD_TermSet_How_to_Guide.ipynb)."
   ]
  },
  {
   "cell_type": "code",
   "execution_count": 16,
   "id": "3a75d509",
   "metadata": {},
   "outputs": [],
   "source": [
    "terms = TermSet(term_schema_path='./species_term_set.yaml')"
   ]
  },
  {
   "cell_type": "code",
   "execution_count": 17,
   "id": "11d5be78",
   "metadata": {},
   "outputs": [],
   "source": [
    "session_start_time = datetime(2018, 4, 25, 2, 30, 3, tzinfo=tz.gettz(\"US/Pacific\"))\n",
    "\n",
    "nwbfile = NWBFile(\n",
    "    session_description=\"Mouse exploring an open field\",  # required\n",
    "    identifier=\"Mouse5_Day3\",  # required\n",
    "    session_start_time=session_start_time,  # required\n",
    "    session_id=\"session_1234\",  # optional\n",
    "    experimenter=[\"Dichter, Benjamin K.\", \"Smith, Alex\"],  # optional\n",
    "    lab=\"My Lab Name\",  # optional\n",
    "    institution=\"University of My Institution\",  # optional\n",
    "    related_publications=\"DOI:10.1016/j.neuron.2016.12.011\",  # optional\n",
    ")"
   ]
  },
  {
   "cell_type": "code",
   "execution_count": 18,
   "id": "b21f1c23",
   "metadata": {},
   "outputs": [],
   "source": [
    "col1 = VectorData(\n",
    "    name='Species_Data',\n",
    "    description='species from NCBI and Ensemble',\n",
    "    data=['Homo sapiens', 'Ursus arctos horribilis'],\n",
    "    term_set=terms,\n",
    ")\n",
    "\n",
    "species = DynamicTable(name='species', description='My species', columns=[col1],)\n"
   ]
  },
  {
   "cell_type": "markdown",
   "id": "8809b679",
   "metadata": {},
   "source": [
    "The `add_ref_term_set` method streamlines the original `add_ref` method. The `key` field is removed as the data values themselves will be used as keys, the `entity_id` and `entity_uri` fields will be populated from the values in the `TermSet`. If the user linked the `NWBFile` to the `ExternalResources` instance as in the prior example, then it is further streamlined, requiring only the `container` and possibly an `attribute`."
   ]
  },
  {
   "cell_type": "code",
   "execution_count": 19,
   "id": "01048cf7",
   "metadata": {},
   "outputs": [
    {
     "data": {
      "text/plain": [
       "True"
      ]
     },
     "execution_count": 19,
     "metadata": {},
     "output_type": "execute_result"
    }
   ],
   "source": [
    "er.add_ref_term_set(file=nwbfile,\n",
    "                    container=species,\n",
    "                    attribute='Species_Data',\n",
    "                   ) "
   ]
  },
  {
   "cell_type": "code",
   "execution_count": 20,
   "id": "509f4bca",
   "metadata": {},
   "outputs": [
    {
     "data": {
      "text/html": [
       "<div>\n",
       "<style scoped>\n",
       "    .dataframe tbody tr th:only-of-type {\n",
       "        vertical-align: middle;\n",
       "    }\n",
       "\n",
       "    .dataframe tbody tr th {\n",
       "        vertical-align: top;\n",
       "    }\n",
       "\n",
       "    .dataframe thead th {\n",
       "        text-align: right;\n",
       "    }\n",
       "</style>\n",
       "<table border=\"1\" class=\"dataframe\">\n",
       "  <thead>\n",
       "    <tr style=\"text-align: right;\">\n",
       "      <th></th>\n",
       "      <th>file_object_id</th>\n",
       "      <th>objects_idx</th>\n",
       "      <th>object_id</th>\n",
       "      <th>files_idx</th>\n",
       "      <th>object_type</th>\n",
       "      <th>relative_path</th>\n",
       "      <th>field</th>\n",
       "      <th>keys_idx</th>\n",
       "      <th>key</th>\n",
       "      <th>entities_idx</th>\n",
       "      <th>entity_id</th>\n",
       "      <th>entity_uri</th>\n",
       "    </tr>\n",
       "  </thead>\n",
       "  <tbody>\n",
       "    <tr>\n",
       "      <th>0</th>\n",
       "      <td>9c3a5c45-316c-493d-a712-03a01b662ee9</td>\n",
       "      <td>0</td>\n",
       "      <td>9c3a5c45-316c-493d-a712-03a01b662ee9</td>\n",
       "      <td>0</td>\n",
       "      <td>NWBFile</td>\n",
       "      <td>general/experimenter</td>\n",
       "      <td></td>\n",
       "      <td>0</td>\n",
       "      <td>Hansem Sohn</td>\n",
       "      <td>0</td>\n",
       "      <td>ORCID:0000-0001-8593-7473</td>\n",
       "      <td>https://orcid.org/0000-0001-8593-7473</td>\n",
       "    </tr>\n",
       "    <tr>\n",
       "      <th>1</th>\n",
       "      <td>9c3a5c45-316c-493d-a712-03a01b662ee9</td>\n",
       "      <td>1</td>\n",
       "      <td>f8641805-f93c-446f-8194-5fce08d22dbb</td>\n",
       "      <td>0</td>\n",
       "      <td>ElectrodeGroup</td>\n",
       "      <td>location</td>\n",
       "      <td></td>\n",
       "      <td>1</td>\n",
       "      <td>Dorsomedial frontal cortex</td>\n",
       "      <td>1</td>\n",
       "      <td>ID</td>\n",
       "      <td>URI</td>\n",
       "    </tr>\n",
       "    <tr>\n",
       "      <th>2</th>\n",
       "      <td>9c3a5c45-316c-493d-a712-03a01b662ee9</td>\n",
       "      <td>2</td>\n",
       "      <td>5ee39486-8625-4ac3-9691-ce9d724812a4</td>\n",
       "      <td>0</td>\n",
       "      <td>Subject</td>\n",
       "      <td>species</td>\n",
       "      <td></td>\n",
       "      <td>2</td>\n",
       "      <td>Macaca mulatta</td>\n",
       "      <td>2</td>\n",
       "      <td>NCBI_TAXON:9544</td>\n",
       "      <td>https://www.ncbi.nlm.nih.gov/Taxonomy/Browser/...</td>\n",
       "    </tr>\n",
       "    <tr>\n",
       "      <th>3</th>\n",
       "      <td>d8b53b75-c1cd-4ebd-bc2c-8067ed91438a</td>\n",
       "      <td>3</td>\n",
       "      <td>1966081e-cf7b-4137-8f57-0319dfa31355</td>\n",
       "      <td>1</td>\n",
       "      <td>VectorData</td>\n",
       "      <td></td>\n",
       "      <td></td>\n",
       "      <td>3</td>\n",
       "      <td>Homo sapiens</td>\n",
       "      <td>3</td>\n",
       "      <td>NCBI_TAXON:9606</td>\n",
       "      <td>https://www.ncbi.nlm.nih.gov/Taxonomy/Browser/...</td>\n",
       "    </tr>\n",
       "    <tr>\n",
       "      <th>4</th>\n",
       "      <td>d8b53b75-c1cd-4ebd-bc2c-8067ed91438a</td>\n",
       "      <td>3</td>\n",
       "      <td>1966081e-cf7b-4137-8f57-0319dfa31355</td>\n",
       "      <td>1</td>\n",
       "      <td>VectorData</td>\n",
       "      <td></td>\n",
       "      <td></td>\n",
       "      <td>4</td>\n",
       "      <td>Ursus arctos horribilis</td>\n",
       "      <td>4</td>\n",
       "      <td>NCBI_TAXON:116960</td>\n",
       "      <td>https://www.ncbi.nlm.nih.gov/Taxonomy/Browser/...</td>\n",
       "    </tr>\n",
       "  </tbody>\n",
       "</table>\n",
       "</div>"
      ],
      "text/plain": [
       "                         file_object_id  objects_idx   \n",
       "0  9c3a5c45-316c-493d-a712-03a01b662ee9            0  \\\n",
       "1  9c3a5c45-316c-493d-a712-03a01b662ee9            1   \n",
       "2  9c3a5c45-316c-493d-a712-03a01b662ee9            2   \n",
       "3  d8b53b75-c1cd-4ebd-bc2c-8067ed91438a            3   \n",
       "4  d8b53b75-c1cd-4ebd-bc2c-8067ed91438a            3   \n",
       "\n",
       "                              object_id  files_idx     object_type   \n",
       "0  9c3a5c45-316c-493d-a712-03a01b662ee9          0         NWBFile  \\\n",
       "1  f8641805-f93c-446f-8194-5fce08d22dbb          0  ElectrodeGroup   \n",
       "2  5ee39486-8625-4ac3-9691-ce9d724812a4          0         Subject   \n",
       "3  1966081e-cf7b-4137-8f57-0319dfa31355          1      VectorData   \n",
       "4  1966081e-cf7b-4137-8f57-0319dfa31355          1      VectorData   \n",
       "\n",
       "          relative_path field  keys_idx                         key   \n",
       "0  general/experimenter               0                 Hansem Sohn  \\\n",
       "1              location               1  Dorsomedial frontal cortex   \n",
       "2               species               2              Macaca mulatta   \n",
       "3                                     3                Homo sapiens   \n",
       "4                                     4     Ursus arctos horribilis   \n",
       "\n",
       "   entities_idx                  entity_id   \n",
       "0             0  ORCID:0000-0001-8593-7473  \\\n",
       "1             1                         ID   \n",
       "2             2            NCBI_TAXON:9544   \n",
       "3             3            NCBI_TAXON:9606   \n",
       "4             4          NCBI_TAXON:116960   \n",
       "\n",
       "                                          entity_uri  \n",
       "0              https://orcid.org/0000-0001-8593-7473  \n",
       "1                                                URI  \n",
       "2  https://www.ncbi.nlm.nih.gov/Taxonomy/Browser/...  \n",
       "3  https://www.ncbi.nlm.nih.gov/Taxonomy/Browser/...  \n",
       "4  https://www.ncbi.nlm.nih.gov/Taxonomy/Browser/...  "
      ]
     },
     "execution_count": 20,
     "metadata": {},
     "output_type": "execute_result"
    }
   ],
   "source": [
    "er.to_dataframe()"
   ]
  },
  {
   "cell_type": "code",
   "execution_count": null,
   "id": "f1e6d4cc",
   "metadata": {},
   "outputs": [],
   "source": []
  }
 ],
 "metadata": {
  "kernelspec": {
   "display_name": "Python 3 (ipykernel)",
   "language": "python",
   "name": "python3"
  },
  "language_info": {
   "codemirror_mode": {
    "name": "ipython",
    "version": 3
   },
   "file_extension": ".py",
   "mimetype": "text/x-python",
   "name": "python",
   "nbconvert_exporter": "python",
   "pygments_lexer": "ipython3",
   "version": "3.10.12"
  }
 },
 "nbformat": 4,
 "nbformat_minor": 5
}
